{
 "cells": [
  {
   "cell_type": "markdown",
   "id": "079e90f6-482e-472f-b680-0ca69eea79e1",
   "metadata": {
    "tags": []
   },
   "source": [
    "## 1) Get used to moving into/selecting adjacent cells in normal mode\n",
    "\n",
    "\n",
    "Now that you are more familiar with how to use Vim keybindings in normal mode, you should learn how to move into adjacent cells from normal mode. To move into adjacent cells, use:\n",
    "\n",
    "Keystrokes | Effects\n",
    ":---:|---\n",
    "<kbd>Ctrl</kbd> + <kbd>K</kbd> | Select the cell above\n",
    "<kbd>Ctrl</kbd> + <kbd>J</kbd> | Select the cell below\n",
    "\n",
    "Using only these keystrokes and <kbd>Shift</kbd> + <kbd>Enter</kbd>, run the following cells in the correct order, as listed in the cells themselves, to finish the exercise."
   ]
  },
  {
   "cell_type": "code",
   "execution_count": 9,
   "id": "cd61af10-9bea-4c89-bf33-b486dffda15e",
   "metadata": {},
   "outputs": [],
   "source": [
    "# This cell needs to be run second\n",
    "\n",
    "if first == True:\n",
    "    second = True"
   ]
  },
  {
   "cell_type": "code",
   "execution_count": 15,
   "id": "260f0da8-821c-463d-83a7-e7bdcd04b857",
   "metadata": {
    "tags": []
   },
   "outputs": [],
   "source": [
    "# This cell needs to be run fourth\n",
    "\n",
    "if third == True:\n",
    "    fourth = True"
   ]
  },
  {
   "cell_type": "code",
   "execution_count": 11,
   "id": "4d59597e-50b9-4f9a-a0fd-1d1b7fc4818a",
   "metadata": {
    "tags": []
   },
   "outputs": [],
   "source": [
    "# This cell needs to be run third\n",
    "\n",
    "if second == True:\n",
    "    third = True"
   ]
  },
  {
   "cell_type": "code",
   "execution_count": 19,
   "id": "bee1f6d0-8888-4965-be84-b7d44172fb67",
   "metadata": {
    "tags": []
   },
   "outputs": [],
   "source": [
    "# This cell needs to be run fifth\n",
    "\n",
    "if fourth == True:\n",
    "    fifth = True"
   ]
  },
  {
   "cell_type": "code",
   "execution_count": 6,
   "id": "89e02b30-8397-4cef-b32b-17060673afe8",
   "metadata": {
    "tags": []
   },
   "outputs": [],
   "source": [
    "# This cell needs to be run first\n",
    "\n",
    "first = True\n",
    "second = False\n",
    "third = False\n",
    "fourth = False\n",
    "fifth = False"
   ]
  },
  {
   "cell_type": "code",
   "execution_count": 21,
   "id": "e688dba0-1d3f-4d6e-84ac-ea26f6d10904",
   "metadata": {
    "tags": []
   },
   "outputs": [
    {
     "name": "stdout",
     "output_type": "stream",
     "text": [
      "Hooray!\n"
     ]
    }
   ],
   "source": [
    "# This cell needs to be run last\n",
    "\n",
    "if fifth == True:\n",
    "    print('Hooray!')\n",
    "else:\n",
    "    print('Not quite :(')"
   ]
  },
  {
   "cell_type": "markdown",
   "id": "424cc8a9-d699-438f-961d-e84acfbc6a59",
   "metadata": {
    "tags": []
   },
   "source": [
    "## 2) Get used to selecting multiple cells at the same time in normal mode\n",
    "\n",
    "Much like the previous exercise, this exercise is about moving to adjacent cells. This time though, you are selecting multiple cells at once. To do this use: \n",
    "Keystrokes | Effects\n",
    ":---:|---\n",
    "<kbd>Ctrl</kbd> + <kbd>Shift</kbd> + <kbd>K</kbd> | Extend selection to the cell above\n",
    "<kbd>Ctrl</kbd> + <kbd>Shift</kbd> + <kbd>J</kbd> | Extend selection to the cell below\n",
    "\n",
    "Like before, use only these keystrokes and <kbd>Shift</kbd> + <kbd>Enter</kbd> to run the following cells all at once and finish the exercise."
   ]
  },
  {
   "cell_type": "code",
   "execution_count": 47,
   "id": "50fbb18d-67d4-4ec5-abb3-e24b44496961",
   "metadata": {},
   "outputs": [],
   "source": [
    "# Select this cell ...\n",
    "\n",
    "first = True"
   ]
  },
  {
   "cell_type": "code",
   "execution_count": 26,
   "id": "677de64a-a0ed-427c-9c59-29a7934b9d92",
   "metadata": {},
   "outputs": [],
   "source": [
    "# ... and this cell ...\n",
    "\n",
    "second = True"
   ]
  },
  {
   "cell_type": "code",
   "execution_count": 27,
   "id": "0d5c2b58-8c1b-456c-a9fc-376e4add7cd3",
   "metadata": {},
   "outputs": [
    {
     "name": "stdout",
     "output_type": "stream",
     "text": [
      "Hooray!\n"
     ]
    }
   ],
   "source": [
    "# ... and even this cell!\n",
    "\n",
    "if first and second:\n",
    "    print('Hooray!')"
   ]
  },
  {
   "cell_type": "markdown",
   "id": "b5c9d083-e964-4cd6-934f-e4100ea1f4c7",
   "metadata": {},
   "source": [
    "## 3) Get used to moving into/selecting the first and last cells in normal mode\n",
    "\n",
    "Before we get much further, you might have noticed that moving around with <kbd>Ctrl</kbd> + <kbd>J/K</kbd> can move into cells without centering them on the screen. This can be annoying, but it is also fixable. To demonstrate how to do this, we have the following shortcuts:\n",
    "\n",
    "Keystrokes | Effects\n",
    ":---:|---\n",
    "<kbd>Ctrl</kbd> + <kbd>O</kbd> , <kbd>G</kbd> | Select the first cell in the Jupyter Notebook\n",
    "<kbd>Ctrl</kbd> + <kbd>O</kbd> , <kbd>Ctrl</kbd> + <kbd>G</kbd> | Select the last cell in the Jupyter Notebook\n",
    "<kbd>Ctrl</kbd> + <kbd>O</kbd> , <kbd>Z</kbd> + <kbd>Z</kbd> | Center the selected cell on the screen\n",
    "\n",
    "Using these keystrokes, move to the top of this notebook and move to the bottom of this notebook. When at the last cell of the notebook, center it on the screen. When you are done, move onto exercise 4."
   ]
  },
  {
   "cell_type": "markdown",
   "id": "f1ba7d56-4465-4be8-96b8-aec2baa3228a",
   "metadata": {},
   "source": [
    "## 4) Getting used to moving cells around\n",
    "\n",
    "Moving and reordering cells can be a very useful ability. This exercise is about using normal mode to move cells into a particular order. This can be done with:\n",
    "\n",
    "Keystrokes | Effects\n",
    ":---:|---\n",
    "<kbd>Ctrl</kbd> + <kbd>Y</kbd> | Move the current cell up\n",
    "<kbd>Ctrl</kbd> + <kbd>E</kbd> | Move the current cell down\n",
    "<kbd>Ctrl</kbd> + <kbd>O</kbd> , <kbd>U</kbd> | Undo a cell action\n",
    "\n",
    "Using these keystrokes as well as those for selecting adjacent cells, move the cells below into the order listed by the cells in order to complete the exercise."
   ]
  },
  {
   "cell_type": "code",
   "execution_count": 31,
   "id": "593f6dd6-3400-448a-86ed-a398b00d1f7b",
   "metadata": {
    "tags": []
   },
   "outputs": [],
   "source": [
    "# This cell needs to be run fourth\n",
    "\n",
    "if third == True:\n",
    "    fourth = True"
   ]
  },
  {
   "cell_type": "code",
   "execution_count": null,
   "id": "bce56124-631f-419e-abf6-655c435a98a0",
   "metadata": {
    "tags": []
   },
   "outputs": [],
   "source": [
    "# This cell needs to be run second\n",
    "\n",
    "if first == True:\n",
    "    second = True"
   ]
  },
  {
   "cell_type": "code",
   "execution_count": 30,
   "id": "05d60bba-d58a-42b9-8f69-f31d1730ab97",
   "metadata": {
    "tags": []
   },
   "outputs": [],
   "source": [
    "# This cell needs to be run third\n",
    "\n",
    "if second == True:\n",
    "    third = True"
   ]
  },
  {
   "cell_type": "code",
   "execution_count": 32,
   "id": "6125135a-ef95-4877-b3aa-9f8a3e9479b3",
   "metadata": {
    "tags": []
   },
   "outputs": [],
   "source": [
    "# This cell needs to be run fifth\n",
    "\n",
    "if fourth == True:\n",
    "    fifth = True"
   ]
  },
  {
   "cell_type": "code",
   "execution_count": 28,
   "id": "b570ff31-ae07-4968-8761-73fe7eb9cb1f",
   "metadata": {
    "tags": []
   },
   "outputs": [],
   "source": [
    "# This cell needs to be run first\n",
    "\n",
    "first = True"
   ]
  },
  {
   "cell_type": "code",
   "execution_count": 33,
   "id": "5a2219a5-246f-4ee4-95cd-86ee4f7ea3e7",
   "metadata": {
    "tags": []
   },
   "outputs": [
    {
     "name": "stdout",
     "output_type": "stream",
     "text": [
      "Hooray!\n"
     ]
    }
   ],
   "source": [
    "# This cell needs to be run last\n",
    "\n",
    "if fifth == True:\n",
    "    print('Hooray!')\n",
    "else:\n",
    "    print('Not quite :(')"
   ]
  },
  {
   "cell_type": "markdown",
   "id": "8d6cae64-bf23-4e0f-ba86-05159786dbf4",
   "metadata": {},
   "source": [
    "## 5) Get used to inserting cells below and above using normal mode\n",
    "\n",
    "In addition to moving cells around, you can also insert cells above or below the currently selected cell. You can use the following keyboard shortcuts:\n",
    "\n",
    "Keystrokes | Effects\n",
    ":---:|---\n",
    "<kbd>Ctrl</kbd> + <kbd>O</kbd> , <kbd>Ctrl</kbd> + <kbd>O</kbd> | Insert a cell above\n",
    "<kbd>Ctrl</kbd> + <kbd>O</kbd> , <kbd>O</kbd> | Insert a cell below\n",
    "\n",
    "Using these shortcuts, add three empty cells above and below the cell marked for this exercise. Once you're done, *save this notebook* and run the code block labeled as the verifier to check that you have the right number of cells."
   ]
  },
  {
   "cell_type": "code",
   "execution_count": null,
   "id": "c77cdb3a-c822-46a0-be78-71b4d13eac82",
   "metadata": {},
   "outputs": [],
   "source": [
    "# Please insert some cells above me and below me!"
   ]
  },
  {
   "cell_type": "code",
   "execution_count": 19,
   "id": "54a8f976-cec2-46f3-a502-0dbc0629e6ea",
   "metadata": {
    "tags": []
   },
   "outputs": [
    {
     "name": "stdout",
     "output_type": "stream",
     "text": [
      "Hooray!\n"
     ]
    }
   ],
   "source": [
    "# This cell is the verifier\n",
    "import json\n",
    "\n",
    "exercise = 5;\n",
    "i = 0;\n",
    "start = 0;\n",
    "end = 0;\n",
    "f = open('01.01-vim_normal.ipynb')\n",
    "book = json.load(f)\n",
    "\n",
    "# This loop checks each cell of the notebook for if it is the start of an exercise\n",
    "# and if the exercise it is checking is the exercise stored in the variable\n",
    "while i < len(book['cells'])-1:\n",
    "    if len(book['cells'][i]['source']) != 0:\n",
    "        contents = book['cells'][i]['source'][0]\n",
    "        if contents[:3] == '## ':\n",
    "            n = contents.index(' ')\n",
    "            m = contents.index(')')\n",
    "            l = contents[n+1:m]\n",
    "            if int(l) == exercise:\n",
    "                start = i;\n",
    "            elif int(l) == exercise+1:\n",
    "                end = i;\n",
    "    i = i + 1\n",
    "\n",
    "# This checks the cells between the two points to see if they pass the presccribed\n",
    "# conditions for the exercise. It checks that there are the right number of cells and\n",
    "# that the middle cell is the original cell.\n",
    "if end-start == 9 and book['cells'][start+4]['source'][0] == '# Please insert some cells above me and below me!':\n",
    "    print('Hooray!')\n",
    "else:\n",
    "    print('Boo!')"
   ]
  },
  {
   "cell_type": "markdown",
   "id": "49ffc93a-a007-4a72-beb9-01e48db5a9d8",
   "metadata": {},
   "source": [
    "## 6) Yanking, pasting, and deleting cells\n",
    "\n",
    "If you want to copy a cell, delete a cell, or paste a cell anywhere in the notebook, there are ways to do that as well. To do it, use the following:\n",
    "\n",
    "Keystrokes | Effects\n",
    ":---:|---\n",
    "<kbd>Ctrl</kbd> + <kbd>O</kbd> , <kbd>Y</kbd> | Copy or 'yank' the currently selected cell onto your system clipboard\n",
    "<kbd>Ctrl</kbd> + <kbd>O</kbd> , <kbd>D</kbd> | Cut or 'delete' the currently selected cell onto your system clipboard\n",
    "<kbd>Ctrl</kbd> + <kbd>O</kbd> , <kbd>P</kbd> | Paste a cell from your system clipboard below the currently selected cell\n",
    "\n",
    "There are several simple tasks for this exercise. While navigating around with Vim shortcuts, remove cells that tell you to remove them and place them where they're needed, copy the cells that you're instructed to copy and paste them as many times as you're told to paste them. Afterwards, select all the cells for the exercise and run them to complete the exercise"
   ]
  },
  {
   "cell_type": "code",
   "execution_count": 34,
   "id": "958d8dac-fedf-4c15-bda6-09a77ee4d8bd",
   "metadata": {
    "tags": []
   },
   "outputs": [],
   "source": [
    "# This cell should run first and only once\n",
    "\n",
    "x = 0\n",
    "first = True\n",
    "second = False\n",
    "third = False\n",
    "fourth = False"
   ]
  },
  {
   "cell_type": "code",
   "execution_count": 38,
   "id": "1ec81e11-e26f-47ac-b3ab-de065d1f7fed",
   "metadata": {
    "tags": []
   },
   "outputs": [],
   "source": [
    "# Make sure there are four copies of this cell\n",
    "\n",
    "x = x + 1"
   ]
  },
  {
   "cell_type": "code",
   "execution_count": 40,
   "id": "df9ad056-d405-480d-804d-89c557f2dc91",
   "metadata": {
    "tags": []
   },
   "outputs": [],
   "source": [
    "# This cell needs to be run second\n",
    "\n",
    "if first == True:\n",
    "    second = True"
   ]
  },
  {
   "cell_type": "code",
   "execution_count": 42,
   "id": "7c9efb8c-e70f-4919-82fc-74f6ebc77db3",
   "metadata": {
    "tags": []
   },
   "outputs": [],
   "source": [
    "# This cell needs to be run fourth\n",
    "\n",
    "if third == True:\n",
    "    fourth = True"
   ]
  },
  {
   "cell_type": "code",
   "execution_count": 41,
   "id": "09985289-11c9-4db3-9e17-a578d31ba855",
   "metadata": {
    "tags": []
   },
   "outputs": [],
   "source": [
    "# This cell needs to be run third\n",
    "\n",
    "if second == True:\n",
    "    third = True"
   ]
  },
  {
   "cell_type": "code",
   "execution_count": 43,
   "id": "512c50a5-3676-48df-833f-8b7bf8601f0f",
   "metadata": {
    "tags": []
   },
   "outputs": [],
   "source": [
    "# This cell needs to be run fifth\n",
    "\n",
    "if fourth == True:\n",
    "    order = True"
   ]
  },
  {
   "cell_type": "code",
   "execution_count": 44,
   "id": "6400b409-2f54-428c-b34f-1a1338cc9508",
   "metadata": {},
   "outputs": [
    {
     "name": "stdout",
     "output_type": "stream",
     "text": [
      "Hooray!\n"
     ]
    }
   ],
   "source": [
    "# This is the verification cell\n",
    "\n",
    "if x == 4 and order == True:\n",
    "    print('Hooray!')"
   ]
  },
  {
   "cell_type": "markdown",
   "id": "105f16bc-aa7c-459c-bd17-11e689ed67e8",
   "metadata": {},
   "source": [
    "## 7) Changing cells into markdown, code, or raw\n",
    "\n",
    "When editing a notebook, it can be nice to quickly switch between a cell being in Markdown, Code, or even Raw mode. For that purpose, you can use the following:\n",
    "\n",
    "Keystrokes | Effects\n",
    ":---:|---\n",
    "<kbd>Ctrl</kbd> + <kbd>1</kbd> | Turn the cell into Code mode\n",
    "<kbd>Ctrl</kbd> + <kbd>2</kbd> | Turn the cell into Markdown mode\n",
    "<kbd>Ctrl</kbd> + <kbd>3</kbd> | Turn the cell into Raw mode\n",
    "\n",
    "Using these shortcuts and Vim navigation shortcuts, turn the following cells into the correct mode, *save this notebook* and run the verification cell to complete the exercise."
   ]
  },
  {
   "cell_type": "markdown",
   "id": "7579fc1b-84df-4eeb-9c61-4e063725ad41",
   "metadata": {},
   "source": [
    "##### I want to be turned into a raw cell, please!!!"
   ]
  },
  {
   "cell_type": "code",
   "execution_count": null,
   "id": "88d71c7d-6263-4b23-9fd3-abdf853af1dd",
   "metadata": {
    "tags": []
   },
   "outputs": [],
   "source": [
    "# I want to be turned into a markdown cell :)"
   ]
  },
  {
   "cell_type": "raw",
   "id": "3ef919db-3778-4c06-a0e1-9f21d81324e2",
   "metadata": {},
   "source": [
    "# I wish I could be a code cell some day..."
   ]
  },
  {
   "cell_type": "code",
   "execution_count": 46,
   "id": "4bb76784-de2d-49ed-9528-587ba93518e2",
   "metadata": {
    "tags": []
   },
   "outputs": [
    {
     "name": "stdout",
     "output_type": "stream",
     "text": [
      "Hooray!\n"
     ]
    }
   ],
   "source": [
    "# This cell is the verifier\n",
    "import json\n",
    "\n",
    "exercise = 7;\n",
    "i = 0;\n",
    "start = 0;\n",
    "end = 0;\n",
    "f = open('01.01-vim_normal.ipynb')\n",
    "book = json.load(f)\n",
    "\n",
    "# This loop checks each cell of the notebook for if it is the start of an exercise\n",
    "# and if the exercise it is checking is the exercise stored in the variable\n",
    "while i < len(book['cells'])-1:\n",
    "    if len(book['cells'][i]['source']) != 0:\n",
    "        contents = book['cells'][i]['source'][0]\n",
    "        if contents[:3] == '## ':\n",
    "            n = contents.index(' ')\n",
    "            m = contents.index(')')\n",
    "            l = contents[n+1:m]\n",
    "            if int(l) == exercise:\n",
    "                start = i;\n",
    "    i = i + 1\n",
    "\n",
    "# This assigns truth values to the exercise conditions\n",
    "raw = book['cells'][start+1]['cell_type']=='raw'\n",
    "markdown = book['cells'][start+2]['cell_type']=='markdown'\n",
    "code = book['cells'][start+3]['cell_type']=='code'\n",
    "\n",
    "# This checks the cells between the two points to see if they pass the presccribed\n",
    "# conditions for the exercise. It checks that the desired cells are the correct type\n",
    "if raw and markdown and code:\n",
    "    print('Hooray!')\n",
    "else:\n",
    "    print('Boo!')"
   ]
  },
  {
   "cell_type": "markdown",
   "id": "95292f7d-6698-46a2-aac2-52acc7fec230",
   "metadata": {},
   "source": [
    "## 8) Spliting and merging cells\n",
    "\n",
    "Sometimes, it can be convenient to split a cell that is currently being used into two different cells or it may be useful to merge two different cells together into one cell. These shortcuts make that possible:\n",
    "\n",
    "Keystrokes | Effects\n",
    ":---:|---\n",
    "<kbd>-</kbd> | Split the cell at the cursor\n",
    "<kbd>Shift</kbd> + <kbd>M</kbd> | Merge all selected cells into one cell\n",
    "\n",
    "On splitting a cell, the cell will be split not only on a line, but right down to the very character that is selected by the cursor in normal mode. Using Vim keybindings to select multiple cells for merging, splitting, and deleting, complete the following exercise:"
   ]
  },
  {
   "cell_type": "code",
   "execution_count": null,
   "id": "003a594c-5ab1-4130-b3fd-e5c94ccf878c",
   "metadata": {},
   "outputs": [],
   "source": [
    "# This cell needs to be merged with the cell below to complete mergeChecker\n",
    "def mergeChecker():"
   ]
  },
  {
   "cell_type": "code",
   "execution_count": null,
   "id": "7517a2ba-873e-45e1-97a6-37077a239b68",
   "metadata": {},
   "outputs": [],
   "source": [
    "    return True\n",
    "\n",
    "split = True\n",
    "# SPLIT HERE ># #< SPLIT HERE #\n",
    "split = False"
   ]
  },
  {
   "cell_type": "code",
   "execution_count": null,
   "id": "ef4d4d5a-e3f6-445d-80a4-b80b1ec96098",
   "metadata": {},
   "outputs": [],
   "source": [
    "merge = False\n",
    "\n",
    "merge = mergeChecker()\n",
    "\n",
    "if split and merge:\n",
    "    print('Hooray!')"
   ]
  }
 ],
 "metadata": {
  "kernelspec": {
   "display_name": "Python 3 (ipykernel)",
   "language": "python",
   "name": "python3"
  },
  "language_info": {
   "codemirror_mode": {
    "name": "ipython",
    "version": 3
   },
   "file_extension": ".py",
   "mimetype": "text/x-python",
   "name": "python",
   "nbconvert_exporter": "python",
   "pygments_lexer": "ipython3",
   "version": "3.11.4"
  }
 },
 "nbformat": 4,
 "nbformat_minor": 5
}
