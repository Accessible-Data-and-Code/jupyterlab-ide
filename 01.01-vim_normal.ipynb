{
 "cells": [
  {
   "cell_type": "markdown",
   "id": "079e90f6-482e-472f-b680-0ca69eea79e1",
   "metadata": {
    "tags": []
   },
   "source": [
    "## 1) Get used to moving into/selecting adjacent cells in normal mode\n",
    "\n",
    "\n",
    "Now that you are more familiar with how to use Vim keybindings in normal mode, you should learn how to move into adjacent cells from normal mode. To move into adjacent cells, use:\n",
    "\n",
    "Keystrokes | Effects\n",
    ":---:|---\n",
    "<kbd>Ctrl</kbd> + <kbd>K</kbd> | Select the cell above\n",
    "<kbd>Ctrl</kbd> + <kbd>J</kbd> | Select the cell below\n",
    "\n",
    "Using only these keystrokes and <kbd>Shift</kbd> + <kbd>Enter</kbd>, run the following cells in the correct order, as listed in the cells themselves, to finish the exercise."
   ]
  },
  {
   "cell_type": "raw",
   "id": "d8313112-756f-48f9-a7d7-53bd99d9f3e3",
   "metadata": {},
   "source": [
    "For this exercise, create a couple of different cells (does six seem right?) with boolean values that are contingent on other cells having been run beforehand. Put them in a non-standard order. Tell the user to switch between cells in order to have each boolean become true. Mention that switching in this way runs a cell automatically for markdown but not code cells. Also note that this keybinding ctrl j ctrl k works in insert mode as well."
   ]
  },
  {
   "cell_type": "markdown",
   "id": "424cc8a9-d699-438f-961d-e84acfbc6a59",
   "metadata": {
    "tags": []
   },
   "source": [
    "## 2) Get used to selecting multiple cells at the same time in normal mode\n",
    "\n",
    "Much like the previous exercise, this exercise is about moving to adjacent cells. This time though, you are selecting multiple cells at once. To do this use:\n",
    "\n",
    "Keystrokes | Effects\n",
    ":---:|---\n",
    "<kbd>Ctrl</kbd> + <kbd>Shift</kbd> + <kbd>K</kbd> | Extend selection to the cell above\n",
    "<kbd>Ctrl</kbd> + <kbd>Shift</kbd> + <kbd>J</kbd> | Extend selection to the cell below\n",
    "\n",
    "Like before, use only these keystrokes and <kbd>Shift</kbd> + <kbd>Enter</kbd> to run the following cells all at once and finish the exercise."
   ]
  },
  {
   "cell_type": "raw",
   "id": "c556639f-b80a-4bb0-aea7-9f2c5f775b51",
   "metadata": {
    "tags": []
   },
   "source": [
    "Note on this that you can run selected cells using shift enter. This will help with later parts of the tutorial.\n",
    "\n",
    "You can select multiple cells at one time with normal mode and Jupyter mode. In normal mode, you can select these cells using \"ctrl + shift + j\" to select below and \"ctrl + shift + k\" to select above."
   ]
  },
  {
   "cell_type": "code",
   "execution_count": 2,
   "id": "50fbb18d-67d4-4ec5-abb3-e24b44496961",
   "metadata": {},
   "outputs": [],
   "source": [
    "## Select this cell ..."
   ]
  },
  {
   "cell_type": "code",
   "execution_count": 3,
   "id": "677de64a-a0ed-427c-9c59-29a7934b9d92",
   "metadata": {},
   "outputs": [],
   "source": [
    "## ... and this cell ..."
   ]
  },
  {
   "cell_type": "code",
   "execution_count": 4,
   "id": "0d5c2b58-8c1b-456c-a9fc-376e4add7cd3",
   "metadata": {},
   "outputs": [],
   "source": [
    "## ... and even this cell!"
   ]
  },
  {
   "cell_type": "markdown",
   "id": "b5c9d083-e964-4cd6-934f-e4100ea1f4c7",
   "metadata": {},
   "source": [
    "## 3) Get used to moving into/selecting the first and last cells in normal mode\n",
    "\n",
    "Before we get much further, you might have noticed that moving around with <kbd>Ctrl</kbd> + <kbd>J/K</kbd> can move into cells without centering them on the screen. This can be annoying, but it is also fixable. To demonstrate how to do this, we have the following shortcuts:\n",
    "\n",
    "Keystrokes | Effects\n",
    ":---:|---\n",
    "<kbd>Ctrl</kbd> + <kbd>O</kbd> + <kbd>G</kbd> | Select the first cell in the Jupyter Notebook\n",
    "<kbd>Ctrl</kbd> + <kbd>O</kbd> + <kbd>Ctrl</kbd> + <kbd>G</kbd> | Select the last cell in the Jupyter Notebook\n",
    "<kbd>Ctrl</kbd> + <kbd>O</kbd> + <kbd>Z</kbd> + <kbd>Z</kbd> | Center the selected cell on the screen\n",
    "\n",
    "Using these keystrokes, move to the top of this notebook and move to the bottom of this notebook. When at the last cell of the notebook, center it on the screen. When you are done, move onto exercise 4."
   ]
  },
  {
   "cell_type": "raw",
   "id": "b018c658-d960-4971-9901-61ee6b9f2e1c",
   "metadata": {},
   "source": [
    "Include in this the keybindings. In the last cell of the document, also include how to center the cell. Centering the cell is probably best put here. Be open to changes for this."
   ]
  },
  {
   "cell_type": "markdown",
   "id": "f1ba7d56-4465-4be8-96b8-aec2baa3228a",
   "metadata": {},
   "source": [
    "## 4) Getting used to moving cells around\n",
    "\n",
    "Moving and reordering cells can be a very useful ability. This exercise is about using normal mode to move cells into a particular order. This can be done with:\n",
    "\n",
    "Keystrokes | Effects\n",
    ":---:|---\n",
    "<kbd>Ctrl</kbd> + <kbd>Y</kbd> | Move the current cell up\n",
    "<kbd>Ctrl</kbd> + <kbd>E</kbd> | Move the current cell down\n",
    "\n",
    "Using these keystrokes as well as those for selecting adjacent cells, move the cells below into the order listed by the cells in order to complete the exercise."
   ]
  },
  {
   "cell_type": "raw",
   "id": "f2caf3ee-c4fc-4e9e-8f81-16b2d84a7767",
   "metadata": {},
   "source": [
    "When implementing this exercise, it may be best to uninstall and reinstall the extension to see if it clears up some of the bugs. Document these results.\n",
    "\n",
    "There are several ways to move cells around using ```vim``` keybindings. In 'normal' mode, you can use \"ctrl + e\" to move the cell you are interacting with down one cell and \"ctrl + y\" to move the cell up. (Moving up seems to be bugged right now). In 'insert' mode, you cannot use this same approach."
   ]
  },
  {
   "cell_type": "code",
   "execution_count": 1,
   "id": "abcb4e17-e08c-4230-af5d-174f8414da6e",
   "metadata": {
    "tags": []
   },
   "outputs": [],
   "source": [
    "# Do not alter or move this cell\n",
    "\n",
    "second = False\n",
    "third = False"
   ]
  },
  {
   "cell_type": "code",
   "execution_count": 2,
   "id": "90af37ca-ddaf-4d12-a130-fbcf6178e378",
   "metadata": {
    "tags": []
   },
   "outputs": [],
   "source": [
    "# Put this cell second\n",
    "\n",
    "second = True"
   ]
  },
  {
   "cell_type": "code",
   "execution_count": 3,
   "id": "b79803c1-8875-4f82-b9fe-1380a3d30775",
   "metadata": {
    "tags": []
   },
   "outputs": [],
   "source": [
    "# Put this cell third\n",
    "\n",
    "if second == True:\n",
    "    third = True"
   ]
  },
  {
   "cell_type": "code",
   "execution_count": 4,
   "id": "f7ad92ff-d473-443c-9b8a-d47fc649c6f5",
   "metadata": {
    "tags": []
   },
   "outputs": [
    {
     "name": "stdout",
     "output_type": "stream",
     "text": [
      "Hooray!\n"
     ]
    }
   ],
   "source": [
    "if third == True:\n",
    "    print(\"Hooray!\")\n",
    "else:\n",
    "    print(\"Sorry, not quite!\")"
   ]
  },
  {
   "cell_type": "markdown",
   "id": "8d6cae64-bf23-4e0f-ba86-05159786dbf4",
   "metadata": {},
   "source": [
    "## 5) Get used to inserting cells below and above using normal mode\n",
    "\n",
    "In addition to moving cells around, you can also insert cells above or below the currently selected cell. You can use the following keyboard shortcuts:\n",
    "\n",
    "Keystrokes | Effects\n",
    ":---:|---\n",
    "<kbd>Ctrl</kbd> + <kbd>O</kbd> + <kbd>Ctrl</kbd> + <kbd>O</kbd> | Insert a cell above\n",
    "<kbd>Ctrl</kbd> + <kbd>O</kbd> + <kbd>O</kbd> | Insert a cell below\n",
    "\n",
    "Using these shortcuts, add three empty cells above and below the cell marked for this exercise. Once you're done, run the code block labeled as the verifier to check that you have the right number of cells."
   ]
  },
  {
   "cell_type": "raw",
   "id": "f376db70-b141-40e6-8ca2-4c7e551b047a",
   "metadata": {},
   "source": [
    "Have a cell around which the user inserts cells. Tell the user to insert a certain number of cells above and a certain number of cells below using the appropriate shortcuts (maybe 3 or 4). Attempt an implementation where, using [this tutorial](https://www.geeksforgeeks.org/read-json-file-using-python/https://www.geeksforgeeks.org/read-json-file-using-python), the notebook that the user has edited is read in and the markdown cell explaining the exercise is identified. If this is possible, the rest should just be array manipulation. Spend no more than 30 minutes attempting the implementation. This is a reach goal."
   ]
  },
  {
   "cell_type": "code",
   "execution_count": null,
   "id": "29647ad1-5f6e-45e6-80d1-fdb805d2bd0c",
   "metadata": {},
   "outputs": [],
   "source": []
  },
  {
   "cell_type": "markdown",
   "id": "49ffc93a-a007-4a72-beb9-01e48db5a9d8",
   "metadata": {},
   "source": [
    "## 6) Yanking, pasting, and deleting cells\n",
    "\n",
    "If you want to copy a cell, delete a cell, or paste a cell anywhere in the notebook, there are ways to do that as well. To do it, use the following:\n",
    "\n",
    "Keystrokes | Effects\n",
    ":---:|---\n",
    "<kbd>Ctrl</kbd> + <kbd>O</kbd> + <kbd>Y</kbd> | Copy or 'yank' the currently selected cell onto your system clipboard\n",
    "<kbd>Ctrl</kbd> + <kbd>O</kbd> + <kbd>D</kbd> | Cut or 'delete' the currently selected cell onto your system clipboard\n",
    "<kbd>Ctrl</kbd> + <kbd>O</kbd> + <kbd>P</kbd> | Paste a cell from your system clipboard below the currently selected cell\n",
    "\n",
    "There are several simple tasks for this exercise. While navigating around with Vim shortcuts, remove cells that tell you to remove them and place them where they're needed, copy the cells that you're instructed to copy and paste them as many times as you're told to paste them. Afterwards, select all the cells for the exercise and run them to complete the exercise"
   ]
  },
  {
   "cell_type": "raw",
   "id": "4278cd9b-805f-427f-b708-cb45b95f7838",
   "metadata": {},
   "source": [
    "This isn't horribly difficult. You could probably get away with doing this using just the select multiple cells task as a way to run all the cells. Include in this exercise simple booleans deleting, not much different from the cell movement exercise. For the yanking and pasting, add a variable with summands so that it's possible to yank it and paste it multiple times. Once it has been pasted enough, it should be possible to just run all the cells and get a multi-conditional if gate to print out success or failure based on variables."
   ]
  },
  {
   "cell_type": "markdown",
   "id": "105f16bc-aa7c-459c-bd17-11e689ed67e8",
   "metadata": {},
   "source": [
    "## 7) Go over the various ways that you can turn cells into markdown, code, or raw\n",
    "\n",
    "When editing a notebook, it can be nice to quickly switch between a cell being in Markdown, Code, or even Raw mode. For that purpose, you can use the following:\n",
    "\n",
    "Keystrokes | Effects\n",
    ":---:|---\n",
    "<kbd>Ctrl</kbd> + <kbd>1</kbd> | Turn the cell into Code mode\n",
    "<kbd>Ctrl</kbd> + <kbd>2</kbd> | Turn the cell into Markdown mode\n",
    "<kbd>Ctrl</kbd> + <kbd>3</kbd> | Turn the cell into Raw mode\n",
    "\n",
    "Using these shortcuts and Vim navigation shortcuts, turn the following cells into the correct mode and run the verification cell to complete the exercise."
   ]
  },
  {
   "cell_type": "raw",
   "id": "02587fe3-5be9-4a34-ab98-5991114dffc7",
   "metadata": {},
   "source": [
    "Nothing complicated needs to be here. This is another area where the json evaluator would be a good way to make the exercise checkable. Recall that the file needs to be saved before using any json checking."
   ]
  },
  {
   "cell_type": "markdown",
   "id": "f6e12aa1-9e75-4351-98a8-8c85f88b190a",
   "metadata": {},
   "source": [
    "##### I want to be turned into a code cell, please!!!"
   ]
  },
  {
   "cell_type": "code",
   "execution_count": 13,
   "id": "41bc74f6-7f94-40e8-b31c-6c82514614bd",
   "metadata": {
    "tags": []
   },
   "outputs": [],
   "source": [
    "## I want to be turned into a markdown cell :)"
   ]
  },
  {
   "cell_type": "markdown",
   "id": "95292f7d-6698-46a2-aac2-52acc7fec230",
   "metadata": {},
   "source": [
    "## 8) Spliting and merging cells\n",
    "\n",
    "Sometimes, it can be convenient to split a cell that is currently being used into two different cells or it may be useful to merge two different cells together into one cell. These shortcuts make that possible:\n",
    "\n",
    "Keystrokes | Effects\n",
    ":---:|---\n",
    "<kbd>-</kbd> | Split the cell at the cursor\n",
    "<kbd>Shift</kbd> + <kbd>M</kbd> | Merge all selected cells into one cell\n",
    "\n",
    "On splitting a cell, the cell will be split not only on a line, but right down to the very character that is selected by the cursor in normal mode. Using Vim keybindings to select multiple cells for merging, splitting, and deleting, complete the following exercise:"
   ]
  },
  {
   "cell_type": "raw",
   "id": "bc960352-2796-420f-ab78-ae23a9dade65",
   "metadata": {},
   "source": [
    "This one is already essentially explained by the code below. The best way to handle it is probably just a couple of code splits and deletions. It is also possible to merge selected cells together using shift m. Maybe have an incomplete python function call that is completed after merging two cells? This is possible without even removing the extra space left in a merge."
   ]
  },
  {
   "cell_type": "code",
   "execution_count": 14,
   "id": "157bb0b7-bd35-4dc1-95ac-07c4eb189606",
   "metadata": {
    "tags": []
   },
   "outputs": [],
   "source": [
    "split = True\n",
    "# Split this cell into two by exiting Vim Insert Mode by pressing \"esc\" and then move your cursor over the line you want to split at and press \"-\"\n",
    "\n",
    "# This text should be in the next cell\n",
    "split = False"
   ]
  }
 ],
 "metadata": {
  "kernelspec": {
   "display_name": "Python 3 (ipykernel)",
   "language": "python",
   "name": "python3"
  },
  "language_info": {
   "codemirror_mode": {
    "name": "ipython",
    "version": 3
   },
   "file_extension": ".py",
   "mimetype": "text/x-python",
   "name": "python",
   "nbconvert_exporter": "python",
   "pygments_lexer": "ipython3",
   "version": "3.11.4"
  }
 },
 "nbformat": 4,
 "nbformat_minor": 5
}
