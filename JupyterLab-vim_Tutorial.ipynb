{
 "cells": [
  {
   "cell_type": "markdown",
   "id": "f756081f-d9c3-499b-b3bf-702199798304",
   "metadata": {
    "tags": []
   },
   "source": [
    "# Some brief notes on Vim\n",
    "\n",
    "Vim is a text editor first released in 1991. It has several convenient keyboard shortcuts that can help with quickly editing a document. These features can be accessed through Vim's different modes: insert, normal, and visual. These features have been brought to JupyterLab through the ```jupyterlab-vim``` extension.\n",
    "\n",
    "### Things you can do in Vim normal mode\n",
    "When you first edit text in a cell with the Vim extension enabled, you will start with a blinking cursor that indicates you are in normal mode. If you are editing a cell in insert mode, you can press <kbd>Escape</kbd> to enter normal mode.\n",
    "\n",
    "In normal (and visual?) mode, you can do the following things:\n",
    "Keystrokes | Effects\n",
    ":---:|---\n",
    "<kbd>D</kbd> + <kbd>D</kbd> | This deletes a line and copies it to keyboard\n",
    "<kbd>P</kbd> | This pastes from the keyboard\n",
    "<kbd>U</kbd> | This will undo an action in normal mode\n",
    "<kbd>O</kbd> | This will add a line after the current line\n",
    "<kbd>K</kbd> | Move up one line\n",
    "<kbd>J</kbd> | Move down one line\n",
    "\n",
    "Versions of these, but applied to cells, also exist. We will learn more about them later! For now, play around a little bit. Below is the classic lorem ipsum text. Try out some of these keystrokes"
   ]
  },
  {
   "cell_type": "markdown",
   "id": "79b04cd2-4eca-44ad-b8c6-350fbb14dd56",
   "metadata": {},
   "source": [
    "Lorem ipsum dolor sit amet, consectetur adipiscing elit, sed do eiusmod tempor incididunt ut labore et dolore magna aliqua. Amet consectetur adipiscing elit ut aliquam purus sit amet. Facilisi nullam vehicula ipsum a arcu. Faucibus scelerisque eleifend donec pretium. Risus pretium quam vulputate dignissim suspendisse. Nulla posuere sollicitudin aliquam ultrices sagittis orci a scelerisque purus. Viverra mauris in aliquam sem fringilla ut. Elementum nibh tellus molestie nunc non blandit massa enim nec. Amet est placerat in egestas. Pharetra diam sit amet nisl suscipit adipiscing bibendum. Quis hendrerit dolor magna eget. Nec feugiat in fermentum posuere.\n",
    "\n",
    "Neque gravida in fermentum et sollicitudin ac. Pellentesque pulvinar pellentesque habitant morbi tristique senectus et. Nullam vehicula ipsum a arcu cursus. Sed lectus vestibulum mattis ullamcorper. Massa massa ultricies mi quis hendrerit dolor magna eget. Nulla aliquet porttitor lacus luctus accumsan tortor. Habitasse platea dictumst quisque sagittis purus sit. Semper eget duis at tellus at urna. Id donec ultrices tincidunt arcu non sodales neque. Nisl rhoncus mattis rhoncus urna neque viverra. Semper viverra nam libero justo laoreet. Maecenas sed enim ut sem viverra.\n",
    "\n",
    "Eu consequat ac felis donec. Egestas tellus rutrum tellus pellentesque. Fermentum posuere urna nec tincidunt praesent semper feugiat. Arcu ac tortor dignissim convallis aenean et tortor at. A diam sollicitudin tempor id eu nisl nunc. Ut sem nulla pharetra diam sit amet nisl suscipit adipiscing. Natoque penatibus et magnis dis parturient. Id eu nisl nunc mi ipsum. Fusce ut placerat orci nulla pellentesque dignissim enim sit amet. Id aliquet risus feugiat in ante metus dictum at tempor. Donec ultrices tincidunt arcu non. Sociis natoque penatibus et magnis. Eu nisl nunc mi ipsum. Aliquam faucibus purus in massa tempor nec feugiat. Nunc aliquet bibendum enim facilisis.\n",
    "\n",
    "Massa placerat duis ultricies lacus sed turpis. Quis risus sed vulputate odio ut enim blandit volutpat. Ut faucibus pulvinar elementum integer enim neque volutpat ac tincidunt. Cursus mattis molestie a iaculis at erat pellentesque adipiscing. Ac turpis egestas sed tempus. Tellus pellentesque eu tincidunt tortor aliquam nulla facilisi cras fermentum. Amet porttitor eget dolor morbi non arcu risus. Enim praesent elementum facilisis leo vel fringilla est. Lectus mauris ultrices eros in cursus. Vulputate mi sit amet mauris. Fermentum posuere urna nec tincidunt praesent semper feugiat nibh. Fames ac turpis egestas maecenas pharetra convallis. Egestas quis ipsum suspendisse ultrices. Sed nisi lacus sed viverra. Fermentum et sollicitudin ac orci phasellus egestas tellus rutrum. Nulla facilisi morbi tempus iaculis urna id volutpat. Aenean euismod elementum nisi quis eleifend quam adipiscing vitae. Nec sagittis aliquam malesuada bibendum. Varius duis at consectetur lorem donec massa. Faucibus in ornare quam viverra orci sagittis eu volutpat odio.\n",
    "\n",
    "Leo integer malesuada nunc vel risus commodo viverra. Convallis tellus id interdum velit laoreet id donec ultrices. Libero nunc consequat interdum varius sit amet mattis vulputate. Faucibus ornare suspendisse sed nisi lacus sed viverra tellus in. Risus ultricies tristique nulla aliquet enim tortor at auctor. Egestas tellus rutrum tellus pellentesque eu tincidunt tortor aliquam. Ultrices eros in cursus turpis massa tincidunt dui ut ornare. Purus faucibus ornare suspendisse sed nisi lacus sed viverra tellus. Ac auctor augue mauris augue. Sit amet consectetur adipiscing elit. Egestas tellus rutrum tellus pellentesque eu tincidunt tortor. Porttitor rhoncus dolor purus non. Non quam lacus suspendisse faucibus interdum posuere."
   ]
  },
  {
   "cell_type": "code",
   "execution_count": 1,
   "id": "1c9ef47d-940e-42d8-a83c-18e0aa31c7b6",
   "metadata": {
    "tags": []
   },
   "outputs": [],
   "source": [
    "## Switching into Jupyter mode"
   ]
  },
  {
   "cell_type": "markdown",
   "id": "049622ba-c37b-4d99-84de-487239d7bc40",
   "metadata": {},
   "source": [
    "## Get used to selecting multiple cells at the same time in both normal and Jupyter\n",
    "\n",
    "You can select multiple cells at one time with normal mode and Jupyter mode. In normal mode, you can select these cells using \"ctrl + shift + j\" to select below and \"ctrl + shift + k\" to select above."
   ]
  },
  {
   "cell_type": "code",
   "execution_count": 2,
   "id": "b7aae8a3-269b-4b32-bcb7-4c7e90e9aa58",
   "metadata": {},
   "outputs": [],
   "source": [
    "## Select this cell ..."
   ]
  },
  {
   "cell_type": "code",
   "execution_count": 3,
   "id": "a2e6d1ee-a79d-47b0-bfbe-219bedc0e831",
   "metadata": {},
   "outputs": [],
   "source": [
    "## ... and this cell ..."
   ]
  },
  {
   "cell_type": "code",
   "execution_count": 4,
   "id": "0d8ef1c8-5bcc-4525-8a43-ce486fadf5b3",
   "metadata": {},
   "outputs": [],
   "source": [
    "## ... and even this cell!"
   ]
  },
  {
   "cell_type": "markdown",
   "id": "78248dac-e2d2-4259-94dc-54e37bc677c4",
   "metadata": {},
   "source": [
    "## Getting used to moving cells around\n",
    "There are several ways to move cells around using ```vim``` keybindings. In 'normal' mode, you can use \"ctrl + e\" to move the cell you are interacting with down one cell and \"ctrl + y\" to move the cell up. (Moving up seems to be bugged right now). In 'insert' mode, you cannot use this same approach."
   ]
  },
  {
   "cell_type": "code",
   "execution_count": 5,
   "id": "a0eebc0b-0410-4635-9628-4553ab74def9",
   "metadata": {
    "tags": []
   },
   "outputs": [],
   "source": [
    "# Do not alter or move this cell\n",
    "\n",
    "second = False\n",
    "third = False"
   ]
  },
  {
   "cell_type": "code",
   "execution_count": 6,
   "id": "2fba033e-d2af-49d9-860a-affd022c0fc6",
   "metadata": {
    "tags": []
   },
   "outputs": [],
   "source": [
    "# Put this cell second\n",
    "\n",
    "second = True"
   ]
  },
  {
   "cell_type": "code",
   "execution_count": 7,
   "id": "aa49f41e-5af2-47af-b15f-a7f11042789c",
   "metadata": {
    "tags": []
   },
   "outputs": [],
   "source": [
    "# Put this cell third\n",
    "\n",
    "if second == True:\n",
    "    third = True"
   ]
  },
  {
   "cell_type": "code",
   "execution_count": 12,
   "id": "590d899b-850c-4635-935f-eac69d196aeb",
   "metadata": {
    "tags": []
   },
   "outputs": [
    {
     "name": "stdout",
     "output_type": "stream",
     "text": [
      "Hooray!\n"
     ]
    }
   ],
   "source": [
    "if third == True:\n",
    "    print(\"Hooray!\")\n",
    "else:\n",
    "    print(\"Sorry, not quite!\")"
   ]
  },
  {
   "cell_type": "markdown",
   "id": "a97cfec3-8263-4afd-ae5d-14614ef43237",
   "metadata": {},
   "source": [
    "## Repeat that exercise, but with the Jupyter command bindings\n"
   ]
  },
  {
   "cell_type": "code",
   "execution_count": 17,
   "id": "538a381e-8f75-4a3b-89ed-e7276bd9c475",
   "metadata": {
    "tags": []
   },
   "outputs": [],
   "source": [
    "# Do not alter or move this cell\n",
    "\n",
    "second = False\n",
    "third = False"
   ]
  },
  {
   "cell_type": "code",
   "execution_count": 18,
   "id": "447b214b-6372-4660-be49-566de1810b1e",
   "metadata": {
    "tags": []
   },
   "outputs": [],
   "source": [
    "# Put this cell second\n",
    "\n",
    "second = True"
   ]
  },
  {
   "cell_type": "code",
   "execution_count": 19,
   "id": "19a2ff6b-1885-48d0-8e2c-350065875584",
   "metadata": {
    "tags": []
   },
   "outputs": [],
   "source": [
    "# Put this cell third\n",
    "\n",
    "if second == True:\n",
    "    third = True"
   ]
  },
  {
   "cell_type": "code",
   "execution_count": 20,
   "id": "66d01bac-ce60-4f17-8b4d-d5f535c22cc8",
   "metadata": {
    "tags": []
   },
   "outputs": [
    {
     "name": "stdout",
     "output_type": "stream",
     "text": [
      "Hooray!\n"
     ]
    }
   ],
   "source": [
    "if third == True:\n",
    "    print(\"Hooray!\")\n",
    "else:\n",
    "    print(\"Sorry, not quite!\")"
   ]
  },
  {
   "cell_type": "markdown",
   "id": "c6d0e9bf-3fde-478d-b87b-36a24964eab9",
   "metadata": {},
   "source": [
    "## Get used to adding cells below and above using insert mode"
   ]
  },
  {
   "cell_type": "code",
   "execution_count": null,
   "id": "173d4e74-5ecd-45a6-8afd-6863433b1e13",
   "metadata": {},
   "outputs": [],
   "source": []
  },
  {
   "cell_type": "markdown",
   "id": "c9e0c71d-d46e-420f-ac55-8fd154ce3ba9",
   "metadata": {},
   "source": [
    "## Repeat this exercise for Jupyter command bindings"
   ]
  },
  {
   "cell_type": "markdown",
   "id": "e48bc3da-d5a1-493a-9f97-b77efcc5b57f",
   "metadata": {},
   "source": [
    "## Go over the various ways that you can turn cells into markdown, code, or raw"
   ]
  },
  {
   "cell_type": "markdown",
   "id": "d8ccbc43-8984-44ba-9258-03521f98995d",
   "metadata": {},
   "source": [
    "##### I want to be turned into a code cell, please!!!"
   ]
  },
  {
   "cell_type": "code",
   "execution_count": 21,
   "id": "f4c6ff88-941c-4a88-988c-998b316143af",
   "metadata": {
    "tags": []
   },
   "outputs": [],
   "source": [
    "## I want to be turned into a markdown cell :)"
   ]
  },
  {
   "cell_type": "markdown",
   "id": "077ab977-9da2-489e-a6f2-1b7617beaea3",
   "metadata": {},
   "source": [
    "## Go over how to yank, delete, and paste cells"
   ]
  },
  {
   "cell_type": "markdown",
   "id": "f4647bea-7f64-4a6f-bd00-358ccb1f2816",
   "metadata": {},
   "source": [
    "## Split a cell into two and remove the extra cell"
   ]
  },
  {
   "cell_type": "code",
   "execution_count": 22,
   "id": "7be6fb30-1174-4282-b4d3-20f1e18f1244",
   "metadata": {
    "tags": []
   },
   "outputs": [],
   "source": [
    "split = True\n",
    "# Split this cell into two by exiting Vim Insert Mode by pressing \"esc\" and then move your cursor over the line you want to split at and press \"-\"\n",
    "\n",
    "# This text should be in the next cell\n",
    "split = False"
   ]
  },
  {
   "cell_type": "code",
   "execution_count": null,
   "id": "e942c351-8a61-45b9-9f16-559818bd4bc4",
   "metadata": {},
   "outputs": [],
   "source": []
  }
 ],
 "metadata": {
  "kernelspec": {
   "display_name": "Python 3 (ipykernel)",
   "language": "python",
   "name": "python3"
  },
  "language_info": {
   "codemirror_mode": {
    "name": "ipython",
    "version": 3
   },
   "file_extension": ".py",
   "mimetype": "text/x-python",
   "name": "python",
   "nbconvert_exporter": "python",
   "pygments_lexer": "ipython3",
   "version": "3.11.4"
  }
 },
 "nbformat": 4,
 "nbformat_minor": 5
}
