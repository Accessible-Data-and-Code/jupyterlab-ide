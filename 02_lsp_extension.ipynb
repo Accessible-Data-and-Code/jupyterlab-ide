{
 "cells": [
  {
   "cell_type": "code",
   "execution_count": 1,
   "id": "c5ff2426-20f1-4d5a-80b2-925974ba8138",
   "metadata": {
    "tags": []
   },
   "outputs": [],
   "source": [
    "##This is my first notebook in ijupyter-ide! "
   ]
  },
  {
   "cell_type": "code",
   "execution_count": null,
   "id": "907c95ba-75e4-4294-bb9a-b21c32473632",
   "metadata": {},
   "outputs": [],
   "source": []
  }
 ],
 "metadata": {
  "kernelspec": {
   "display_name": "Python 3 (ipykernel)",
   "language": "python",
   "name": "python3"
  },
  "language_info": {
   "codemirror_mode": {
    "name": "ipython",
    "version": 3
   },
   "file_extension": ".py",
   "mimetype": "text/x-python",
   "name": "python",
   "nbconvert_exporter": "python",
   "pygments_lexer": "ipython3",
   "version": "3.11.4"
  }
 },
 "nbformat": 4,
 "nbformat_minor": 5
}
