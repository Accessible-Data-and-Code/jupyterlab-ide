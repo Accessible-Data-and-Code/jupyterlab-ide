{
 "cells": [
  {
   "cell_type": "markdown",
   "id": "85600982-47e4-41b0-bf82-53aa1af68828",
   "metadata": {
    "tags": []
   },
   "source": [
    "# **Exercises Set 2**"
   ]
  },
  {
   "cell_type": "markdown",
   "id": "3326d650-7931-4edd-b5a0-4df50e1b35cd",
   "metadata": {
    "tags": []
   },
   "source": [
    "<p style=\"text-align: center;\">\n",
    "    <img src=\"https://media.giphy.com/media/xUPGcv4cXpq6KNcPEk/giphy.gif\" width=\"200\" height=\"200\"/>\n",
    "</p>"
   ]
  },
  {
   "cell_type": "markdown",
   "id": "cb4d3d2d-4c12-4568-ba21-688be9a68171",
   "metadata": {
    "tags": []
   },
   "source": [
    "## **Exercise 4: Signature Help**\n"
   ]
  },
  {
   "cell_type": "markdown",
   "id": "aca8cd8f-2588-4bfa-a247-b6337a387735",
   "metadata": {},
   "source": [
    "### Steps:\n",
    "1. **Trigger \"Signature Help\":** As you noticed in the first exercise, typing an open parenthesis will automatically trigger signature help. You can also click **Ctrl+Hover** to view for more information.\n",
    "2. **Review the signature information:** Once the Signature Help is displayed, you will see details about the function or method being called, including the parameter names, types, and descriptions. This information helps you understand the expected arguments and their order.\n",
    "3. **Select the desired signature:** If multiple signatures are available, choose the one that matches your intended usage or requirements. With the Signature Help information visible, you can ensure you provide the correct arguments to the function call. It helps prevent errors by showing you the expected parameter types, order, and even optional or default values."
   ]
  },
  {
   "cell_type": "markdown",
   "id": "91d4e800-a2bf-4e89-8511-ae581a12899e",
   "metadata": {},
   "source": [
    " **Easy Level**\n",
    "1. Objective: Familiarize yourself with triggering and understanding Signature Help for simple function calls."
   ]
  },
  {
   "cell_type": "code",
   "execution_count": 9,
   "id": "d71935a8-a7a3-4412-897c-b6d3d7ab6fed",
   "metadata": {
    "tags": []
   },
   "outputs": [],
   "source": [
    "# Exercise 10 - Write a function with a single parameter\n",
    "\n",
    "def greet(name):\n",
    "    \"\"\"Greet a person by their name.\"\"\"\n",
    "    return f\"Hello, {name}!\"\n",
    "\n",
    "greeting = greet  # Missing the 'name' parameter\n",
    "\n",
    "# Use the Signature Help feature to get information about the function's parameters by typing the open parenthesis "
   ]
  },
  {
   "cell_type": "markdown",
   "id": "c6ce7ff6-6e4e-4b87-8912-f5607a4ee366",
   "metadata": {},
   "source": [
    "**Medium Level**\n",
    "\n",
    "2. Objective: Practice using code completion to access object methods."
   ]
  },
  {
   "cell_type": "code",
   "execution_count": 1,
   "id": "2dae0b7a-4bd9-42a7-9b17-8c8338240539",
   "metadata": {},
   "outputs": [],
   "source": [
    "# Exercise 11 - Write a function with multiple parameters\n",
    "\n",
    "def calculate_total_cost(item_price, quantity, tax_rate):\n",
    "    \"\"\"Calculate the total cost of a purchase.\"\"\"\n",
    "    subtotal = item_price * quantity\n",
    "    tax_amount = subtotal * (tax_rate / 100)\n",
    "    total_cost = subtotal + tax_amount\n",
    "    return total_cost\n",
    "\n",
    "total = calculate_total_cost  # Missing three parameters\n",
    "\n",
    "# Use the Signature Help feature to get information about the function's parameters"
   ]
  },
  {
   "cell_type": "markdown",
   "id": "49f9e64a-7e19-4545-9dd2-fd8f3fefce0d",
   "metadata": {},
   "source": [
    "**Hard Level**\n",
    "\n",
    "3. Objective: Gain experience with complex function signatures involving wrong parameters."
   ]
  },
  {
   "cell_type": "code",
   "execution_count": 3,
   "id": "cdf88bef-b2e2-4319-863d-24c453e44bee",
   "metadata": {
    "tags": []
   },
   "outputs": [],
   "source": [
    "# Exercise 12 - Write a function that calculates the factorial of a number\n",
    "\n",
    "def factorial(n):\n",
    "    \"\"\"Calculate the factorial of a number.\"\"\"\n",
    "    if n == 0:\n",
    "        return 1\n",
    "    else:\n",
    "        return n * factorial(n - 1)\n",
    "\n",
    "factorial_result = factorial(\"string\")  # Can you figure out what's wrong in this line?\n",
    "\n",
    "# Use the Signature Help feature to get information about the function's parameters as you did in the previous exercises"
   ]
  },
  {
   "cell_type": "markdown",
   "id": "a59fed75-8b91-4a41-89f0-a6e63906f679",
   "metadata": {},
   "source": [
    "## **Exercise 5: Code Linting**\n"
   ]
  },
  {
   "cell_type": "markdown",
   "id": "24676919-af13-4e6f-8902-ee4a41db3a98",
   "metadata": {},
   "source": [
    "### Steps:\n",
    "1. **Trigger Linting:** To trigger the code linting feature, it should automatically pop up as you type, indicating errors or warnings in real-time.\n",
    "2. **Review Linting Suggestions:** Once the linting process is complete, your editor or IDE will display the linting suggestions, such as syntax errors, undefined variables, unused imports, unreachable code, or other issues. These suggestions are typically marked with visual indicators, such as squiggly lines, tooltips, or highlighted text.\n",
    "3. **Take Corrective Actions:** Analyze the linting suggestions and make the necessary corrections to your code. This could involve fixing syntax errors, resolving undefined variables, removing unreachable code, or addressing other identified issues."
   ]
  },
  {
   "cell_type": "markdown",
   "id": "3bd663a1-2840-422d-9813-17a6d0432012",
   "metadata": {},
   "source": [
    " **Easy Level**\n",
    "1. Objective: Identify and fix the syntax error in the provided code by triggering the code linting feature."
   ]
  },
  {
   "cell_type": "code",
   "execution_count": 4,
   "id": "55e9c429-1e7d-4796-809f-e2f673ed49a3",
   "metadata": {
    "tags": []
   },
   "outputs": [
    {
     "name": "stdout",
     "output_type": "stream",
     "text": [
      "Hello, World!\n"
     ]
    }
   ],
   "source": [
    "# Exercise 13 - Identify Syntax Errors\n",
    "\n",
    "print(\"Hello, World!\"\n",
    "name = \"Alice\"\n",
    "\n",
    "# Use the Code Linting feature to identify syntax errors and fix the error. You should see a red underline under 2 places."
   ]
  },
  {
   "cell_type": "markdown",
   "id": "c66ef8c6-8ff8-4f04-bb37-be749e6b91b4",
   "metadata": {},
   "source": [
    " **Medium Level**\n",
    " \n",
    "2. Objective: Identify and fix the error related to an undefined variable in the provided code."
   ]
  },
  {
   "cell_type": "code",
   "execution_count": 14,
   "id": "436a2517-d64a-499f-b6fb-7cd61f5e7b6b",
   "metadata": {
    "tags": []
   },
   "outputs": [
    {
     "name": "stdout",
     "output_type": "stream",
     "text": [
      "Hello, World!\n"
     ]
    }
   ],
   "source": [
    "# Exercise 14 - Identify Undefined Variables\n",
    "\n",
    "message = \"Hello, World!\"\n",
    "print(mesage)\n",
    "\n",
    "# Use the Code Linting feature to identify undefined variables"
   ]
  },
  {
   "cell_type": "markdown",
   "id": "1b5f3ee8-8905-4f22-93bf-168027d677ea",
   "metadata": {},
   "source": [
    " **Hard Level**\n",
    " \n",
    "3. Objective: Identify and remove the unused variable in the provided code."
   ]
  },
  {
   "cell_type": "code",
   "execution_count": 7,
   "id": "cf51fe3b-3afa-40b4-bfaa-0b897180bb19",
   "metadata": {
    "tags": []
   },
   "outputs": [
    {
     "name": "stdout",
     "output_type": "stream",
     "text": [
      "Goodbye, World!\n",
      "Hello, World!\n"
     ]
    }
   ],
   "source": [
    "# Exercise 15 - Write code with unreachable code\n",
    "def greet():\n",
    "    print(\"Hello, World!\")\n",
    "    return\n",
    "\n",
    "print(\"Goodbye, World!\")\n",
    "greet()\n",
    "\n",
    "# Use the Code Linting feature to identify unreachable code"
   ]
  },
  {
   "cell_type": "markdown",
   "id": "04e88d84-cb33-4ccd-8508-c2a189f5d1f6",
   "metadata": {},
   "source": [
    "<p style=\"text-align: center;\">\n",
    "    <img src=\"https://media.giphy.com/media/PMV7yRpwGO5y9p3DBx/giphy.gif\" width=\"200\" height=\"200\"/>\n",
    "</p>"
   ]
  },
  {
   "cell_type": "markdown",
   "id": "e9097dd7-b6bf-4dc3-89eb-f858a3835a56",
   "metadata": {},
   "source": [
    "## **YAY!** \n",
    "\n",
    "You're officially done with the exercises! While there are other features LSP provides, they are more or less a variation of the features listed here.  "
   ]
  }
 ],
 "metadata": {
  "kernelspec": {
   "display_name": "Python 3 (ipykernel)",
   "language": "python",
   "name": "python3"
  },
  "language_info": {
   "codemirror_mode": {
    "name": "ipython",
    "version": 3
   },
   "file_extension": ".py",
   "mimetype": "text/x-python",
   "name": "python",
   "nbconvert_exporter": "python",
   "pygments_lexer": "ipython3",
   "version": "3.11.4"
  }
 },
 "nbformat": 4,
 "nbformat_minor": 5
}
