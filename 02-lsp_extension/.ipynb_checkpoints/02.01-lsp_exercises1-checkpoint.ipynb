{
 "cells": [
  {
   "cell_type": "markdown",
   "id": "6cf50e41-b58c-4632-8556-4d3c7cf1bb93",
   "metadata": {
    "tags": []
   },
   "source": [
    "# **Exercises Set 1**"
   ]
  },
  {
   "cell_type": "markdown",
   "id": "398be116-b840-48af-95dc-410b1ba0a88d",
   "metadata": {},
   "source": [
    "Before we jump into each exercise, here's a layout of the structure of the exercises. Each LSP feature has a set of steps and 3 levels of difficulty - easy, medium, hard - included that you will attempt to complete. If you get stuck anywhere, rerun the cell, refer to the documentation, or better yet, ask the Internet! If you don't see the LSP extensions pop-up, try refreshing the page. These exercises should be relatively easy to complete. The more screen-time you spend learning, the more intutitve it'll come to you when you're actually coding on your own! Practice makes perfect! With that, good luck!"
   ]
  },
  {
   "cell_type": "markdown",
   "id": "4efc992a-1bd5-4610-a21a-6b27d344eefc",
   "metadata": {
    "tags": []
   },
   "source": [
    "<p style=\"text-align: center;\">\n",
    "    <img src=\"https://media.giphy.com/media/3iyKHMIKg5VWG6qHUm/giphy.gif\" width=\"200\" height=\"200\"/>\n",
    "</p>"
   ]
  },
  {
   "cell_type": "markdown",
   "id": "33854c24-f325-4315-8c81-1ffd83b818e9",
   "metadata": {
    "tags": []
   },
   "source": [
    "## **Exercise 1: Code Completion**"
   ]
  },
  {
   "cell_type": "markdown",
   "id": "a3720729-8b75-4898-8fd3-e89f7221718a",
   "metadata": {
    "tags": []
   },
   "source": [
    "### Steps:\n",
    "1. **Trigger code completion:** While typing your code, you can trigger code completion by pressing a specific key or using a keyboard shortcut. The exact key or shortcut depends on your code editor or IDE. Typically, it is triggered by **typing a trigger character, such as a period \".\" or an opening parenthesis \"(\"**\n",
    "2. **View code completion suggestions:** Once code completion is triggered, a list of suggestions or completions will appear. These suggestions are based on the context of your code and the language server's understanding of the programming language. The suggestions may include keywords, variable names, function names, class names, and more. **Hit tab** to view the different suggestions.\n",
    "3. **Navigate and select suggestions:** Use the **arrow keys or the mouse to navigate through the list of code completion suggestions**. As you move through the list, the editor or IDE may display additional information about each suggestion, such as function signatures or documentation.\n",
    "4. **Insert selected completion:** When you find the desired completion suggestion, you can insert it into your code by **pressing Enter or by clicking on the suggestion with your mouse**. The selected completion will be inserted at the current cursor position, helping you save time and reduce typing errors."
   ]
  },
  {
   "cell_type": "markdown",
   "id": "23f9dcbd-05ac-4838-a9aa-f9707d7e0a3f",
   "metadata": {
    "jp-MarkdownHeadingCollapsed": true,
    "tags": []
   },
   "source": [
    " **Easy Level**\n",
    "1. Objective: Practice using code completion to autocomplete variable names."
   ]
  },
  {
   "cell_type": "code",
   "execution_count": 46,
   "id": "45ad827d-6d16-48c5-8d6e-7f2cbb4b3a4a",
   "metadata": {
    "tags": []
   },
   "outputs": [
    {
     "name": "stdout",
     "output_type": "stream",
     "text": [
      "John\n"
     ]
    }
   ],
   "source": [
    "# Exercise 1 - Basic Code Completion\n",
    "\n",
    "name = \"John\"  # Replace with your preferred string value\n",
    "\n",
    "# Trigger code completion after typing '(nam' and select the suggestion for 'name'\n",
    "print\n"
   ]
  },
  {
   "cell_type": "markdown",
   "id": "7eee15ca-e8e0-4a93-866e-cd9545c34c20",
   "metadata": {},
   "source": [
    "* You may have noticed using the open parenthesis gave you a template to follow rather than autofilling. We will discuss this later on."
   ]
  },
  {
   "cell_type": "markdown",
   "id": "6e0b759a-8dc3-44fc-98d0-91302181ae7c",
   "metadata": {},
   "source": [
    "**Medium Level**\n",
    "\n",
    "2. Objective: Practice using code completion to access object methods."
   ]
  },
  {
   "cell_type": "code",
   "execution_count": 44,
   "id": "ec026d0c-40d3-4cff-969f-b089a0d5468e",
   "metadata": {
    "tags": []
   },
   "outputs": [
    {
     "name": "stdout",
     "output_type": "stream",
     "text": [
      "Hello, my name is John and I am 30 years old.\n"
     ]
    }
   ],
   "source": [
    "# Exercise 2 - Accessing Object Methods\n",
    "\n",
    "class Person:\n",
    "    def __init__(self, name, age):\n",
    "        self.name = name\n",
    "        self.age = age\n",
    "\n",
    "    def greet(self):\n",
    "        return f\"Hello, my name is {self.name} and I am {self.age} years old.\"\n",
    "\n",
    "# Create an instance of the Person class\n",
    "person = Person(\"John\", 30)  # Replace with a name and age of your choice\n",
    "\n",
    "# Trigger code completion by typing '.' after \"person\" and select a method suggestion i.e. print(person.greet())\n",
    "print(person"
   ]
  },
  {
   "cell_type": "markdown",
   "id": "6ccec284-6a6d-47ab-b9a8-ccc9f76366f5",
   "metadata": {},
   "source": [
    "**Hard Level**\n",
    "\n",
    "3. Objective: Complete the missing code using code completion to implement a function that finds the largest element in a list."
   ]
  },
  {
   "cell_type": "code",
   "execution_count": 45,
   "id": "edd1ce1c-84ff-47c6-a86b-7a7533b43802",
   "metadata": {
    "tags": []
   },
   "outputs": [
    {
     "name": "stdout",
     "output_type": "stream",
     "text": [
      "Area: 15.0\n"
     ]
    }
   ],
   "source": [
    "# Exercise 3 - Function Signature Completion\n",
    "\n",
    "def calculate_area(length: float, width: float) -> float:\n",
    "    # Calculate and return the area of a rectangle\n",
    "    return length * width\n",
    "\n",
    "# Test the function with sample values\n",
    "length =   # Replace with a length of your choice\n",
    "width =    # Replace with a width of your choice\n",
    "\n",
    "# Trigger code completion after typing 'calculate_area(' and select the suggestion\n",
    "area = calculate_area\n",
    "\n",
    "print(\"Area:\", area)"
   ]
  },
  {
   "cell_type": "markdown",
   "id": "0a676f55-c7be-428f-83c1-2864d9573e66",
   "metadata": {
    "jupyter": {
     "outputs_hidden": true
    },
    "tags": []
   },
   "source": [
    "Good Job! By now you should have gotten a good idea of how to leverage code completion to perform the mundane tasks for you! Let's move on to \"Go-to-Definition\" feature!"
   ]
  },
  {
   "cell_type": "markdown",
   "id": "850d9bdb-ca11-478c-94cc-94ceb34aad28",
   "metadata": {
    "tags": []
   },
   "source": [
    "## **Exercise 2: Go to Definition**"
   ]
  },
  {
   "cell_type": "markdown",
   "id": "dfd76bbd-c9f7-49a0-9067-a1bfcc328dea",
   "metadata": {},
   "source": [
    "### Steps:\n",
    "1. **Trigger \"Go to Definition\":** To use the \"Go to Definition\" feature, you can **right-click on a symbol** (variable, function, class, etc.) and click \"Jump to Definition\" or use a keyboard shortcut **(Cmd + B to jump to the definition or Ctrl+Click to view definition from that point)**. This action triggers the \"Go to Definition\" command, and the language server will attempt to find the definition of the symbol.\n",
    "2. **Navigate to the definition:** Once you trigger the \"Go to Definition\" command, the editor will attempt to locate the definition of the symbol you clicked on. It might jump to the definition in the current file or navigate to a different file within your project if you clicked jump to definition. \n",
    "3. **Return to the original location:** After viewing the definition, you can go back to the original location where you triggered the \"Go to Definition\" command by click **Alt/Option+o**. This brings you back to your previous destination your cursor was at."
   ]
  },
  {
   "cell_type": "markdown",
   "id": "ebc8f9f3-ddd8-459a-9e0c-489cf0e051aa",
   "metadata": {},
   "source": [
    " **Easy Level**\n",
    "1. Objective: Practice using the Go to Definition feature to navigate to the definition of a variable by using right click. *Note, you must always *define* the value first before triggering \"Go-to-Definition\" otherwise you will get an error that says \"No jump targets found\" when triggering this feature"
   ]
  },
  {
   "cell_type": "code",
   "execution_count": 8,
   "id": "d6734783-3bfd-4d01-a477-e342f0c4469e",
   "metadata": {
    "tags": []
   },
   "outputs": [
    {
     "ename": "SyntaxError",
     "evalue": "invalid syntax (2949605439.py, line 3)",
     "output_type": "error",
     "traceback": [
      "\u001b[0;36m  Cell \u001b[0;32mIn[8], line 3\u001b[0;36m\u001b[0m\n\u001b[0;31m    num =   # Declare variable with an integer value\u001b[0m\n\u001b[0m            ^\u001b[0m\n\u001b[0;31mSyntaxError\u001b[0m\u001b[0;31m:\u001b[0m invalid syntax\n"
     ]
    }
   ],
   "source": [
    "# Exercise 4 - Go to Definition of Variables\n",
    "\n",
    "num =   # Declare variable with an integer value\n",
    "\n",
    "print(num) # Trigger Go to Definition on 'num'"
   ]
  },
  {
   "cell_type": "markdown",
   "id": "44903cf4-b2ff-486f-9fb6-0c0155a30af8",
   "metadata": {},
   "source": [
    "**Medium Level**\n",
    "\n",
    "2. Objective:  Practice using the Go to Definition feature to navigate to the definition of functions by using Ctrl+Hover."
   ]
  },
  {
   "cell_type": "code",
   "execution_count": 31,
   "id": "5fe1bfb2-baab-4bf2-b4b6-b83ce85de33a",
   "metadata": {
    "tags": []
   },
   "outputs": [
    {
     "name": "stdout",
     "output_type": "stream",
     "text": [
      "12\n"
     ]
    }
   ],
   "source": [
    "# Exercise 5 - Go to Definition of Functions\n",
    "\n",
    "def add(a, b):\n",
    "    return a + b\n",
    "\n",
    "result = add(3,4)  # Trigger Go to Definition on 'add'\n",
    "\n",
    "print(result)"
   ]
  },
  {
   "cell_type": "markdown",
   "id": "ca73dbd2-4d56-4603-bba3-c4bbf225b7f7",
   "metadata": {},
   "source": [
    "**Hard Level**\n",
    "\n",
    "3. Objective: Practice using the Go to Definition feature to navigate to the definition of classes by using Cmd/Ctrl+B."
   ]
  },
  {
   "cell_type": "code",
   "execution_count": 7,
   "id": "bc8795fe-2d7b-400e-8d26-00d446c6f533",
   "metadata": {
    "tags": []
   },
   "outputs": [
    {
     "name": "stdout",
     "output_type": "stream",
     "text": [
      "Area: 15\n"
     ]
    }
   ],
   "source": [
    "# Exercise 6 - Go to Definition of Classes\n",
    "\n",
    "class Rectangle:\n",
    "    def __init__(self, length, width):\n",
    "        self.length = length\n",
    "        self.width = width\n",
    "\n",
    "    def calculate_area(self):\n",
    "        return self.length * self.width\n",
    "\n",
    "# Instantiate an object of the Rectangle class\n",
    "rectangle = Rectangle(5, 3)  # Trigger Go to Definition on 'Rectangle' \n",
    "\n",
    "area = rectangle.calculate_area()  # Trigger Go to Definition on 'calculate_area'\n",
    "\n",
    "print(\"Area:\", area)\n"
   ]
  },
  {
   "cell_type": "markdown",
   "id": "540216fb-dc0a-4b4a-b190-31a52e9a1902",
   "metadata": {},
   "source": [
    "Getting the hang of things?! Let's move on to finding references now!"
   ]
  },
  {
   "cell_type": "markdown",
   "id": "84c04977-8d4d-43ec-8005-9297b7d37a83",
   "metadata": {
    "tags": []
   },
   "source": [
    "## **Exercise 3: Find references**"
   ]
  },
  {
   "cell_type": "markdown",
   "id": "f0c51cb1-137c-48a6-bd7b-21656cde763f",
   "metadata": {},
   "source": [
    "### Steps:\n",
    "1. **Place the cursor on the symbol:** Move your cursor to the symbol (variable, function, class, etc.) for which you want to find references.\n",
    "2. **Trigger \"Find References\":** You can typically trigger the \"Find References\" command by **right-clicking on the symbol**. This action tells the language server to search for references to the symbol.\n",
    "3. **View the references:** Once you trigger the \"Find References\" command, the editor will display a list of locations where the symbol is referenced. This list may include file names, line numbers, or other relevant information. You can usually navigate through the list to inspect each reference.\n",
    "4. **Navigate to a reference:** Select a reference from the list, and the editor will take you to the corresponding location in your code. This allows you to explore how the symbol is used in different parts of your project.\n",
    "5. **Return to the reference list:** After inspecting a reference, you can usually return to the reference list to select another reference to navigate to. This allows you to navigate between different references efficiently."
   ]
  },
  {
   "cell_type": "markdown",
   "id": "faadaebe-dd7c-4979-a675-02cf9b6a7dcd",
   "metadata": {},
   "source": [
    " **Easy Level**\n",
    "1. Objective: Practice using the Find References feature to locate all references of a variable within a codebase."
   ]
  },
  {
   "cell_type": "code",
   "execution_count": 37,
   "id": "808704fd-1568-492b-9b54-341dc0c1d2e7",
   "metadata": {
    "tags": []
   },
   "outputs": [
    {
     "name": "stdout",
     "output_type": "stream",
     "text": [
      "Hello, John\n",
      "Goodbye, John\n",
      "Welcome, John\n"
     ]
    }
   ],
   "source": [
    "# Exercise 7 - Find References of Variables\n",
    "\n",
    "# Define a variable\n",
    "name = \"John\"  # Replace with a name of your choice\n",
    "\n",
    "# Add multiple references to the variable\n",
    "print(\"Hello, \" + name)\n",
    "print(\"Goodbye, \" + name)\n",
    "print(\"Welcome, \" + name)\n",
    "\n",
    "# Use the Find References feature on the variable 'name' to locate all references\n"
   ]
  },
  {
   "cell_type": "markdown",
   "id": "5417bdce-6e93-4df3-a2ed-f1d45f440266",
   "metadata": {},
   "source": [
    " **Medium Level**\n",
    " \n",
    "2. Objective: Practice using the Find References feature to locate all references of a function within a codebase."
   ]
  },
  {
   "cell_type": "code",
   "execution_count": 38,
   "id": "e87a7ba4-58b9-485e-838d-20b454d3278c",
   "metadata": {},
   "outputs": [],
   "source": [
    "# Exercise 8 - Find References of Functions\n",
    "\n",
    "# Define a function\n",
    "def multiply(a, b):\n",
    "    return a * b\n",
    "\n",
    "# Add multiple function calls to the function\n",
    "result1 = multiply(2, 3)\n",
    "result2 = multiply(4, 5)\n",
    "result3 = multiply(6, 7)\n",
    "\n",
    "# Use the Find References feature on the function 'multiply' to locate all references"
   ]
  },
  {
   "cell_type": "markdown",
   "id": "893aedda-c7b5-4c24-8de1-99dfe3229ced",
   "metadata": {},
   "source": [
    " **Hard Level**\n",
    "\n",
    "For this exercise, you won't be able to perform the exercise within this notebook. Do note however that when creating multiple Python files within the same directory, you can use the Find References feature on the variable or function to locate *all references* across *all the files*."
   ]
  },
  {
   "cell_type": "code",
   "execution_count": 9,
   "id": "e00bbae1-8277-482f-8e0b-7715fd965e46",
   "metadata": {
    "tags": []
   },
   "outputs": [
    {
     "name": "stdout",
     "output_type": "stream",
     "text": [
      "Hello\n"
     ]
    }
   ],
   "source": [
    "# Exercise 9 - Find References Across Multiple Files\n",
    "\n",
    "# Define a variable or function\n",
    "variable_or_function = \"Hello\"  # Replace with a variable or function of your choice\n",
    "\n",
    "# Add references to the variable or function\n",
    "print(variable_or_function)"
   ]
  },
  {
   "cell_type": "markdown",
   "id": "99e73080-f21d-46fa-a9c9-5c437cc4a997",
   "metadata": {},
   "source": [
    "-------\n",
    "Tired yet? The aforementioned 3 exercises were a few of the most important tools I found as part of the lsp extension. Here's a brain break before we move on to a few more features. "
   ]
  },
  {
   "cell_type": "markdown",
   "id": "1729f9eb-1c48-48a2-8b70-307a77806a85",
   "metadata": {
    "tags": []
   },
   "source": [
    "<p style=\"text-align: center;\">\n",
    "    <img src=\"https://media.giphy.com/media/iF2s2pVdMZoC66SDfK/giphy.gif\" width=\"350\" height=\"350\"/>\n",
    "</p>"
   ]
  }
 ],
 "metadata": {
  "kernelspec": {
   "display_name": "Python 3 (ipykernel)",
   "language": "python",
   "name": "python3"
  },
  "language_info": {
   "codemirror_mode": {
    "name": "ipython",
    "version": 3
   },
   "file_extension": ".py",
   "mimetype": "text/x-python",
   "name": "python",
   "nbconvert_exporter": "python",
   "pygments_lexer": "ipython3",
   "version": "3.11.4"
  }
 },
 "nbformat": 4,
 "nbformat_minor": 5
}
