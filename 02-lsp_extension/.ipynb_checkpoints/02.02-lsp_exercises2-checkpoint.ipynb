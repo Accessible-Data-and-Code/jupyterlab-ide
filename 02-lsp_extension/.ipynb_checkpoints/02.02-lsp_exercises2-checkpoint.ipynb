{
 "cells": [
  {
   "cell_type": "markdown",
   "id": "85600982-47e4-41b0-bf82-53aa1af68828",
   "metadata": {},
   "source": [
    "# **Exercises Set 2**"
   ]
  },
  {
   "cell_type": "markdown",
   "id": "cb4d3d2d-4c12-4568-ba21-688be9a68171",
   "metadata": {
    "tags": []
   },
   "source": [
    "## **Exercise 4: Signature Help**\n"
   ]
  },
  {
   "cell_type": "markdown",
   "id": "aca8cd8f-2588-4bfa-a247-b6337a387735",
   "metadata": {},
   "source": [
    "### Steps:\n",
    "1. **Trigger \"Signature Help\":** As you noticed in the first exercise, typing an open parenthesis will automatically trigger signature help. You can also click **Ctrl+Hover** to view for more information.\n",
    "2. **Review the signature information:** Once the Signature Help is displayed, you will see details about the function or method being called, including the parameter names, types, and descriptions. This information helps you understand the expected arguments and their order.\n",
    "3. **Select the desired signature:** If multiple signatures are available, choose the one that matches your intended usage or requirements. With the Signature Help information visible, you can ensure you provide the correct arguments to the function call. It helps prevent errors by showing you the expected parameter types, order, and even optional or default values."
   ]
  },
  {
   "cell_type": "markdown",
   "id": "91d4e800-a2bf-4e89-8511-ae581a12899e",
   "metadata": {},
   "source": [
    " **Easy Level**\n",
    "1. Objective: Familiarize yourself with triggering and understanding Signature Help for simple function calls."
   ]
  },
  {
   "cell_type": "code",
   "execution_count": 9,
   "id": "d71935a8-a7a3-4412-897c-b6d3d7ab6fed",
   "metadata": {
    "tags": []
   },
   "outputs": [],
   "source": [
    "# Exercise 10 - Write a function with a single parameter\n",
    "\n",
    "def greet(name):\n",
    "    \"\"\"Greet a person by their name.\"\"\"\n",
    "    return f\"Hello, {name}!\"\n",
    "\n",
    "greeting = greet  # Missing the 'name' parameter\n",
    "\n",
    "# Use the Signature Help feature to get information about the function's parameters by typing the open parenthesis "
   ]
  },
  {
   "cell_type": "markdown",
   "id": "c6ce7ff6-6e4e-4b87-8912-f5607a4ee366",
   "metadata": {},
   "source": [
    "**Medium Level**\n",
    "\n",
    "2. Objective: Practice using code completion to access object methods."
   ]
  },
  {
   "cell_type": "code",
   "execution_count": 1,
   "id": "2dae0b7a-4bd9-42a7-9b17-8c8338240539",
   "metadata": {},
   "outputs": [],
   "source": [
    "# Exercise 11 - Write a function with multiple parameters\n",
    "\n",
    "def calculate_total_cost(item_price, quantity, tax_rate):\n",
    "    \"\"\"Calculate the total cost of a purchase.\"\"\"\n",
    "    subtotal = item_price * quantity\n",
    "    tax_amount = subtotal * (tax_rate / 100)\n",
    "    total_cost = subtotal + tax_amount\n",
    "    return total_cost\n",
    "\n",
    "total = calculate_total_cost  # Missing three parameters\n",
    "\n",
    "# Use the Signature Help feature to get information about the function's parameters"
   ]
  },
  {
   "cell_type": "markdown",
   "id": "49f9e64a-7e19-4545-9dd2-fd8f3fefce0d",
   "metadata": {},
   "source": [
    "**Hard Level**\n",
    "\n",
    "3. Objective: Gain experience with complex function signatures involving wrong parameters."
   ]
  },
  {
   "cell_type": "code",
   "execution_count": 3,
   "id": "cdf88bef-b2e2-4319-863d-24c453e44bee",
   "metadata": {
    "tags": []
   },
   "outputs": [],
   "source": [
    "# Exercise 12 - Write a function that calculates the factorial of a number\n",
    "\n",
    "def factorial(n):\n",
    "    \"\"\"Calculate the factorial of a number.\"\"\"\n",
    "    if n == 0:\n",
    "        return 1\n",
    "    else:\n",
    "        return n * factorial(n - 1)\n",
    "\n",
    "factorial_result = factorial(\"string\")  # Can you figure out what's wrong in this line?\n",
    "\n",
    "# Use the Signature Help feature to get information about the function's parameters as you did in the previous exercises"
   ]
  },
  {
   "cell_type": "markdown",
   "id": "a59fed75-8b91-4a41-89f0-a6e63906f679",
   "metadata": {},
   "source": [
    "## **Exercise 5: Code Linting**\n"
   ]
  },
  {
   "cell_type": "markdown",
   "id": "24676919-af13-4e6f-8902-ee4a41db3a98",
   "metadata": {},
   "source": [
    "### Steps:\n",
    "1. **Trigger \"Signature Help\":** As you noticed in the first exercise, typing an open parenthesis will automatically trigger signature help. You can also click **Ctrl+Hover** to view for more information.\n",
    "2. **Review the signature information:** Once the Signature Help is displayed, you will see details about the function or method being called, including the parameter names, types, and descriptions. This information helps you understand the expected arguments and their order.\n",
    "3. **Select the desired signature:** If multiple signatures are available, choose the one that matches your intended usage or requirements. With the Signature Help information visible, you can ensure you provide the correct arguments to the function call. It helps prevent errors by showing you the expected parameter types, order, and even optional or default values."
   ]
  },
  {
   "cell_type": "code",
   "execution_count": 4,
   "id": "55e9c429-1e7d-4796-809f-e2f673ed49a3",
   "metadata": {
    "tags": []
   },
   "outputs": [
    {
     "name": "stdout",
     "output_type": "stream",
     "text": [
      "Hello, World!\n"
     ]
    }
   ],
   "source": [
    "# Exercise 13 - Identify Syntax Errors\n",
    "\n",
    "# Write code with syntax errors\n",
    "print(\"Hello, World!\"\n",
    "name = \"Alice\"\n",
    "\n",
    "# Use the Code Linting feature to identify syntax errors and fix the error. You should see a red underline under 2 places."
   ]
  },
  {
   "cell_type": "code",
   "execution_count": 5,
   "id": "436a2517-d64a-499f-b6fb-7cd61f5e7b6b",
   "metadata": {
    "tags": []
   },
   "outputs": [
    {
     "ename": "SyntaxError",
     "evalue": "'(' was never closed (2679916920.py, line 4)",
     "output_type": "error",
     "traceback": [
      "\u001b[0;36m  Cell \u001b[0;32mIn[5], line 4\u001b[0;36m\u001b[0m\n\u001b[0;31m    print(\"Hello, World!\"\u001b[0m\n\u001b[0m         ^\u001b[0m\n\u001b[0;31mSyntaxError\u001b[0m\u001b[0;31m:\u001b[0m '(' was never closed\n"
     ]
    }
   ],
   "source": [
    "# Exercise 1 - Identify Syntax Errors\n",
    "\n",
    "# Write code with syntax errors\n",
    "print(\"Hello, World!\"\n",
    "name = \"Alice\"\n",
    "\n",
    "# Use the Code Linting feature to identify syntax errors\n"
   ]
  },
  {
   "cell_type": "code",
   "execution_count": 3,
   "id": "cf51fe3b-3afa-40b4-bfaa-0b897180bb19",
   "metadata": {
    "tags": []
   },
   "outputs": [
    {
     "ename": "IndentationError",
     "evalue": "expected an indented block after function definition on line 6 (905748530.py, line 7)",
     "output_type": "error",
     "traceback": [
      "\u001b[0;36m  Cell \u001b[0;32mIn[3], line 7\u001b[0;36m\u001b[0m\n\u001b[0;31m    return a+b\u001b[0m\n\u001b[0m    ^\u001b[0m\n\u001b[0;31mIndentationError\u001b[0m\u001b[0;31m:\u001b[0m expected an indented block after function definition on line 6\n"
     ]
    }
   ],
   "source": [
    "# Exercise 2 - Format Code Style\n",
    "\n",
    "# Write code that violates code styling conventions\n",
    "myVariable=42\n",
    "\n",
    "def myFunction (a,b):\n",
    "return a+b\n",
    "\n",
    "# Use the Code Formatting feature to apply consistent code styling conventions\n"
   ]
  },
  {
   "cell_type": "markdown",
   "id": "ad62601a-fdf3-426d-9432-2918e8a2a234",
   "metadata": {},
   "source": [
    "## **Exercise 4: Code Formatting**"
   ]
  },
  {
   "cell_type": "markdown",
   "id": "da18cf0a-bbab-4d36-a95a-1335f69208fb",
   "metadata": {},
   "source": [
    "### Steps:\n",
    "1. **Trigger \"Go to Definition\":** To use the \"Go to Definition\" feature, you typically right-click on a symbol (variable, function, class, etc.) or use a keyboard shortcut (Cmd + B to jump to the definition or Ctrl+Click to view definition from that point). This action triggers the \"Go to Definition\" command, and the language server will attempt to find the definition of the symbol.\n",
    "2. **Navigate to the definition:** Once you trigger the \"Go to Definition\" command, the editor will attempt to locate the definition of the symbol you clicked on. It might jump to the definition in the current file or navigate to a different file within your project if you clicked jump to definition. \n",
    "3. **Return to the original location:** After viewing the definition, you can usually go back to the original location where you triggered the \"Go to Definition\" command. This allows you to easily navigate between different parts of your codebase."
   ]
  },
  {
   "cell_type": "code",
   "execution_count": 2,
   "id": "8baf908a-2ead-4428-b4cc-49a53ded3eca",
   "metadata": {
    "tags": []
   },
   "outputs": [
    {
     "ename": "IndentationError",
     "evalue": "expected an indented block after 'for' statement on line 4 (2883392774.py, line 5)",
     "output_type": "error",
     "traceback": [
      "\u001b[0;36m  Cell \u001b[0;32mIn[2], line 5\u001b[0;36m\u001b[0m\n\u001b[0;31m    print(\"Hello, World!\")  # Inconsistent indentation\u001b[0m\n\u001b[0m    ^\u001b[0m\n\u001b[0;31mIndentationError\u001b[0m\u001b[0;31m:\u001b[0m expected an indented block after 'for' statement on line 4\n"
     ]
    }
   ],
   "source": [
    "# Exercise 1 - Format Indentation\n",
    "\n",
    "for i in range(5):\n",
    "print(\"Hello, World!\")  # Inconsistent indentation\n",
    "\n",
    "# Use the Code Formatting feature to adjust the indentation\n",
    "\n",
    "LookupError(\n"
   ]
  },
  {
   "cell_type": "markdown",
   "id": "8a7be3a7-e204-44ac-ade9-2200b6e6cf49",
   "metadata": {},
   "source": [
    "## **Exercise 5: Code Linting**\n"
   ]
  },
  {
   "cell_type": "markdown",
   "id": "f3938572-4a3d-4a01-99e4-8c37234045b3",
   "metadata": {},
   "source": [
    "### Steps:\n",
    "1. **Trigger \"Go to Definition\":** To use the \"Go to Definition\" feature, you typically right-click on a symbol (variable, function, class, etc.) or use a keyboard shortcut (Cmd + B to jump to the definition or Ctrl+Click to view definition from that point). This action triggers the \"Go to Definition\" command, and the language server will attempt to find the definition of the symbol.\n",
    "2. **Navigate to the definition:** Once you trigger the \"Go to Definition\" command, the editor will attempt to locate the definition of the symbol you clicked on. It might jump to the definition in the current file or navigate to a different file within your project if you clicked jump to definition. \n",
    "3. **Return to the original location:** After viewing the definition, you can usually go back to the original location where you triggered the \"Go to Definition\" command. This allows you to easily navigate between different parts of your codebase."
   ]
  }
 ],
 "metadata": {
  "kernelspec": {
   "display_name": "Python 3 (ipykernel)",
   "language": "python",
   "name": "python3"
  },
  "language_info": {
   "codemirror_mode": {
    "name": "ipython",
    "version": 3
   },
   "file_extension": ".py",
   "mimetype": "text/x-python",
   "name": "python",
   "nbconvert_exporter": "python",
   "pygments_lexer": "ipython3",
   "version": "3.11.4"
  }
 },
 "nbformat": 4,
 "nbformat_minor": 5
}
