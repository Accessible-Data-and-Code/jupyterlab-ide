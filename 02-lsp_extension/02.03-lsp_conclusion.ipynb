{
 "cells": [
  {
   "cell_type": "markdown",
   "id": "636f3196-5f3e-4c37-bb28-dab2da826ae9",
   "metadata": {},
   "source": [
    "# **Conclusion**"
   ]
  },
  {
   "cell_type": "markdown",
   "id": "63f494d7-4b58-41e5-8105-393500c29758",
   "metadata": {},
   "source": [
    "<p style=\"text-align: center;\">\n",
    "    <img src=\"https://media.giphy.com/media/eMUAQh5FalIGKTBTwn/giphy.gif\" width=\"450\" height=\"450\"/>\n",
    "</p>"
   ]
  },
  {
   "cell_type": "markdown",
   "id": "63f5e5ff-e7c8-4dcb-b6ad-1e5fa283485c",
   "metadata": {},
   "source": [
    "Congrats! You just completed learning the fundamentals of the LSP extension. Before we celebrate, a couple things to keep in mind about LSP. "
   ]
  },
  {
   "cell_type": "markdown",
   "id": "4dfd4b96-6bb5-4f2f-9bb2-df51b31fefd1",
   "metadata": {},
   "source": [
    "## What did we learn?\n",
    "\n",
    "In this tutorial we covered a few features:\n",
    "\n",
    "- **Code Completion:** suggests relevant code snippets, function names, and variable suggestions as you type, helping you write code faster and with fewer errors\n",
    "- **Go-to-Definition:** allows you to navigate directly to the definition of a function, class, or variable with a single click or shortcut\n",
    "- **Find references:** allows you to search for and locate specific references to functions, variables, classes, or other code elements within your codebase\n",
    "- **Signature Help:** Provides real-time assistance by displaying the parameters, types, and documentation of a function as you write, helping you avoid errors and ensuring that your code adheres to the required syntax.\n",
    "- **Code linting:** Automatically analyzes your code for potential errors, style violations, and best practices"
   ]
  },
  {
   "cell_type": "markdown",
   "id": "25f2c5d6-7348-4f58-ac5c-be5636836b0a",
   "metadata": {},
   "source": [
    "## Benefits of LSP\n",
    "\n",
    "- **Faster Coding!:** LSP offers intelligent suggestions and different tools to naviagate around your codebase easily, allowing for a faster and smoother programming experience. \n",
    "- **Enhanced Language Support:** Provides expanded language support, enabling developers to work with a wider range of programming languages beyond the default kernels available in Jupyter. We worked in Python, but these features are mirrored in any other language. \n",
    "- **Standardization:** LSP provides a standardized protocol for language servers, facilitating seamless integration and consistent language support across different environments and tools."
   ]
  },
  {
   "cell_type": "markdown",
   "id": "10ec4b81-fce0-42b3-b644-563c930dbad3",
   "metadata": {},
   "source": [
    "## Downfalls of LSP\n",
    "\n",
    "- **Installation:** You have to make sure the correct dependancies are installed for it to work. When I first attempted to use the lsp extension, I was missing the jedai-ai-server package which meant that the LSP server was not running. It took me about 1-2 hours just in troubleshooting to get it to work.\n",
    "- **Configuration and Customization:** Configuring and customizing LSP settings and extensions can be complex, especially for beginners or users who are not familiar with the underlying technology. Understanding and tweaking language server configurations may require additional effort and research. \n",
    "- **Random pop-ups:** What I mean by this is in the first exercise you noticed how a bunch of information popped up which we weren't necessarily looking for. Sometimes this extension can be overkill if you don't need the additional information and you accidentally hover over something. "
   ]
  },
  {
   "cell_type": "markdown",
   "id": "9db67529-eb35-4a06-97e3-5ac813a13e9e",
   "metadata": {},
   "source": [
    "<p style=\"text-align: center;\">\n",
    "    <img src=\"https://media.giphy.com/media/t3BUt5IaoL4po2SU0o/giphy.gif\" width=\"350\" height=\"350\"/>\n",
    "</p>"
   ]
  },
  {
   "cell_type": "markdown",
   "id": "b413cf87-957f-44aa-845f-25201e1c5da4",
   "metadata": {},
   "source": [
    "To wrap up, this notebook has introduced you to the **Language Server Protocol (LSP)** and its integration with Jupyter Notebook. We explored the benefits of leveraging LSP in Jupyter, such as enhanced language support, advanced code completion, seamless navigation, among much more. By incorporating LSP into your Jupyter workflow, you can unlock a range of powerful features that streamline your coding experience, boost productivity, and enhance code quality. As you continue your journey with Jupyter Notebook and explore different programming languages, remember to leverage the potential of LSP to maximize your development capabilities. Happy coding!"
   ]
  }
 ],
 "metadata": {
  "kernelspec": {
   "display_name": "Python 3 (ipykernel)",
   "language": "python",
   "name": "python3"
  },
  "language_info": {
   "codemirror_mode": {
    "name": "ipython",
    "version": 3
   },
   "file_extension": ".py",
   "mimetype": "text/x-python",
   "name": "python",
   "nbconvert_exporter": "python",
   "pygments_lexer": "ipython3",
   "version": "3.11.4"
  }
 },
 "nbformat": 4,
 "nbformat_minor": 5
}
