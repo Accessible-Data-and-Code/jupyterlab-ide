{
 "cells": [
  {
   "cell_type": "markdown",
   "id": "1a14c9b1-ca2c-4859-86e6-3d0867f4fec6",
   "metadata": {
    "tags": []
   },
   "source": [
    " # **JupyterLab-lsp Extension!** "
   ]
  },
  {
   "cell_type": "markdown",
   "id": "5ec4c4f6-ea56-4e15-8041-46ee9e0545a8",
   "metadata": {},
   "source": [
    "Welcome to the JupyterLab-lsp tutorial notebook!! As you may have already learned, JupyterLab offers a rich ecosystem of extensions that expand its functionality and capabilities to customize the environment to suit your specific needs, making it feel more like an IDE. In this tutorial, we will specifically focus on exploring the Language Server Protocol (LSP) extension which brings advanced language features to JupyterLab. We will delve into the capabilities of LSP, providing you with the knowledge and practical experience to make the most of this powerful tool in your coding workflow through some informative reading and hands-on exercises! Let's begin!"
   ]
  },
  {
   "cell_type": "markdown",
   "id": "a05c1c54-fd0f-4ae1-b182-ebd681f3556c",
   "metadata": {},
   "source": [
    "<p style=\"text-align: center;\">\n",
    "    <img src=\"https://media.giphy.com/media/QWvra259h4LCvdJnxP/giphy.gif\" width=\"100\" height=\"100\"/>\n",
    "</p>"
   ]
  },
  {
   "cell_type": "markdown",
   "id": "0b7814b9-810d-42fc-8174-ee7449bc7e5a",
   "metadata": {
    "tags": []
   },
   "source": [
    "## What is LSP?"
   ]
  },
  {
   "cell_type": "markdown",
   "id": "d5cbb42a-8147-4e61-a965-895e7a595089",
   "metadata": {},
   "source": [
    "So what exactly is LSP?! LSP stands for *Language Server Protocol*. At its core, LSP serves as a standardized interface that enables language servers to communicate their capabilities and functionality to client applications. \n",
    "\n",
    "In other words....\n",
    "\n",
    "Imagine you are playing a video game with different characters and each character has their own special abilities but each character can only understand their own language and can't communicate with the others. Now, imagine if there was a special communication device that allowed the characters to understand and work together. This device translates their unique languages into a common language that everyone understands. With this device, the characters can share their abilities, strategies, and coordinate their actions to complete challenges and win the game.\n",
    "\n",
    "In the coding world, different programming languages are like the characters in the game, each with its own set of features and capabilities. LSP acts as the special communication device that enables different coding tools and environments to understand and work together. It translates the specific language features of each programming language into a common language that the tools and environments can comprehend. With LSP, developers can use the best features of each programming language within their preferred coding environment. It's like having a universal translator for coding that brings harmony and collaboration, allowing developers to leverage the strengths of different programming languages and enhance their coding experience.\n",
    "\n",
    "------\n",
    "\n",
    "Here are a few of the features that we will cover in this tutorial: \n",
    "1. **Code Completion:** LSP provides intelligent code completion suggestions, helping developers write code faster and with fewer errors. It suggests relevant code snippets, function names, variable names, and other context-specific completions.\n",
    "2. **Hover Information:** LSP allows the display of hover information, which provides additional details about symbols, functions, or variables when the user hovers over them. This can include documentation, function signatures, or type information.\n",
    "3. **Signature Help:** This assists developers by displaying the parameters and their types for a particular function or method. This helps ensure that the correct arguments are passed when calling functions.\n",
    "4. **Go to Definition:** This allows developers to navigate directly to the definition of a symbol or identifier. This is particularly useful for understanding how code is implemented and for jumping between different parts of a codebase.\n",
    "5. **Find References:** LSP allows developers to find all references to a particular symbol or identifier within a codebase. This facilitates understanding how a symbol is used throughout the code and assists with tasks such as refactoring or debugging.\n",
    "\n",
    "-----\n",
    "\n"
   ]
  },
  {
   "cell_type": "markdown",
   "id": "7011cf4b-ba8e-4cf9-8ef1-fa67c90d8f84",
   "metadata": {},
   "source": [
    "## Brief History of LSP"
   ]
  },
  {
   "cell_type": "markdown",
   "id": "5f88ef78-0e34-4553-99fb-6bfb64d95f44",
   "metadata": {},
   "source": [
    "LSP originated from the need to improve the development experience across different integrated development environments (IDEs) and code editors. In the past, IDEs and editors had to implement language-specific features individually, resulting in redundant efforts and unecessary hassle. To address these challenges, Microsoft introduced LSP in 2016 as an open and standardized protocol. LSP aimed to establish a common language for communication between language servers (tools providing advanced language features) and client applications (IDEs or editors). The goal was to enable language servers to be developed independently and used across multiple IDEs and editors seamlessly. Since its inception, LSP has gained widespread adoption and support from various development communities, enhancing the coding experience for developers worldwide. \n",
    "\n",
    "*To find more information on the background and theory of LSP, visit Microsoft's website [here](https://learn.microsoft.com/en-us/visualstudio/extensibility/language-server-protocol?view=vs-2022)."
   ]
  },
  {
   "cell_type": "markdown",
   "id": "65a765de-8076-4b95-85f9-064b1d461f7c",
   "metadata": {},
   "source": [
    "## Usage"
   ]
  },
  {
   "cell_type": "markdown",
   "id": "b8bb0566-065f-4785-8bd9-6c4b125a7d4f",
   "metadata": {},
   "source": [
    "For your convenience, jupyterlab-lsp is already added as an extension to the environment.yml file, located in the binder folder. However, if you would like to add it on your own using a new environment and notebook, simply open the extension manager (puzzle piece on left sidebar) and search \"JupyterLab LSP\" extension in the searchbar. Click install. After the installation is complete, you will be prompted to enable the installed extension. Click on the \"Enable\" button to activate the LSP extension. Restart JupyterNotebook for the changes to take effect and verify the installation. \n",
    "\n",
    "At the bottom of the toolbar, make sure the LSP server is fully initialized. If you click on it, you will see that it is either running or not. You may need to install additional dependancies to run the LSP server through the command line in terminal."
   ]
  },
  {
   "cell_type": "markdown",
   "id": "5390b19a-f385-440c-8811-1bad596cd3bc",
   "metadata": {},
   "source": [
    "## Let's get to it!"
   ]
  },
  {
   "cell_type": "markdown",
   "id": "fe0ff1c9-9b90-4ea0-8f66-3c06f06b073c",
   "metadata": {
    "tags": []
   },
   "source": [
    "Whew, that was a lot! Whether you're a beginner looking to learn the basics of LSP or an experienced developer aiming to leverage its full potential, this tutorial notebook will guide you through a series of hands-on exercises to help you become proficient in using LSP. Head over to the next notebook to start the exercises. "
   ]
  },
  {
   "cell_type": "markdown",
   "id": "17cb175b-1fd4-42b4-a5f8-2ef4195b1a86",
   "metadata": {
    "tags": []
   },
   "source": [
    "<p style=\"text-align: center;\">\n",
    "    <img src=\"https://media.giphy.com/media/qgQUggAC3Pfv687qPC/giphy.gif\" width=\"250\" height=\"250\"/>\n",
    "</p>"
   ]
  }
 ],
 "metadata": {
  "kernelspec": {
   "display_name": "Python 3 (ipykernel)",
   "language": "python",
   "name": "python3"
  },
  "language_info": {
   "codemirror_mode": {
    "name": "ipython",
    "version": 3
   },
   "file_extension": ".py",
   "mimetype": "text/x-python",
   "name": "python",
   "nbconvert_exporter": "python",
   "pygments_lexer": "ipython3",
   "version": "3.11.4"
  }
 },
 "nbformat": 4,
 "nbformat_minor": 5
}
