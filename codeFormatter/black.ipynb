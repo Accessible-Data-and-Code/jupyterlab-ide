{
 "cells": [
  {
   "cell_type": "markdown",
   "metadata": {},
   "source": [
    "[notebook](https://www.kaggle.com/code/deveshupreti/models-comparision-food-ingredients-and-allergens) from Kaggle\n",
    "\n",
    "## **Basic Libraries**"
   ]
  },
  {
   "cell_type": "code",
   "execution_count": null,
   "metadata": {
    "_cell_guid": "b1076dfc-b9ad-4769-8c92-a6c4dae69d19",
    "_uuid": "8f2839f25d086af736a60e9eeb907d3b93b6e0e5",
    "execution": {
     "iopub.execute_input": "2023-05-29T01:21:36.126337Z",
     "iopub.status.busy": "2023-05-29T01:21:36.125575Z",
     "iopub.status.idle": "2023-05-29T01:21:36.1635Z",
     "shell.execute_reply": "2023-05-29T01:21:36.162245Z",
     "shell.execute_reply.started": "2023-05-29T01:21:36.126293Z"
    }
   },
   "outputs": [],
   "source": [
    "import pandas as pd\n",
    "import numpy as np\n",
    "\n",
    "import warnings\n",
    "warnings.filterwarnings('ignore')"
   ]
  },
  {
   "cell_type": "markdown",
   "metadata": {},
   "source": [
    "## Reading **\"csv\"**"
   ]
  },
  {
   "cell_type": "code",
   "execution_count": null,
   "metadata": {
    "execution": {
     "iopub.execute_input": "2023-05-29T01:21:36.166292Z",
     "iopub.status.busy": "2023-05-29T01:21:36.165808Z",
     "iopub.status.idle": "2023-05-29T01:21:36.225451Z",
     "shell.execute_reply": "2023-05-29T01:21:36.22433Z",
     "shell.execute_reply.started": "2023-05-29T01:21:36.166243Z"
    }
   },
   "outputs": [],
   "source": [
    "df = pd.read_csv(\"/kaggle/input/food-ingredients-and-allergens/food_ingredients_and_allergens.csv\")\n",
    "df.head()"
   ]
  },
  {
   "cell_type": "markdown",
   "metadata": {},
   "source": [
    "## **Exploratory Data Analysis**"
   ]
  },
  {
   "cell_type": "markdown",
   "metadata": {},
   "source": [
    "### **Shape**"
   ]
  },
  {
   "cell_type": "code",
   "execution_count": null,
   "metadata": {
    "execution": {
     "iopub.execute_input": "2023-05-29T01:21:36.227338Z",
     "iopub.status.busy": "2023-05-29T01:21:36.226908Z",
     "iopub.status.idle": "2023-05-29T01:21:36.235526Z",
     "shell.execute_reply": "2023-05-29T01:21:36.234205Z",
     "shell.execute_reply.started": "2023-05-29T01:21:36.227301Z"
    }
   },
   "outputs": [],
   "source": [
    "df.shape"
   ]
  },
  {
   "cell_type": "markdown",
   "metadata": {},
   "source": [
    "### Checking **\"Duplicates\"**"
   ]
  },
  {
   "cell_type": "code",
   "execution_count": null,
   "metadata": {
    "execution": {
     "iopub.execute_input": "2023-05-29T01:21:36.238457Z",
     "iopub.status.busy": "2023-05-29T01:21:36.238113Z",
     "iopub.status.idle": "2023-05-29T01:21:36.261146Z",
     "shell.execute_reply": "2023-05-29T01:21:36.260013Z",
     "shell.execute_reply.started": "2023-05-29T01:21:36.238424Z"
    }
   },
   "outputs": [],
   "source": [
    "sum(df.duplicated())"
   ]
  },
  {
   "cell_type": "markdown",
   "metadata": {},
   "source": [
    "### Removing **\"Duplicates\"**"
   ]
  },
  {
   "cell_type": "code",
   "execution_count": null,
   "metadata": {
    "execution": {
     "iopub.execute_input": "2023-05-29T01:21:36.263192Z",
     "iopub.status.busy": "2023-05-29T01:21:36.262846Z",
     "iopub.status.idle": "2023-05-29T01:21:36.273638Z",
     "shell.execute_reply": "2023-05-29T01:21:36.272672Z",
     "shell.execute_reply.started": "2023-05-29T01:21:36.263147Z"
    }
   },
   "outputs": [],
   "source": [
    "df.drop_duplicates(inplace = True)\n",
    "df.shape"
   ]
  },
  {
   "cell_type": "markdown",
   "metadata": {},
   "source": [
    "### Checking **\"NA\"**"
   ]
  },
  {
   "cell_type": "code",
   "execution_count": null,
   "metadata": {
    "execution": {
     "iopub.execute_input": "2023-05-29T01:21:36.276261Z",
     "iopub.status.busy": "2023-05-29T01:21:36.275163Z",
     "iopub.status.idle": "2023-05-29T01:21:36.287838Z",
     "shell.execute_reply": "2023-05-29T01:21:36.286647Z",
     "shell.execute_reply.started": "2023-05-29T01:21:36.276221Z"
    }
   },
   "outputs": [],
   "source": [
    "df.isna().sum()\n"
   ]
  },
  {
   "cell_type": "markdown",
   "metadata": {},
   "source": [
    "### Removing **\"NA\"**"
   ]
  },
  {
   "cell_type": "code",
   "execution_count": null,
   "metadata": {
    "execution": {
     "iopub.execute_input": "2023-05-29T01:21:36.290423Z",
     "iopub.status.busy": "2023-05-29T01:21:36.289306Z",
     "iopub.status.idle": "2023-05-29T01:21:36.30025Z",
     "shell.execute_reply": "2023-05-29T01:21:36.298841Z",
     "shell.execute_reply.started": "2023-05-29T01:21:36.290393Z"
    }
   },
   "outputs": [],
   "source": [
    "df.dropna(inplace = True)\n",
    "df.shape"
   ]
  },
  {
   "cell_type": "markdown",
   "metadata": {},
   "source": [
    "### Checking **\"columns\"** and **\"nunique\"** values in these columns"
   ]
  },
  {
   "cell_type": "code",
   "execution_count": null,
   "metadata": {
    "execution": {
     "iopub.execute_input": "2023-05-29T01:21:36.304341Z",
     "iopub.status.busy": "2023-05-29T01:21:36.303734Z",
     "iopub.status.idle": "2023-05-29T01:21:36.311309Z",
     "shell.execute_reply": "2023-05-29T01:21:36.310069Z",
     "shell.execute_reply.started": "2023-05-29T01:21:36.304309Z"
    }
   },
   "outputs": [],
   "source": [
    "df.columns"
   ]
  },
  {
   "cell_type": "code",
   "execution_count": null,
   "metadata": {
    "execution": {
     "iopub.execute_input": "2023-05-29T01:21:36.315583Z",
     "iopub.status.busy": "2023-05-29T01:21:36.315249Z",
     "iopub.status.idle": "2023-05-29T01:21:36.326544Z",
     "shell.execute_reply": "2023-05-29T01:21:36.325469Z",
     "shell.execute_reply.started": "2023-05-29T01:21:36.315556Z"
    }
   },
   "outputs": [],
   "source": [
    "for item in list(df.columns):\n",
    "    print(item , \"   \" , df[item].nunique())"
   ]
  },
  {
   "cell_type": "markdown",
   "metadata": {},
   "source": [
    "### Checking Similarity Between **\"Allergens\"** and **\"Prediction\"**"
   ]
  },
  {
   "cell_type": "code",
   "execution_count": null,
   "metadata": {
    "execution": {
     "iopub.execute_input": "2023-05-29T01:29:31.111363Z",
     "iopub.status.busy": "2023-05-29T01:29:31.110968Z",
     "iopub.status.idle": "2023-05-29T01:29:31.12777Z",
     "shell.execute_reply": "2023-05-29T01:29:31.126678Z",
     "shell.execute_reply.started": "2023-05-29T01:29:31.111335Z"
    }
   },
   "outputs": [],
   "source": [
    "df[(df['Allergens'] == 'None')&(df['Prediction']==\"Contains\")]"
   ]
  },
  {
   "cell_type": "markdown",
   "metadata": {},
   "source": [
    "\n",
    "    5 rows showing dissimilarity between **\"Allergens\"** and **\"Prediction\"** Columns"
   ]
  },
  {
   "cell_type": "markdown",
   "metadata": {},
   "source": [
    "### Sorting it out by changing **'Contains'** to **'Does not contain'** in **\"Prediction\"** column"
   ]
  },
  {
   "cell_type": "code",
   "execution_count": null,
   "metadata": {
    "execution": {
     "iopub.execute_input": "2023-05-29T01:47:33.480492Z",
     "iopub.status.busy": "2023-05-29T01:47:33.480059Z",
     "iopub.status.idle": "2023-05-29T01:47:33.488703Z",
     "shell.execute_reply": "2023-05-29T01:47:33.487274Z",
     "shell.execute_reply.started": "2023-05-29T01:47:33.480462Z"
    }
   },
   "outputs": [],
   "source": [
    "df['Prediction'] = np.where((df['Allergens'] == 'None')&(df['Prediction']==\"Contains\"),\"Does not contain\",df['Prediction'])"
   ]
  },
  {
   "cell_type": "code",
   "execution_count": null,
   "metadata": {
    "execution": {
     "iopub.execute_input": "2023-05-29T01:47:46.738961Z",
     "iopub.status.busy": "2023-05-29T01:47:46.738557Z",
     "iopub.status.idle": "2023-05-29T01:47:46.751931Z",
     "shell.execute_reply": "2023-05-29T01:47:46.750742Z",
     "shell.execute_reply.started": "2023-05-29T01:47:46.738932Z"
    }
   },
   "outputs": [],
   "source": [
    "df[(df['Allergens'] == 'None')&(df['Prediction']==\"Contains\")]"
   ]
  },
  {
   "cell_type": "markdown",
   "metadata": {},
   "source": [
    "## Creating **\"X\"** AND **\"y\"**"
   ]
  },
  {
   "cell_type": "code",
   "execution_count": null,
   "metadata": {
    "execution": {
     "iopub.execute_input": "2023-05-29T01:54:13.31002Z",
     "iopub.status.busy": "2023-05-29T01:54:13.309611Z",
     "iopub.status.idle": "2023-05-29T01:54:13.31735Z",
     "shell.execute_reply": "2023-05-29T01:54:13.316151Z",
     "shell.execute_reply.started": "2023-05-29T01:54:13.309989Z"
    }
   },
   "outputs": [],
   "source": [
    "X = df.drop(['Prediction','Allergens'], axis  =1)\n",
    "y = pd.DataFrame(df['Prediction'])"
   ]
  },
  {
   "cell_type": "markdown",
   "metadata": {},
   "source": [
    "## **Mapping \"Numeric\" values to all \"Text\" data in columns**"
   ]
  },
  {
   "cell_type": "code",
   "execution_count": null,
   "metadata": {
    "execution": {
     "iopub.execute_input": "2023-05-29T01:54:15.04217Z",
     "iopub.status.busy": "2023-05-29T01:54:15.041242Z",
     "iopub.status.idle": "2023-05-29T01:54:15.059938Z",
     "shell.execute_reply": "2023-05-29T01:54:15.05862Z",
     "shell.execute_reply.started": "2023-05-29T01:54:15.042132Z"
    }
   },
   "outputs": [],
   "source": [
    "for column in list(X.columns):\n",
    "    X[column+' '+'Label'] = X[column].map(dict(zip(pd.Series(X[column].unique()),pd.Series([i for i in range(X[column].nunique())]))))\n",
    "    "
   ]
  },
  {
   "cell_type": "code",
   "execution_count": null,
   "metadata": {
    "execution": {
     "iopub.execute_input": "2023-05-29T01:54:18.811804Z",
     "iopub.status.busy": "2023-05-29T01:54:18.811401Z",
     "iopub.status.idle": "2023-05-29T01:54:18.825806Z",
     "shell.execute_reply": "2023-05-29T01:54:18.824534Z",
     "shell.execute_reply.started": "2023-05-29T01:54:18.811751Z"
    }
   },
   "outputs": [],
   "source": [
    "X.drop(['Food Product', 'Main Ingredient', 'Sweetener', 'Fat/Oil', 'Seasoning'], axis =1 , inplace = True)\n",
    "X.head()"
   ]
  },
  {
   "cell_type": "code",
   "execution_count": null,
   "metadata": {
    "execution": {
     "iopub.execute_input": "2023-05-29T01:54:22.949548Z",
     "iopub.status.busy": "2023-05-29T01:54:22.949133Z",
     "iopub.status.idle": "2023-05-29T01:54:22.960225Z",
     "shell.execute_reply": "2023-05-29T01:54:22.959087Z",
     "shell.execute_reply.started": "2023-05-29T01:54:22.949511Z"
    }
   },
   "outputs": [],
   "source": [
    "y.value_counts()"
   ]
  },
  {
   "cell_type": "code",
   "execution_count": null,
   "metadata": {
    "execution": {
     "iopub.execute_input": "2023-05-29T01:54:25.275026Z",
     "iopub.status.busy": "2023-05-29T01:54:25.274386Z",
     "iopub.status.idle": "2023-05-29T01:54:25.288013Z",
     "shell.execute_reply": "2023-05-29T01:54:25.286539Z",
     "shell.execute_reply.started": "2023-05-29T01:54:25.274993Z"
    }
   },
   "outputs": [],
   "source": [
    "y['Prediction Label'] = y['Prediction'].map({\"Contains\":1,\"Does not contain\" : 0})\n",
    "y.drop(['Prediction'], axis =1 , inplace =True)\n",
    "y.head()"
   ]
  },
  {
   "cell_type": "markdown",
   "metadata": {},
   "source": [
    "## **\"train_test_split\"**"
   ]
  },
  {
   "cell_type": "code",
   "execution_count": null,
   "metadata": {
    "execution": {
     "iopub.execute_input": "2023-05-29T01:54:29.784122Z",
     "iopub.status.busy": "2023-05-29T01:54:29.783705Z",
     "iopub.status.idle": "2023-05-29T01:54:29.795578Z",
     "shell.execute_reply": "2023-05-29T01:54:29.794738Z",
     "shell.execute_reply.started": "2023-05-29T01:54:29.784092Z"
    }
   },
   "outputs": [],
   "source": [
    "from sklearn.model_selection import train_test_split\n",
    "\n",
    "X_train , X_test , y_train , y_test = train_test_split(X,y , test_size=0.2 , random_state=23, stratify=y)"
   ]
  },
  {
   "cell_type": "markdown",
   "metadata": {},
   "source": [
    "## **\"RandomForestClassifier\"**"
   ]
  },
  {
   "cell_type": "code",
   "execution_count": null,
   "metadata": {
    "execution": {
     "iopub.execute_input": "2023-05-29T01:54:33.62288Z",
     "iopub.status.busy": "2023-05-29T01:54:33.622376Z",
     "iopub.status.idle": "2023-05-29T01:54:33.88736Z",
     "shell.execute_reply": "2023-05-29T01:54:33.886214Z",
     "shell.execute_reply.started": "2023-05-29T01:54:33.622845Z"
    }
   },
   "outputs": [],
   "source": [
    "from sklearn.ensemble import RandomForestClassifier\n",
    "\n",
    "model = RandomForestClassifier()\n",
    "\n",
    "model.fit(X_train , y_train)\n",
    "\n",
    "rf_score = model.score(X_test , y_test)\n",
    "\n",
    "rf_score"
   ]
  },
  {
   "cell_type": "markdown",
   "metadata": {},
   "source": [
    "## **\"DecisionTreeClassifier\"**"
   ]
  },
  {
   "cell_type": "code",
   "execution_count": null,
   "metadata": {
    "execution": {
     "iopub.execute_input": "2023-05-29T01:54:37.093536Z",
     "iopub.status.busy": "2023-05-29T01:54:37.092905Z",
     "iopub.status.idle": "2023-05-29T01:54:37.110652Z",
     "shell.execute_reply": "2023-05-29T01:54:37.109181Z",
     "shell.execute_reply.started": "2023-05-29T01:54:37.093497Z"
    }
   },
   "outputs": [],
   "source": [
    "from sklearn.tree import DecisionTreeClassifier\n",
    "\n",
    "model = DecisionTreeClassifier()\n",
    "\n",
    "model.fit(X_train , y_train)\n",
    "\n",
    "dt_score = model.score(X_test , y_test)\n",
    "\n",
    "dt_score"
   ]
  },
  {
   "cell_type": "markdown",
   "metadata": {},
   "source": [
    "## **\"KNeighborsClassifier\"**"
   ]
  },
  {
   "cell_type": "code",
   "execution_count": null,
   "metadata": {
    "execution": {
     "iopub.execute_input": "2023-05-29T01:54:40.759687Z",
     "iopub.status.busy": "2023-05-29T01:54:40.759278Z",
     "iopub.status.idle": "2023-05-29T01:54:40.780949Z",
     "shell.execute_reply": "2023-05-29T01:54:40.779561Z",
     "shell.execute_reply.started": "2023-05-29T01:54:40.759648Z"
    }
   },
   "outputs": [],
   "source": [
    "from sklearn.neighbors import KNeighborsClassifier\n",
    "\n",
    "model = KNeighborsClassifier()\n",
    "\n",
    "model.fit(X_train , y_train)\n",
    "\n",
    "kn_score = model.score(X_test , y_test)\n",
    "\n",
    "kn_score"
   ]
  },
  {
   "cell_type": "markdown",
   "metadata": {},
   "source": [
    "## **\"SVC\"**"
   ]
  },
  {
   "cell_type": "code",
   "execution_count": null,
   "metadata": {
    "execution": {
     "iopub.execute_input": "2023-05-29T01:54:44.434576Z",
     "iopub.status.busy": "2023-05-29T01:54:44.434161Z",
     "iopub.status.idle": "2023-05-29T01:54:44.456848Z",
     "shell.execute_reply": "2023-05-29T01:54:44.455501Z",
     "shell.execute_reply.started": "2023-05-29T01:54:44.434543Z"
    }
   },
   "outputs": [],
   "source": [
    "from sklearn.svm import SVC\n",
    "\n",
    "model = SVC()\n",
    "\n",
    "model.fit(X_train , y_train)\n",
    "\n",
    "svc_score = model.score(X_test , y_test)\n",
    "\n",
    "svc_score"
   ]
  },
  {
   "cell_type": "markdown",
   "metadata": {},
   "source": [
    "## **\"score_df\"**"
   ]
  },
  {
   "cell_type": "code",
   "execution_count": null,
   "metadata": {
    "execution": {
     "iopub.execute_input": "2023-05-29T01:54:48.23168Z",
     "iopub.status.busy": "2023-05-29T01:54:48.231301Z",
     "iopub.status.idle": "2023-05-29T01:54:48.245673Z",
     "shell.execute_reply": "2023-05-29T01:54:48.244468Z",
     "shell.execute_reply.started": "2023-05-29T01:54:48.231651Z"
    }
   },
   "outputs": [],
   "source": [
    "score = { \n",
    "    'Model_Name' : ['Random Forest','Decision Tree','K Neighbors','SVC '],\n",
    "       'Score'   : [rf_score, dt_score,kn_score,svc_score]\n",
    "        }\n",
    "\n",
    "score_df= pd.DataFrame(score)\n",
    "score_df\n",
    "\n"
   ]
  },
  {
   "cell_type": "markdown",
   "metadata": {},
   "source": [
    "## **\"MODEL AND THEIR SCORES\"**"
   ]
  },
  {
   "cell_type": "code",
   "execution_count": null,
   "metadata": {
    "execution": {
     "iopub.execute_input": "2023-05-29T01:54:52.156852Z",
     "iopub.status.busy": "2023-05-29T01:54:52.155591Z",
     "iopub.status.idle": "2023-05-29T01:54:52.452156Z",
     "shell.execute_reply": "2023-05-29T01:54:52.450834Z",
     "shell.execute_reply.started": "2023-05-29T01:54:52.156797Z"
    }
   },
   "outputs": [],
   "source": [
    "import matplotlib.pyplot as plt\n",
    "\n",
    "fig = plt.figure(figsize = (8, 5))\n",
    "barplot = plt.bar(score_df.Model_Name, score_df.Score,color =['red', 'yellow', 'pink', 'cyan'] ,edgecolor = \"black\", width = 0.25)\n",
    "plt.bar_label(barplot , labels= round(score_df.Score,3), label_type='center')\n",
    "plt.xlabel(\"Model Name\")\n",
    "plt.ylabel(\"Score\")\n",
    "plt.title(\"MODEL AND THEIR SCORES\")\n",
    "plt.show()"
   ]
  },
  {
   "cell_type": "markdown",
   "metadata": {},
   "source": [
    "## **Thank You !**"
   ]
  }
 ],
 "metadata": {
  "kernelspec": {
   "display_name": "Python 3 (ipykernel)",
   "language": "python",
   "name": "python3"
  },
  "language_info": {
   "codemirror_mode": {
    "name": "ipython",
    "version": 3
   },
   "file_extension": ".py",
   "mimetype": "text/x-python",
   "name": "python",
   "nbconvert_exporter": "python",
   "pygments_lexer": "ipython3",
   "version": "3.11.4"
  }
 },
 "nbformat": 4,
 "nbformat_minor": 4
}
