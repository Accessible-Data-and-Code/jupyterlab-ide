{
 "cells": [
  {
   "cell_type": "markdown",
   "id": "075c7603-1fd1-4aa5-90d6-f63df3aef320",
   "metadata": {},
   "source": [
    "# Introduction to Code Formatter\n",
    "\n",
    "This notebook is an introduction to the [jupyterlab-code-formatter](https://github.com/ryantam626/jupyterlab_code_formatter) extension. What is a code formatter and why is it useful? To start, take a look at the code cell below (a snippet encoding Runge-Kutta 2 from when I was learning to use Python to code some numerical methods). It is not formatted particularly well, though it is not awful. It can be made easier to read if you select the cell, right click it, and pick \"Format Cell\" from the options at the very bottom of that menu. Give it a shot!"
   ]
  },
  {
   "cell_type": "code",
   "execution_count": 5,
   "id": "1d08dc27-c719-4b23-bb56-7fdc304dcd61",
   "metadata": {
    "tags": []
   },
   "outputs": [],
   "source": [
    "# %load example.py\n",
    "import numpy as np\n",
    "import pylab as plt\n",
    "\n",
    "\n",
    "### Part b\n",
    "def myrk2(f, tspan, y0, N, params):\n",
    "    t0, tN = tspan\n",
    "    t = np.linspace(t0, tN, N + 1)\n",
    "    h = t[1] - t[0]\n",
    "    y = np.zeros((*t.shape, *np.array(y0).shape))\n",
    "    y[0] = y0\n",
    "    for k in range(N):\n",
    "        tk, yk = t[k], y[k]\n",
    "        k1 = h * f(tk, yk, params)\n",
    "        k2 = h * f(tk + h, yk + k1, params)\n",
    "        y[k + 1] = yk + (k1 + k2) / 2\n",
    "    return t, y"
   ]
  },
  {
   "cell_type": "markdown",
   "id": "1a0115a3-7e0e-46e8-97a0-e300106ecf21",
   "metadata": {},
   "source": [
    "As you can see, this code snippet would still compile the exact same way, but it is easier to read and separate the different variables from each other. This is what code formatters are for. A code formatter takes code that can be compiled and automatically makes it as human readable as possible. Of course, there are different code formatters and different views of what makes code easier to read. This extension gives you different formatters to choose from and leaves you in control of how your code formatting is automated.\n",
    "\n",
    "## Some Code Formatters for Python\n",
    "\n",
    "For the Python language, there is a set of guidelines on how to format Python code to make it more human readable for a variety of reasons. [INCLUDE REASONS HERE] This extension supports code formatters for Python and R, but we will focus on code formatters for Python in this tutorial. The main four are:\n",
    "\n",
    "- black\n",
    "- YAPF\n",
    "- autopep8\n",
    "- isort\n",
    "\n",
    "Each of these three code formatters are compliant with the [pep8](https://pep8.org/https://pep8.org/) guidelines, but each have their own styling philosophies and purposes.\n",
    "\n",
    "### Black\n",
    "\n",
    "Black is one of the most prominent Python code formatters for a reason. It's very straightforward and does not require much decision making. For Black 23.3.0, the [documentation](https://black.readthedocs.io/en/stable/index.htmlhttps://black.readthedocs.io/en/stable/index.html) says:\n",
    "\n",
    "> By using Black, you agree to cede control over minutiae of hand-formatting. In return, Black gives you speed, determinism, and freedom from pycodestyle nagging about formatting. You will save time and mental energy for more important matters.\n",
    ">\n",
    "> Black makes code review faster by producing the smallest diffs possible. Blackened code looks the same regardless of the project you’re reading. Formatting becomes transparent after a while and you can focus on the content instead.\n",
    "\n",
    "To these ends, Black has made a crucial design decision. It is the least configurable code formatter available for Python. It stringently follows its own formatting preferences, preferences which go beyond the pep8 guidelines. If you use Black for code formatting, you will have the exact same approach for every project that you use.\n",
    "\n",
    "### YAPF\n",
    "\n",
    "YAPF is a code formatter that is owned by Google, though it is not a Google product in any way. Compared to Black, YAPF is very configurable. From the [repository](https://github.com/google/yapfhttps://github.com/google/yapf), its purpose is different from Black:\n",
    "\n",
    "> In essence, the algorithm takes the code and calculates the best formatting that conforms to the configured style. It takes away a lot of the drudgery of maintaining your code.\n",
    ">\n",
    "> The ultimate goal is that the code YAPF produces is as good as the code that a programmer would write if they were following the style guide.\n",
    "\n",
    "This being said, YAPF goes beyond pep8\n",
    "\n",
    "### autopep8\n",
    "\n",
    "### isort"
   ]
  },
  {
   "cell_type": "markdown",
   "id": "c5fd1a4f-16d2-4d23-92be-50281ae2fe26",
   "metadata": {},
   "source": []
  },
  {
   "cell_type": "markdown",
   "id": "b63382d2-8463-49e4-8a51-4c6172e71603",
   "metadata": {},
   "source": [
    "Running formatters in code cells will only run them in the actively selected cell!"
   ]
  },
  {
   "cell_type": "markdown",
   "id": "632d72dd-34b8-4a7d-a8b9-fa55c60e8b53",
   "metadata": {},
   "source": [
    "The line length of different formatters"
   ]
  },
  {
   "cell_type": "code",
   "execution_count": null,
   "id": "278e7340-b1c1-4eba-b2bf-5c12b3d1a0d3",
   "metadata": {},
   "outputs": [],
   "source": [
    "# It is possible to reload code multiple times with:\n",
    "%load example.py\n",
    "# Make sure example.py refers to a real example"
   ]
  },
  {
   "cell_type": "code",
   "execution_count": 2,
   "id": "eb3d2ed7-7ad4-4fb5-a2b9-e68068175b1c",
   "metadata": {
    "tags": []
   },
   "outputs": [],
   "source": [
    "# %load emptyLines.py"
   ]
  },
  {
   "cell_type": "code",
   "execution_count": null,
   "id": "c2def879-f2df-4fc6-bf54-e8b6d13a6528",
   "metadata": {},
   "outputs": [],
   "source": [
    "# isort will remove duplicate imports, remove extra spacing. It is configurable, so use it if it is interesting to you, look into it more"
   ]
  },
  {
   "cell_type": "markdown",
   "id": "b8a4a579-60a0-46b4-abe5-0a404f52f345",
   "metadata": {},
   "source": [
    "Line length first because it is foundational"
   ]
  },
  {
   "cell_type": "code",
   "execution_count": null,
   "id": "eac425d3-3b62-436e-b090-4ddae2f28b5e",
   "metadata": {},
   "outputs": [],
   "source": [
    "%load lineLength.py"
   ]
  },
  {
   "cell_type": "markdown",
   "id": "b18693b2-1e77-4159-88e4-f953d38bb6ba",
   "metadata": {},
   "source": [
    "Operators next, because they seem more interesting"
   ]
  },
  {
   "cell_type": "code",
   "execution_count": null,
   "id": "8907ad7f-e172-4632-bf40-185b3af8de81",
   "metadata": {},
   "outputs": [],
   "source": [
    "%load operators.py"
   ]
  },
  {
   "cell_type": "markdown",
   "id": "175e61c1-253b-4687-881d-6728cc438a77",
   "metadata": {},
   "source": [
    "List slicing next because it involves how to read a common operation"
   ]
  },
  {
   "cell_type": "code",
   "execution_count": null,
   "id": "561c1791-005b-43b1-913b-19febbdd3c28",
   "metadata": {},
   "outputs": [],
   "source": [
    "%load listSlices.py"
   ]
  },
  {
   "cell_type": "markdown",
   "id": "f65b9b7e-8937-4d95-8bb7-25373f4f87de",
   "metadata": {},
   "source": [
    "Empty lines next because it involves managing the relationships between larger objects"
   ]
  },
  {
   "cell_type": "code",
   "execution_count": null,
   "id": "24c79042-468f-423f-8259-92f875d3b8fa",
   "metadata": {},
   "outputs": [],
   "source": [
    "%load emptyLines.py"
   ]
  },
  {
   "cell_type": "markdown",
   "id": "5efd3ec2-f040-490c-8819-1cb5031da253",
   "metadata": {},
   "source": [
    "Comments here because they aren't super important"
   ]
  },
  {
   "cell_type": "code",
   "execution_count": null,
   "id": "eac67e5f-ff6d-46c9-a03c-10b188e821d5",
   "metadata": {},
   "outputs": [],
   "source": [
    "%load comments.py"
   ]
  },
  {
   "cell_type": "markdown",
   "id": "cc419d99-600a-4fdf-88ef-7e5ce8b10a5e",
   "metadata": {},
   "source": [
    "Imports last because isort is the best tool, really, for the job"
   ]
  },
  {
   "cell_type": "code",
   "execution_count": null,
   "id": "979eb040-67f0-4dc3-86c8-502761508661",
   "metadata": {},
   "outputs": [],
   "source": [
    "%load imports.py"
   ]
  }
 ],
 "metadata": {
  "kernelspec": {
   "display_name": "Python 3 (ipykernel)",
   "language": "python",
   "name": "python3"
  },
  "language_info": {
   "codemirror_mode": {
    "name": "ipython",
    "version": 3
   },
   "file_extension": ".py",
   "mimetype": "text/x-python",
   "name": "python",
   "nbconvert_exporter": "python",
   "pygments_lexer": "ipython3",
   "version": "3.11.4"
  }
 },
 "nbformat": 4,
 "nbformat_minor": 5
}
