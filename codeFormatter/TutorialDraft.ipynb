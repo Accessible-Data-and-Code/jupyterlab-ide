{
 "cells": [
  {
   "cell_type": "markdown",
   "id": "190aa852-83c2-49ee-8d79-4a8a25af22e6",
   "metadata": {},
   "source": [
    "TOC\n",
    "\n",
    "What is a code formatter?\n",
    "- does not fix code from valid to invalid (if it can't compile, it can't format)\n",
    "\n",
    "Work through basic examples (spaces between assignment operators and variables/values, list exploding, line length, etc...)\n",
    "- line length\n",
    "- "
   ]
  },
  {
   "cell_type": "markdown",
   "id": "e95eecaa-3485-4da1-854b-a46c2eeaace5",
   "metadata": {},
   "source": [
    "Different formatters often have different philosophies\n",
    "\n",
    "Black is focused on decreasing the number of diffs and having a completely unaltered standard\n",
    "    Blue is like black, but less restrictive in terms of user configuration, but blue will not be addressed significantly in this tutorial due to version differences\n",
    "\n",
    "yapf is... highly configurable and very strict\n",
    "\n",
    "autopep8 is... very loose and only checks for pep8 compliance\n",
    "\n",
    "isort focuses on only the import statements"
   ]
  },
  {
   "cell_type": "markdown",
   "id": "b63382d2-8463-49e4-8a51-4c6172e71603",
   "metadata": {},
   "source": [
    "Running formatters in code cells will only run them in the actively selected cell!"
   ]
  },
  {
   "cell_type": "markdown",
   "id": "632d72dd-34b8-4a7d-a8b9-fa55c60e8b53",
   "metadata": {},
   "source": [
    "The line length of different formatters"
   ]
  },
  {
   "cell_type": "code",
   "execution_count": null,
   "id": "278e7340-b1c1-4eba-b2bf-5c12b3d1a0d3",
   "metadata": {},
   "outputs": [],
   "source": [
    "# It is possible to reload code multiple times with:\n",
    "%load example.py\n",
    "# Make sure example.py refers to a real example"
   ]
  },
  {
   "cell_type": "code",
   "execution_count": 2,
   "id": "eb3d2ed7-7ad4-4fb5-a2b9-e68068175b1c",
   "metadata": {
    "tags": []
   },
   "outputs": [],
   "source": [
    "# %load emptyLines.py"
   ]
  },
  {
   "cell_type": "code",
   "execution_count": 10,
   "id": "a3b2e1dd-5a4a-4124-8db9-1067f09869b8",
   "metadata": {
    "tags": []
   },
   "outputs": [],
   "source": [
    "# %load imports.py\n",
    "import os\n",
    "import sys\n",
    "\n",
    "import sys, os\n",
    "\n",
    "from subprocess import Popen, PIPE\n",
    "\n",
    "import mypkg.sibling\n",
    "from mypkg import sibling\n",
    "from mypkg.sibling import example\n",
    "\n",
    "import myclass\n",
    "import foo.bar.yourclass\n",
    "\n",
    "from . import sibling\n",
    "from .sibling import example\n",
    "\n",
    "from myclass import MyClass\n",
    "from foo.bar.yourclass import YourClass"
   ]
  },
  {
   "cell_type": "code",
   "execution_count": null,
   "id": "c2def879-f2df-4fc6-bf54-e8b6d13a6528",
   "metadata": {},
   "outputs": [],
   "source": [
    "# isort will remove duplicate imports, remove extra spacing. It is configurable, so use it if it is interesting to you, look into it more"
   ]
  },
  {
   "cell_type": "markdown",
   "id": "b8a4a579-60a0-46b4-abe5-0a404f52f345",
   "metadata": {},
   "source": [
    "Line length first because it is foundational"
   ]
  },
  {
   "cell_type": "code",
   "execution_count": null,
   "id": "eac425d3-3b62-436e-b090-4ddae2f28b5e",
   "metadata": {},
   "outputs": [],
   "source": [
    "%load lineLength.py"
   ]
  },
  {
   "cell_type": "markdown",
   "id": "b18693b2-1e77-4159-88e4-f953d38bb6ba",
   "metadata": {},
   "source": [
    "Operators next, because they seem more interesting"
   ]
  },
  {
   "cell_type": "code",
   "execution_count": null,
   "id": "8907ad7f-e172-4632-bf40-185b3af8de81",
   "metadata": {},
   "outputs": [],
   "source": [
    "%load operators.py"
   ]
  },
  {
   "cell_type": "markdown",
   "id": "175e61c1-253b-4687-881d-6728cc438a77",
   "metadata": {},
   "source": [
    "List slicing next because it involves how to read a common operation"
   ]
  },
  {
   "cell_type": "code",
   "execution_count": null,
   "id": "561c1791-005b-43b1-913b-19febbdd3c28",
   "metadata": {},
   "outputs": [],
   "source": [
    "%load listSlices.py"
   ]
  },
  {
   "cell_type": "markdown",
   "id": "f65b9b7e-8937-4d95-8bb7-25373f4f87de",
   "metadata": {},
   "source": [
    "Empty lines next because it involves managing the relationships between larger objects"
   ]
  },
  {
   "cell_type": "code",
   "execution_count": null,
   "id": "24c79042-468f-423f-8259-92f875d3b8fa",
   "metadata": {},
   "outputs": [],
   "source": [
    "%load emptyLines.py"
   ]
  },
  {
   "cell_type": "markdown",
   "id": "5efd3ec2-f040-490c-8819-1cb5031da253",
   "metadata": {},
   "source": [
    "Comments here because they aren't super important"
   ]
  },
  {
   "cell_type": "code",
   "execution_count": null,
   "id": "eac67e5f-ff6d-46c9-a03c-10b188e821d5",
   "metadata": {},
   "outputs": [],
   "source": [
    "%load comments.py"
   ]
  },
  {
   "cell_type": "markdown",
   "id": "cc419d99-600a-4fdf-88ef-7e5ce8b10a5e",
   "metadata": {},
   "source": [
    "Imports last because isort is the best tool, really, for the job"
   ]
  },
  {
   "cell_type": "code",
   "execution_count": null,
   "id": "979eb040-67f0-4dc3-86c8-502761508661",
   "metadata": {},
   "outputs": [],
   "source": [
    "%load imports.py"
   ]
  }
 ],
 "metadata": {
  "kernelspec": {
   "display_name": "Python 3 (ipykernel)",
   "language": "python",
   "name": "python3"
  },
  "language_info": {
   "codemirror_mode": {
    "name": "ipython",
    "version": 3
   },
   "file_extension": ".py",
   "mimetype": "text/x-python",
   "name": "python",
   "nbconvert_exporter": "python",
   "pygments_lexer": "ipython3",
   "version": "3.11.4"
  }
 },
 "nbformat": 4,
 "nbformat_minor": 5
}
