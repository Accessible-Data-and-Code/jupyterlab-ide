{
 "cells": [
  {
   "cell_type": "markdown",
   "id": "b63382d2-8463-49e4-8a51-4c6172e71603",
   "metadata": {},
   "source": [
    "Running formatters in code cells will only run them in the actively selected cell!"
   ]
  },
  {
   "cell_type": "markdown",
   "id": "e95eecaa-3485-4da1-854b-a46c2eeaace5",
   "metadata": {},
   "source": [
    "Different formatters often have different philosophies\n",
    "\n",
    "Black is focused on decreasing the number of diffs and having a completely unaltered standard\n",
    "    Blue is like black, but less restrictive in terms of user configuration, but blue will not be addressed significantly in this tutorial due to version differences\n",
    "\n",
    "yapf is... highly conditional\n",
    "\n",
    "autopep8 is... highly conditional"
   ]
  },
  {
   "cell_type": "markdown",
   "id": "632d72dd-34b8-4a7d-a8b9-fa55c60e8b53",
   "metadata": {},
   "source": [
    "The line length of different formatters"
   ]
  },
  {
   "cell_type": "code",
   "execution_count": null,
   "id": "278e7340-b1c1-4eba-b2bf-5c12b3d1a0d3",
   "metadata": {},
   "outputs": [],
   "source": [
    "# It is possible to reload code multiple times with:\n",
    "%load example.py\n",
    "# Make sure example.py refers to a real example"
   ]
  },
  {
   "cell_type": "code",
   "execution_count": null,
   "id": "e4ebe5e0-e00e-484d-91ac-9fa1b843e014",
   "metadata": {},
   "outputs": [],
   "source": []
  }
 ],
 "metadata": {
  "kernelspec": {
   "display_name": "Python 3 (ipykernel)",
   "language": "python",
   "name": "python3"
  },
  "language_info": {
   "codemirror_mode": {
    "name": "ipython",
    "version": 3
   },
   "file_extension": ".py",
   "mimetype": "text/x-python",
   "name": "python",
   "nbconvert_exporter": "python",
   "pygments_lexer": "ipython3",
   "version": "3.11.4"
  }
 },
 "nbformat": 4,
 "nbformat_minor": 5
}
