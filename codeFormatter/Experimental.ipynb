{
 "cells": [
  {
   "cell_type": "code",
   "execution_count": null,
   "id": "87fe9969-34ff-48b8-b8f4-8cf2de85f27a",
   "metadata": {},
   "outputs": [],
   "source": [
    "# The above line ends at 83 characters at the final 9\n",
    "# black defaults to 88 characters in a line\n",
    "# blue defaults to 80 characters in a line\n",
    "# autopep8 defaults to 79 characters in a line\n",
    "# yapf defaults to 80 characters in a line\n",
    "# 123456789223456789323456789423456789523456789623456789723456789823456789923456789 5678"
   ]
  },
  {
   "cell_type": "code",
   "execution_count": 1,
   "id": "05a12e74-ca1e-4d3f-94de-120ca1b7c42d",
   "metadata": {
    "tags": []
   },
   "outputs": [],
   "source": [
    "# formatting a tuple data structure too large to fit the line length\n",
    "aList = [\n",
    "    \"one\",\n",
    "    \"two\",\n",
    "    \"three\",\n",
    "    \"four\",\n",
    "    \"five\",\n",
    "    \"six\",\n",
    "    \"seven\",\n",
    "    \"eight\",\n",
    "    \"oooo\",\n",
    "    \"ooo\",\n",
    "    \"eighteen\",\n",
    "    \"nineteen\",\n",
    "    \"twenty\",\n",
    "    \"twenty_one\",\n",
    "    \"twenty_two\",\n",
    "    \"twenty_three\",\n",
    "    \"twenty_four\",\n",
    "    \"twenty_five\",\n",
    "]\n",
    "\n",
    "# blue and black will enforce that each element of the list will have one item per line. They 'explode' the list\n",
    "# autopep8 will leave \"too long\" lists as they are\n",
    "# yapf will decrease the length of the list down to a set length per line of items (79 char limit)\n",
    "# (eg. nine items in one line, seven in the next, six after, and so on, but each line has roughly the same number of characters)\n",
    "\n",
    "# blue will change \" to ' when it encloses a string while black will change ' to \" when it encloses a string. yapf and autopep make no difference\n",
    "\n",
    "# black and blue will add a trailing comma to the last element of the list while yapf and autopep8 will not add the trailing comma\n",
    "\n",
    "# autopep8 will leave lines that have multiple elements instead of separating the list elements onto individiual lines\n",
    "# (e.g. take one of the above items such as 'ten' and put it on the same line as nine. Each other formatter will separate that line into two with one element each except autopep8)\n",
    "\n",
    "# every formatter 'dedents' the closing bracket"
   ]
  },
  {
   "cell_type": "code",
   "execution_count": 2,
   "id": "2fd5ba6a-fc49-4d99-afe7-7366b3198280",
   "metadata": {
    "tags": []
   },
   "outputs": [],
   "source": [
    "# comments are standardized to one pound symbol in autopep8 with a space between the pound symbol and the first character of the comment"
   ]
  },
  {
   "cell_type": "code",
   "execution_count": null,
   "id": "bfb52341-8a14-4c62-b80f-0d13fa6803ca",
   "metadata": {},
   "outputs": [],
   "source": [
    "# running the formatters through edit only applies to the selected cells"
   ]
  },
  {
   "cell_type": "code",
   "execution_count": null,
   "id": "87b751cb-e193-4f95-9ed7-f406e768313a",
   "metadata": {},
   "outputs": [],
   "source": [
    "# code formatted on\n",
    "%load example.py\n",
    "# will format identically to a .py script"
   ]
  },
  {
   "cell_type": "code",
   "execution_count": 16,
   "id": "d8a6000b-f292-4cee-8232-09d3b82f6337",
   "metadata": {
    "tags": []
   },
   "outputs": [],
   "source": [
    "# %load charactertest.py\n",
    "a = [\n",
    "    'elements', 'in', 'a', 'list', 'until', 'hitting', 'line', 'length',\n",
    "    'limits', 'and', 'double', 'elements', 'in', 'a', 'list', 'until',\n",
    "    'hitting', 'line', 'length', 'limits', 'and', 'double', 'elements', 'in',\n",
    "    'a', 'list', 'until', 'hitting', 'line', 'length', 'limits', 'elements',\n",
    "    'in', 'a', 'list', 'until', 'hitting', 'line', 'length', 'limits', 'and',\n",
    "    'double', 'elements', 'in', 'a', 'list', 'until', 'hitting', 'line',\n",
    "    'length', 'limits'\n",
    "]"
   ]
  },
  {
   "cell_type": "code",
   "execution_count": null,
   "id": "9f4ee995-614e-4ba0-8a3a-a1509d4cb773",
   "metadata": {},
   "outputs": [],
   "source": [
    "# From this test, it is apparent that autopep8 has strange, strange formatting rules, breaking lists in two and doing no more."
   ]
  },
  {
   "cell_type": "code",
   "execution_count": 3,
   "id": "667ccb70-0ecc-419f-ac0a-60b011ed97e9",
   "metadata": {
    "tags": []
   },
   "outputs": [],
   "source": [
    "# %load blackEmptyLines.py\n",
    "# in:\n",
    "\n",
    "\n",
    "def foo():\n",
    "\n",
    "    print(\"All the newlines above me should be deleted!\")\n",
    "\n",
    "\n",
    "if condition:\n",
    "\n",
    "    print(\"No newline above me!\")\n",
    "\n",
    "    print(\"There is a newline above me, and that's OK!\")\n",
    "\n",
    "\n",
    "class Point:\n",
    "\n",
    "    x: int\n",
    "    y: int\n",
    "\n",
    "\n",
    "# out:\n",
    "\n",
    "\n",
    "def foo():\n",
    "    print(\"All the newlines above me should be deleted!\")\n",
    "\n",
    "\n",
    "if condition:\n",
    "    print(\"No newline above me!\")\n",
    "\n",
    "    print(\"There is a newline above me, and that's OK!\")\n",
    "\n",
    "\n",
    "class Point:\n",
    "    x: int\n",
    "    y: int"
   ]
  },
  {
   "cell_type": "code",
   "execution_count": null,
   "id": "9ee765f3-c26d-488e-bd01-b81b25cfc602",
   "metadata": {},
   "outputs": [],
   "source": [
    "# Using the blackEmptyLines example from black documentation, we have a really, really robust example of something which differentiates black from yapf and autopep8"
   ]
  }
 ],
 "metadata": {
  "kernelspec": {
   "display_name": "Python 3 (ipykernel)",
   "language": "python",
   "name": "python3"
  },
  "language_info": {
   "codemirror_mode": {
    "name": "ipython",
    "version": 3
   },
   "file_extension": ".py",
   "mimetype": "text/x-python",
   "name": "python",
   "nbconvert_exporter": "python",
   "pygments_lexer": "ipython3",
   "version": "3.11.4"
  }
 },
 "nbformat": 4,
 "nbformat_minor": 5
}
