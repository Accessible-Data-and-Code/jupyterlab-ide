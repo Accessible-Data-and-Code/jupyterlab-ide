{
 "cells": [
  {
   "cell_type": "markdown",
   "id": "075c7603-1fd1-4aa5-90d6-f63df3aef320",
   "metadata": {},
   "source": [
    "# Introduction to Code Formatter\n",
    "\n",
    "This notebook is an introduction to the [jupyterlab-code-formatter](https://github.com/ryantam626/jupyterlab_code_formatter) extension. What is a code formatter and why is it useful? To start, take a look at the code cell below (a snippet encoding Runge-Kutta 2 from when I was learning to use Python to code some numerical methods). It is not formatted particularly well, though it is not awful. It can be made easier to read if you select the cell, right click it, and pick \"Format Cell\" from the options at the very bottom of that menu. Give it a shot!"
   ]
  },
  {
   "cell_type": "code",
   "execution_count": 5,
   "id": "1d08dc27-c719-4b23-bb56-7fdc304dcd61",
   "metadata": {
    "tags": []
   },
   "outputs": [],
   "source": [
    "# %load examples/example.py\n",
    "import numpy as np\n",
    "import pylab as plt\n",
    "\n",
    "\n",
    "### Part b\n",
    "def myrk2(f, tspan, y0, N, params):\n",
    "    t0, tN = tspan\n",
    "    t = np.linspace(t0, tN, N + 1)\n",
    "    h = t[1] - t[0]\n",
    "    y = np.zeros((*t.shape, *np.array(y0).shape))\n",
    "    y[0] = y0\n",
    "    for k in range(N):\n",
    "        tk, yk = t[k], y[k]\n",
    "        k1 = h * f(tk, yk, params)\n",
    "        k2 = h * f(tk + h, yk + k1, params)\n",
    "        y[k + 1] = yk + (k1 + k2) / 2\n",
    "    return t, y"
   ]
  },
  {
   "cell_type": "markdown",
   "id": "b6a5573a-d2d5-4d2d-89a9-a037cbfda6aa",
   "metadata": {},
   "source": [
    "As you can see, this code snippet would still compile the exact same way, but it is easier to read and separate the different variables from each other. This is what code formatters are for. A code formatter takes code that can be compiled and automatically makes it as human readable as possible. Of course, there are different code formatters and different views of what makes code easier to read. This extension gives you different formatters to choose from and leaves you in control of how your code formatting is automated."
   ]
  },
  {
   "cell_type": "markdown",
   "id": "4ed459e0-52e0-46a4-8e8d-ebbec61cca3c",
   "metadata": {},
   "source": [
    "## Some Code Formatters for Python"
   ]
  },
  {
   "cell_type": "markdown",
   "id": "76fdf574-d0e6-40fb-944b-f2611a65c1aa",
   "metadata": {},
   "source": [
    "For the Python language, there is a set of guidelines on how to format Python code to make it more human readable for a variety of reasons. [INCLUDE REASONS HERE] This extension supports code formatters for Python and R, but we will focus on code formatters for Python in this tutorial. The main four are:"
   ]
  },
  {
   "cell_type": "markdown",
   "id": "f6336080-e164-4356-bafa-b452ed6fd74f",
   "metadata": {},
   "source": [
    "- black\n",
    "- YAPF\n",
    "- autopep8\n",
    "- isort"
   ]
  },
  {
   "cell_type": "markdown",
   "id": "1ab5d808-2ea0-4d6e-aa83-ec37c54a0670",
   "metadata": {},
   "source": [
    "Each of these three code formatters are compliant with the [PEP8](https://pep8.org/) guidelines, but each have their own styling philosophies and purposes."
   ]
  },
  {
   "cell_type": "markdown",
   "id": "e121b61e-b90c-483c-9d66-f3cbda7244b8",
   "metadata": {},
   "source": [
    "### Black"
   ]
  },
  {
   "cell_type": "markdown",
   "id": "f80a19d7-aa60-40ff-8bc5-31ae620e90fb",
   "metadata": {},
   "source": [
    "Black is one of the most prominent Python code formatters for a reason. It's very straightforward and does not require much decision making. For Black 23.3.0, the [documentation](https://black.readthedocs.io/en/stable/index.html) says:"
   ]
  },
  {
   "cell_type": "markdown",
   "id": "3b7c9aca-a2e6-4c1c-bf5b-d7876e6f335e",
   "metadata": {},
   "source": [
    "> By using Black, you agree to cede control over minutiae of hand-formatting. In return, Black gives you speed, determinism, and freedom from pycodestyle nagging about formatting. You will save time and mental energy for more important matters.\n",
    ">\n",
    "> Black makes code review faster by producing the smallest diffs possible. Blackened code looks the same regardless of the project you’re reading. Formatting becomes transparent after a while and you can focus on the content instead."
   ]
  },
  {
   "cell_type": "markdown",
   "id": "87b23e26-bc8f-4cec-b3cd-723eb7fb0600",
   "metadata": {},
   "source": [
    "To these ends, Black has made a crucial design decision. It is the least configurable code formatter available for Python. It stringently follows its own formatting preferences, preferences which go beyond the PEP8 guidelines. If you use Black for code formatting, you will have the exact same approach for every project that you use."
   ]
  },
  {
   "cell_type": "markdown",
   "id": "56cdf6c1-9531-4e16-bf36-acc2e698005c",
   "metadata": {},
   "source": [
    "### YAPF"
   ]
  },
  {
   "cell_type": "markdown",
   "id": "21cdf37c-51c7-4c1d-a24f-257c5b270d67",
   "metadata": {},
   "source": [
    "YAPF is a code formatter that is owned by Google, though it is not a Google product in any way. Compared to Black, YAPF is very configurable. From the [repository](https://github.com/google/yapf), its purpose is different from Black:"
   ]
  },
  {
   "cell_type": "markdown",
   "id": "549ba363-a01e-48ee-8f99-8602652af434",
   "metadata": {},
   "source": [
    "> In essence, the algorithm takes the code and calculates the best formatting that conforms to the configured style. It takes away a lot of the drudgery of maintaining your code.\n",
    ">\n",
    "> The ultimate goal is that the code YAPF produces is as good as the code that a programmer would write if they were following the style guide."
   ]
  },
  {
   "cell_type": "markdown",
   "id": "bf2d4fc2-cf51-433a-ab7f-e6ccba1d32ff",
   "metadata": {},
   "source": [
    "This being said, YAPF goes beyond just conforming to PEP8 guidelines. It is highly configurable, allowing"
   ]
  },
  {
   "cell_type": "markdown",
   "id": "342b7c10-8e65-44db-ac23-4ba401326331",
   "metadata": {},
   "source": [
    "### autopep8"
   ]
  },
  {
   "cell_type": "markdown",
   "id": "3c1d4bbc-d73d-4e0a-b902-d7ed5fad8492",
   "metadata": {},
   "source": [
    "Now, autopep8 is a very different formatter from the previous two. It says in the [repository](https://github.com/hhatto/autopep8) that:"
   ]
  },
  {
   "cell_type": "markdown",
   "id": "74b73722-f286-4923-a4cf-2ba28ef41195",
   "metadata": {},
   "source": [
    "> autopep8 automatically formats Python code to conform to the PEP 8 style guide. It uses the pycodestyle utility to determine what parts of the code needs to be formatted. autopep8 is capable of fixing most of the formatting issues that can be reported by pycodestyle.autopep8 automatically formats Python code to conform to the PEP 8 style guide. It uses the pycodestyle utility to determine what parts of the code needs to be formatted. autopep8 is capable of fixing most of the formatting issues that can be reported by pycodestyle."
   ]
  },
  {
   "cell_type": "markdown",
   "id": "73bbaf1e-dd21-4080-972b-3f04ab6f2562",
   "metadata": {},
   "source": [
    "This is very different from the previous purposes. Instead of taking over every possible formatting decision, autopep8 only fixes errors that are mentioned in PEP8 style guidelines. To that end, much of the formatting you use will not be touched by autopep8. It won't help style your code beyond that."
   ]
  },
  {
   "cell_type": "markdown",
   "id": "4684bc53-84a0-4cc3-86ec-927525a6c841",
   "metadata": {},
   "source": [
    "### isort"
   ]
  },
  {
   "cell_type": "markdown",
   "id": "950aeaaa-9dbd-4380-a751-80b3e38829fb",
   "metadata": {},
   "source": [
    "Lastly, we have isort. This code formatter focuses on only one part of your code, your import statements. As per [documentation](https://pycqa.github.io/isort/), the purpose is:"
   ]
  },
  {
   "cell_type": "markdown",
   "id": "76fff4e9-da7d-42b2-836b-67e3c5841f18",
   "metadata": {},
   "source": [
    "> isort your imports, so you don't have to.\n",
    ">\n",
    "> isort is a Python utility / library to sort imports alphabetically, and automatically separated into sections and by type."
   ]
  },
  {
   "cell_type": "markdown",
   "id": "81e737aa-5779-4713-8e5c-4bccabedea02",
   "metadata": {},
   "source": [
    "Interestingly, none of the other formatters work on import statements in a significant way. This means that you may want to keep around isort regardless of which other code formatters you prefer."
   ]
  },
  {
   "cell_type": "markdown",
   "id": "868c14fe-2207-4ec2-a86c-fa379de7f89f",
   "metadata": {},
   "source": [
    "## Code Formatting with Notebooks"
   ]
  },
  {
   "cell_type": "markdown",
   "id": "a5612067-4f4e-49a4-942b-ce3dce84c360",
   "metadata": {},
   "source": [
    "Now that you have a better sense of code formatters, take a look at some examples of how they handle some common style problems in Python. You've already used the code formatter extension once. There are other ways to use it though in notebook environments. If you have selected a cell, you can go to the edit tab and, at the bottom of the list of options, you should see \"Apply ____ Formatter\" as a class of options. Reiterated, that is:"
   ]
  },
  {
   "cell_type": "markdown",
   "id": "ded941f6-021f-4a44-aa7c-d63fb133e855",
   "metadata": {},
   "source": [
    "<p style=\"text-align: center;\"><kbd> Select a cell &rarr; Edit | Apply ____ Formatter </kbd></p>"
   ]
  },
  {
   "cell_type": "markdown",
   "id": "0f703002-e88d-4954-bfe7-02ec772afa5c",
   "metadata": {},
   "source": [
    "It's important to keep this process in mind because formatters will only format the code cells which are actively selected. To try this, run the cell containing:"
   ]
  },
  {
   "cell_type": "markdown",
   "id": "ce58cdd8-db05-4d24-8174-3b5d25a7a234",
   "metadata": {},
   "source": [
    "```python\n",
    "%load examples/example.py\n",
    "```"
   ]
  },
  {
   "cell_type": "markdown",
   "id": "ca143e21-e836-4d70-8ab7-0467ec5a81a2",
   "metadata": {},
   "source": [
    "and format the contents with a formatter of your choice. If you want to reload the unformatted code, remove everything from the cell except ```%load example.py``` and run it again. Give it a shot :)"
   ]
  },
  {
   "cell_type": "code",
   "execution_count": null,
   "id": "9d1bdbf7-f4a5-45c8-b67c-14373bd6cbc7",
   "metadata": {},
   "outputs": [],
   "source": [
    "%load examples/example.py"
   ]
  },
  {
   "cell_type": "markdown",
   "id": "632d72dd-34b8-4a7d-a8b9-fa55c60e8b53",
   "metadata": {},
   "source": [
    "Now that you know how to reload examples and how to use different formatters, we will get into some examples showing the differences between each formatter. This is nowhere near exhaustive, but it should give you a flavor for what formatters you might find the 'nicest' with your own sense of style."
   ]
  },
  {
   "cell_type": "markdown",
   "id": "23237f60-cbb4-45e6-aa09-62617750516a",
   "metadata": {},
   "source": [
    "# Examples"
   ]
  },
  {
   "cell_type": "markdown",
   "id": "157ae54a-a6e5-47d9-8620-f5ba7190424c",
   "metadata": {},
   "source": [
    "## Line Length, Lists, and Dictionaries"
   ]
  },
  {
   "cell_type": "markdown",
   "id": "abefd491-a683-46dc-9df7-bb9ea6edc340",
   "metadata": {},
   "source": [
    "There are a lot of reasons that a line of code might go on too long. Whatever the case, having code that is excessively long in the horizontal direction can be very difficult to navigate. For this reason, most Python style guides have a maximum line length between 79 and 90 characters. Black defaults to 88 characters, YAPF defaults to 80, and autopep8 defaults to 79. When lists, dictionaries, or any other index style data structure is defined in line, it can sometimes be much longer than the max line length. Using the example below, compare how the formatters will handle this sort of case:"
   ]
  },
  {
   "cell_type": "code",
   "execution_count": 7,
   "id": "eac425d3-3b62-436e-b090-4ddae2f28b5e",
   "metadata": {},
   "outputs": [],
   "source": [
    "# %load examples/lineLength.py\n",
    "shortArray = ['elements', 'in', 'a', 'list',]\n",
    "longArray = ['elements', 'in', 'a', 'list', 'until', 'hitting', 'line', 'length', 'limits', 'and', 'double', 'elements', 'in', 'a', 'list', 'until', 'hitting', 'line', 'length']\n",
    "\n",
    "pantry = {\"fruit\":[\"bananas\",\"apples\",\"oranges\",\"pineapples\",\"papayas\",\"clementines\",\"strawberries\",\"blueberries\",\"blackberries\",\"raspberries\"],\"spices\":[\"parsley\",\"sage\",\"rosemary\",\"thyme\"],\"refrigerator\":{\"sauces\":[\"soy\",\"barbecue\",\"mustard\",\"ketchup\"],\"milk\":{\"almond\",\"oat\",\"flax\",\"whole\",\"skim\",\"chocolate\"}}}"
   ]
  },
  {
   "cell_type": "markdown",
   "id": "c69f4922-0df5-4a35-ba87-e19c9cf06cd9",
   "metadata": {},
   "source": [
    "## Operators"
   ]
  },
  {
   "cell_type": "markdown",
   "id": "7b945cd6-a554-4db6-a99d-47c227cc0e0c",
   "metadata": {},
   "source": [
    "Binary operators like <kbd>+</kbd> or <kbd>-</kbd> show up incredibly frequently and styling them appropriately can make a world of difference for the readability of code. Beyond the vary basic binary operators, there are other operators that show up for any number of reasons. These operators, in use, often interact with variables that have a large number of complex calls to other objects, lists, functions, and so on. Some formatters will handle these things differently. Try and see the differences below:"
   ]
  },
  {
   "cell_type": "code",
   "execution_count": 8,
   "id": "8907ad7f-e172-4632-bf40-185b3af8de81",
   "metadata": {},
   "outputs": [],
   "source": [
    "# %load examples/operators.py\n",
    "# Simple operands with different operators\n",
    "# unary operators\n",
    "aa = x+y\n",
    "ab = x - y\n",
    "ac = x*y + 1\n",
    "# non-unary operators\n",
    "a=x**y\n",
    "b = config.base**5.2\n",
    "c = config.base ** runtime.config.exponent\n",
    "d =  2**5\n",
    "e = 2 **~ 5\n",
    "\n",
    "# Complex operands\n",
    "f = 2**get_exponent()\n",
    "g = get_x(        )    ** get_y()\n",
    "h = config['base']    ** 2\n",
    "\n",
    "\n",
    "# Long operands\n",
    "# simple\n",
    "# unary\n",
    "i = this_is_a_really_long_variable_name_to_use * this_is_a_really_long_variable_name_to_use\n",
    "# binary\n",
    "i = this_is_a_really_long_variable_name_to_use ** this_is_a_really_long_variable_name_to_use\n",
    "\n",
    "# complex\n",
    "# unary\n",
    "i = this_is_a_really_long_variable_name_to_use() * this_is_a_really_long_variable_name_to_use()\n",
    "# binary\n",
    "i = this_is_a_really_long_variable_name_to_use() ** this_is_a_really_long_variable_name_to_use()"
   ]
  },
  {
   "cell_type": "markdown",
   "id": "ba5d3993-f55f-4631-9655-c575e3069812",
   "metadata": {},
   "source": [
    "## Slicing"
   ]
  },
  {
   "cell_type": "markdown",
   "id": "a2b4c49b-3ee4-458a-86de-0645350f9759",
   "metadata": {},
   "source": [
    "Selecting only some variables from a list, tuple, or other structure that can be sliced is a common enough feature that there are well defined styling preferences on how to write the operation. Below are just some examples where you can see how the different style guides would handle the operation:"
   ]
  },
  {
   "cell_type": "code",
   "execution_count": 15,
   "id": "561c1791-005b-43b1-913b-19febbdd3c28",
   "metadata": {},
   "outputs": [],
   "source": [
    "# %load examples/listSlices.py\n",
    "### examples without steps\n",
    "bread[first : last]\n",
    "bread[first+1:last]\n",
    "\n",
    "# items from first to the end of the array\n",
    "cheese[first:]\n",
    "cheese[first+1:]\n",
    "\n",
    "# items from the beginning to last - 1\n",
    "ham[:last]\n",
    "ham[:last+1]\n",
    "\n",
    "# every element of the array\n",
    "bacon[:]\n",
    "\n",
    "### examples with steps and reversals\n",
    "# array[start:stop:step]\n",
    "# all items reversed\n",
    "orange[ : :-1]\n",
    "orange[ : :-1+1]\n",
    "\n",
    "# everything up to index reversed\n",
    "cake[index: :-1]\n",
    "cake[index+1: :-1]\n",
    "\n",
    "# everything after index reversed\n",
    "apple[ :index:-1]\n",
    "apple[ :index+1:-1]"
   ]
  },
  {
   "cell_type": "markdown",
   "id": "446aeb09-ebd4-4d1c-9ded-7037e8c5425f",
   "metadata": {},
   "source": [
    "## Empty Lines"
   ]
  },
  {
   "cell_type": "markdown",
   "id": "4615a2d4-5da2-4ff1-98a2-d030adf3f7d4",
   "metadata": {},
   "source": [
    "When writing a class script or a function library, it isn't uncommon to end up with an occasional question on how to put spaces between lines for readability. Further, the distances between lines inside function definitions can be a little difficult to decide on. Each of the formatters has a different approach. Try it out on the toybox class below:"
   ]
  },
  {
   "cell_type": "code",
   "execution_count": 19,
   "id": "24c79042-468f-423f-8259-92f875d3b8fa",
   "metadata": {},
   "outputs": [],
   "source": [
    "# %load examples/emptyLines.py\n",
    "import numpy as np\n",
    "class Triangle:\n",
    "\n",
    "    # By side lengths\n",
    "    equilateral = []\n",
    "    scalene = []\n",
    "    isoceles = []\n",
    "\n",
    "    def __init__(self, a, b, c):\n",
    "\n",
    "        self.A = a\n",
    "        self.B = b\n",
    "        self.C = c\n",
    "        \n",
    "        if (a==b) and (b==c):\n",
    "            \n",
    "            \n",
    "            Triangle.equilateral.append(self)\n",
    "            \n",
    "            \n",
    "        elif (a!=b) and (b!=c) and (a!=c):\n",
    "            \n",
    "            Triangle.scalene.append(self)\n",
    "            \n",
    "            \n",
    "        else:\n",
    "            Triangle.isoceles.append(self)\n",
    "    def heronsArea(self):\n",
    "        #This calculates the area of the triangles by side length\n",
    "        P=self.A+self.B+self.C\n",
    "        Q=-self.A+self.B+self.C\n",
    "        U=self.A-self.B+self.C\n",
    "        V=self.A+self.B-self.C\n",
    "        \n",
    "        area = 0.25*np.sqrt(P*Q*U*V)\n",
    "        \n",
    "        return area"
   ]
  },
  {
   "cell_type": "markdown",
   "id": "d39d2f42-12a1-4831-90c9-cd032aaa5c1e",
   "metadata": {},
   "source": [
    "## Comments"
   ]
  },
  {
   "cell_type": "markdown",
   "id": "07c2b699-bc72-4ede-b7b2-683c8b9a5d1e",
   "metadata": {},
   "source": [
    "Commenting styles are some of the least defined styles for programming generally, not just in Python. When it comes to code formatters, there are some general rules regarding the distance a comment should have from code in one line as well as a couple of approaches to comments on one line. For the most part though, it is left to user preference. Below are some simple examples:"
   ]
  },
  {
   "cell_type": "code",
   "execution_count": 11,
   "id": "eac67e5f-ff6d-46c9-a03c-10b188e821d5",
   "metadata": {},
   "outputs": [],
   "source": [
    "# %load examples/comments.py\n",
    "### this is a comment\n",
    "\n",
    "### this is another comment\n",
    "\n",
    "#######################\n",
    "###  BIG   COMMENT  ###\n",
    "#######################\n",
    "\n",
    "\n",
    "def something():\n",
    "    this = 1\n",
    "    variable = 2 # This comment is superfluous\n",
    "    looks = 4\n",
    "    like = 8   # This comment is jagged to the other one\n",
    "    code = 16        # This space is just unecessary\n",
    "    return"
   ]
  },
  {
   "cell_type": "code",
   "execution_count": null,
   "id": "26b794ef-05fc-4eed-8e2f-bffa47d82fbe",
   "metadata": {},
   "outputs": [],
   "source": [
    "# Mention different ways of handling formatting\n",
    "# Mention that format tags need to be on the same level of indentation\n",
    "\n",
    "# Black\n",
    "# fmt: off/on\n",
    "\n",
    "# YAPF\n",
    "# yapf: disable/enable\n",
    "\n",
    "# autopep8\n",
    "# fmt: off/on\n",
    "# autopep8: off/on"
   ]
  },
  {
   "cell_type": "markdown",
   "id": "725c8a10-71b7-4c07-96da-2bde2289402d",
   "metadata": {},
   "source": [
    "## Disabling Formatting"
   ]
  },
  {
   "cell_type": "markdown",
   "id": "a258543d-b090-4b77-8374-5f2036fc5bb4",
   "metadata": {},
   "source": [
    "It is possible to disable automatic formatting for selected lines if the user wants to. This can be done for a number of reasons. Sometimes code with automatic formatting is less readable, a rare occurrence. Sometimes automatic formatting for one version of Python can break backwards compatibility with another version of Python. Whatever the case, it is good to know how to disable formatting."
   ]
  },
  {
   "cell_type": "markdown",
   "id": "4ca04995-1993-4212-b62b-44c5d811c597",
   "metadata": {},
   "source": [
    "On the same level of indentation, users can place commented tags that the formatter will recognize as stopping and starting points, with each formatter having their own type of tag:"
   ]
  },
  {
   "cell_type": "markdown",
   "id": "42bff43b-26e5-4d27-9eea-23d1e418db9d",
   "metadata": {},
   "source": [
    "Formatters | Tags\n",
    ":---:|---\n",
    "Black | ```# fmt: off/on```\n",
    "YAPF | ```# yapf: disable/enable```\n",
    "autopep8 | ```# autopep8: off/on``` or ```# fmt: off/on```"
   ]
  },
  {
   "cell_type": "markdown",
   "id": "de2c1305-6ea6-466e-b2c6-ebbde8f6129d",
   "metadata": {},
   "source": [
    "For instance, the following snippet would not be formatted by Black but would be formatted by YAPF:"
   ]
  },
  {
   "cell_type": "markdown",
   "id": "baa3307a-7f2e-468e-b008-305c04cc7c35",
   "metadata": {},
   "source": [
    "```python\n",
    "# fmt: off\n",
    "def codeExample(seriousArg):\n",
    "    sillyVariable = seriousArg\n",
    "# fmt: on\n",
    "```"
   ]
  },
  {
   "cell_type": "markdown",
   "id": "036d0f0e-f26e-4c37-bc9e-ab35f670002b",
   "metadata": {},
   "source": [
    "On the toybox class again, you can try out tagging certain sections to not be formatted:"
   ]
  },
  {
   "cell_type": "code",
   "execution_count": 23,
   "id": "4a1c0c42-749e-4447-ad2b-052d9511eb8a",
   "metadata": {
    "tags": []
   },
   "outputs": [],
   "source": [
    "# %load examples/emptyLines.py\n",
    "import numpy as np\n",
    "class Triangle:\n",
    "\n",
    "    # By side lengths\n",
    "    equilateral = []\n",
    "    scalene = []\n",
    "    isoceles = []\n",
    "\n",
    "    def __init__(self, a, b, c):\n",
    "\n",
    "        self.A = a\n",
    "        self.B = b\n",
    "        self.C = c\n",
    "        \n",
    "        if (a==b) and (b==c):\n",
    "            \n",
    "            \n",
    "            Triangle.equilateral.append(self)\n",
    "            \n",
    "            \n",
    "        elif (a!=b) and (b!=c) and (a!=c):\n",
    "            \n",
    "            Triangle.scalene.append(self)\n",
    "            \n",
    "            \n",
    "        else:\n",
    "            Triangle.isoceles.append(self)\n",
    "    def heronsArea(self):\n",
    "        #This calculates the area of the triangles by side length\n",
    "        P=self.A+self.B+self.C\n",
    "        Q=-self.A+self.B+self.C\n",
    "        U=self.A-self.B+self.C\n",
    "        V=self.A+self.B-self.C\n",
    "        \n",
    "        area = 0.25*np.sqrt(P*Q*U*V)\n",
    "        \n",
    "        return area"
   ]
  },
  {
   "cell_type": "markdown",
   "id": "d577d53c-f05f-46a0-9a9b-50400bd4956c",
   "metadata": {},
   "source": [
    "## Imports"
   ]
  },
  {
   "cell_type": "markdown",
   "id": "149722c3-e9b8-4f7c-86ee-7c0a6a8c41f1",
   "metadata": {},
   "source": [
    "This has been kept for last because import statements are generally not the first priority for code formatting. However, formatting import statements can be frustratingly difficult. The toybox imports below can be formatted with isort. You can run isort through the edit tab, as we have been running the other formatters, or you can just right click on the cell and use the \"Format Cell\" option, just like the very first example we saw."
   ]
  },
  {
   "cell_type": "code",
   "execution_count": null,
   "id": "979eb040-67f0-4dc3-86c8-502761508661",
   "metadata": {},
   "outputs": [],
   "source": [
    "# %load examples/imports.py\n",
    "import os\n",
    "import sys\n",
    "\n",
    "import sys, os\n",
    "\n",
    "from subprocess import Popen, PIPE\n",
    "\n",
    "\n",
    "import mypkg.sibling\n",
    "from mypkg import sibling\n",
    "from mypkg.sibling import example\n",
    "\n",
    "import myclass\n",
    "import foo.bar.yourclass\n",
    "\n",
    "\n",
    "\n",
    "from . import sibling\n",
    "from .sibling import example\n",
    "\n",
    "from myclass import MyClass\n",
    "from foo.bar.yourclass import YourClass"
   ]
  }
 ],
 "metadata": {
  "kernelspec": {
   "display_name": "Python 3 (ipykernel)",
   "language": "python",
   "name": "python3"
  },
  "language_info": {
   "codemirror_mode": {
    "name": "ipython",
    "version": 3
   },
   "file_extension": ".py",
   "mimetype": "text/x-python",
   "name": "python",
   "nbconvert_exporter": "python",
   "pygments_lexer": "ipython3",
   "version": "3.11.4"
  }
 },
 "nbformat": 4,
 "nbformat_minor": 5
}
