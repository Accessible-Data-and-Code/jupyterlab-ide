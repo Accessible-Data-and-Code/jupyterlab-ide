# Exercise 1 - Basic Code Completion

name = "John"  # Replace with your preferred string value

# Trigger code completion after typing '(nam' and select the suggestion for 'name'
print



# Exercise 2 - Accessing Object Methods

class Person:
    def __init__(self, name, age):
        self.name = name
        self.age = age

    def greet(self):
        return f"Hello, my name is {self.name} and I am {self.age} years old."

# Create an instance of the Person class
person = Person("John", 30)  # Replace with a name and age of your choice

# Trigger code completion by typing '.' after "person" and select a method suggestion i.e. print(person.greet())
print(person


# Exercise 3 - Function Signature Completion

def calculate_area(length: float, width: float) -> float:
    # Calculate and return the area of a rectangle
    return length * width

# Test the function with sample values
length =   # Replace with a length of your choice
width =    # Replace with a width of your choice

# Trigger code completion after typing 'calculate_area(' and select the suggestion
area = calculate_area

print("Area:", area)


# Exercise 4 - Go to Definition of Variables

num =   # Declare variable with an integer value

print(num) # Trigger Go to Definition on 'num'


# Exercise 5 - Go to Definition of Functions

def add(a, b):
    return a + b

result = add(3,4)  # Trigger Go to Definition on 'add'

print(result)


# Exercise 6 - Go to Definition of Classes

class Rectangle:
    def __init__(self, length, width):
        self.length = length
        self.width = width

    def calculate_area(self):
        return self.length * self.width

# Instantiate an object of the Rectangle class
rectangle = Rectangle(5, 3)  # Trigger Go to Definition on 'Rectangle' 

area = rectangle.calculate_area()  # Trigger Go to Definition on 'calculate_area'

print("Area:", area)



# Exercise 7 - Find References of Variables

# Define a variable
name = "John"  # Replace with a name of your choice

# Add multiple references to the variable
print("Hello, " + name)
print("Goodbye, " + name)
print("Welcome, " + name)

# Use the Find References feature on the variable 'name' to locate all references



# Exercise 8 - Find References of Functions

# Define a function
def multiply(a, b):
    return a * b

# Add multiple function calls to the function
result1 = multiply(2, 3)
result2 = multiply(4, 5)
result3 = multiply(6, 7)

# Use the Find References feature on the function 'multiply' to locate all references


# Exercise 9 - Find References Across Multiple Files

# Define a variable or function
variable_or_function = "Hello"  # Replace with a variable or function of your choice

# Add references to the variable or function
print(variable_or_function)
