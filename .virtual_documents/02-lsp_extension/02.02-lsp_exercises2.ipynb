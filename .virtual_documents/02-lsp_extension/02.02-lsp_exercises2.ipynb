# Exercise 10 - Write a function with a single parameter

def greet(name):
    """Greet a person by their name."""
    return f"Hello, {name}!"

greeting = greet  # Missing the 'name' parameter

# Use the Signature Help feature to get information about the function's parameters by typing the open parenthesis 


# Exercise 11 - Write a function with multiple parameters

def calculate_total_cost(item_price, quantity, tax_rate):
    """Calculate the total cost of a purchase."""
    subtotal = item_price * quantity
    tax_amount = subtotal * (tax_rate / 100)
    total_cost = subtotal + tax_amount
    return total_cost

total = calculate_total_cost  # Missing three parameters

# Use the Signature Help feature to get information about the function's parameters


# Exercise 12 - Write a function that calculates the factorial of a number

def factorial(n):
    """Calculate the factorial of a number."""
    if n == 0:
        return 1
    else:
        return n * factorial(n - 1)

factorial_result = factorial("string")  # Can you figure out what's wrong in this line?

# Use the Signature Help feature to get information about the function's parameters as you did in the previous exercises


# Exercise 13 - Identify Syntax Errors

print("Hello, World!"
name = "Alice"

# Use the Code Linting feature to identify syntax errors and fix the error. You should see a red underline under 2 places.


# Exercise 14 - Identify Undefined Variables

message = "Hello, World!"
print(mesage)

# Use the Code Linting feature to identify undefined variables. Again you should see a red line under "mesage"


# Exercise 15 - Write code with unreachable code
def greet():
    print("Hello, World!")
    return

print("Goodbye, World!")
greet()

# Use the Code Linting feature to identify unreachable code
