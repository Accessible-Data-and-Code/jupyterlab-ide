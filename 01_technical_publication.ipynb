{
 "cells": [
  {
   "cell_type": "markdown",
   "id": "88663a51-98b1-4620-8efd-62221adc5482",
   "metadata": {},
   "source": [
    "# Technical Publication with Quarto"
   ]
  },
  {
   "cell_type": "markdown",
   "id": "6f9911d5-8f4b-4141-ada5-5179ef895966",
   "metadata": {},
   "source": [
    "Quarto is a publication system for producing high-quality articles, reports, presentations, websites, blogs, and books in HTML, PDF, MS Word, ePub, and more. It includes support for including equations, code, citations, crossrefs, figure panels, callouts, advanced layouts, and more, so it is great for academic work. Additionally, it plays very nicely with Jupyter Notebooks and ipywidgets."
   ]
  },
  {
   "cell_type": "markdown",
   "id": "ab8daa7b-0f57-4f23-a4cd-0d3f0d4a3de6",
   "metadata": {},
   "source": [
    "## Creating a Book"
   ]
  },
  {
   "cell_type": "markdown",
   "id": "8dbcd352-063d-459d-a50f-6f430d0691dc",
   "metadata": {},
   "source": [
    "To create a book template in Quarto, use the command `quarto create-project mybook --type book`. This will create a directory called `mybook` that contains all the files used to create the book."
   ]
  },
  {
   "cell_type": "markdown",
   "id": "1b2a26ed-f655-45a0-bba1-37bf60d45813",
   "metadata": {},
   "source": [
    "## Previewing a Book"
   ]
  },
  {
   "cell_type": "markdown",
   "id": "1451e217-9a45-4345-87fa-90c1d1e66774",
   "metadata": {},
   "source": [
    "To preview this book, run the following commands:\n",
    "\n",
    "```{bash}\n",
    "cd /home/jovyan/work/mybook\n",
    "quarto preview --host 0.0.0.0 --port 4200 --no-browser\n",
    "```\n",
    "\n",
    "Then visit `localhost:4200` in your favorite web browser.\n",
    "\n",
    "![Image](images/mybook_preview.png)\n"
   ]
  },
  {
   "cell_type": "markdown",
   "id": "78f5d419-a5d1-4047-8097-0332f4f39d8b",
   "metadata": {},
   "source": [
    "Note that if you were running Jupyter from your local machine, you would not need any of the\n",
    "options `--host 0.0.0.0 --port 4200 --no-browser`."
   ]
  },
  {
   "cell_type": "code",
   "execution_count": null,
   "id": "d441f049-fbb4-4e58-9559-093f9a1e8c73",
   "metadata": {},
   "outputs": [],
   "source": []
  }
 ],
 "metadata": {
  "kernelspec": {
   "display_name": "Python 3 (ipykernel)",
   "language": "python",
   "name": "python3"
  },
  "language_info": {
   "codemirror_mode": {
    "name": "ipython",
    "version": 3
   },
   "file_extension": ".py",
   "mimetype": "text/x-python",
   "name": "python",
   "nbconvert_exporter": "python",
   "pygments_lexer": "ipython3",
   "version": "3.10.8"
  }
 },
 "nbformat": 4,
 "nbformat_minor": 5
}
