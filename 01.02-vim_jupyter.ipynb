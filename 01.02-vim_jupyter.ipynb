{
 "cells": [
  {
   "cell_type": "markdown",
   "id": "51d6dc8a-98e4-4c40-8344-aec679e24e03",
   "metadata": {
    "tags": []
   },
   "source": [
    "# Switching into Jupyter Command mode (copying relevant normal exercises) (6 exercises to go)"
   ]
  },
  {
   "cell_type": "raw",
   "id": "22a7f76d-c2c7-4ba6-815a-e09e1135ed6f",
   "metadata": {
    "tags": []
   },
   "source": [
    "It's worth mentioning that Jupyter Command mode, from insert, can be entered with shift esc from Jupyter Insert mode and Jupyter Insert mode can be entered with enter. This does not have to be made into an exercise, but it would not be a bad way to approach the problem either. For now, just assume that there's a reason to do that sort of thing and just explain the transition.\n",
    "\n",
    "Explain also that it is possible to, for the most part, take the normal keybindings and apply them to Jupyter Command mode now. It's not fully true, but dropping the ctrl from a lot of the cell navigation keybinding of normal vim is mostly what happens with Jupyter Command mode."
   ]
  },
  {
   "cell_type": "raw",
   "id": "3b3289d7-37c2-4f22-b248-ca0f587de01e",
   "metadata": {},
   "source": [
    "Somewhere in all this mess, you need to explain that there are two different clipboards for the two different modes, JupyterLab Command and JupyterLab edit."
   ]
  },
  {
   "cell_type": "markdown",
   "id": "1af38aae-5036-4856-8790-f2eba63f16ac",
   "metadata": {},
   "source": [
    "## 9) Selecting adjacent cells in Jupyter Command\n",
    "\n",
    "This exercise, much like exercise 1, shows you how to select nearby cells from the one you are currently selecting. This time, you will be in Jupyter Command mode for it. These are the shortcuts:\n",
    "\n",
    "Keystrokes | Effects\n",
    ":---:|---\n",
    "<kbd>K</kbd> | Select the cell above\n",
    "<kbd>J</kbd> | Select the cell below\n",
    "\n",
    "Using only these keystrokes and <kbd>Shift</kbd> + <kbd>Enter</kbd>, run the following cells in the correct order, as listed in the cells themselves, to finish the exercise."
   ]
  },
  {
   "cell_type": "markdown",
   "id": "c929f780-6d77-4405-bfbc-244e46fb335f",
   "metadata": {},
   "source": [
    "## 10) Selecting multiple cells in Jupyter Command\n",
    "\n",
    "Now we will go over how to select multiple cells in Jupyter Command. To do this use:\n",
    "\n",
    "Keystrokes | Effects\n",
    ":---:|---\n",
    "<kbd>Shift</kbd> + <kbd>K</kbd> | Extend selection to the cell above\n",
    "<kbd>Shift</kbd> + <kbd>J</kbd> | Extend selection to the cell below\n",
    "\n",
    "Like before, use only these keystrokes and <kbd>Shift</kbd> + <kbd>Enter</kbd> to run the following cells all at once and finish the exercise."
   ]
  },
  {
   "cell_type": "raw",
   "id": "3bbbdf8c-2104-4ccf-be82-624eaf655e01",
   "metadata": {},
   "source": [
    "Utilize the fact that you can use j and k in Jupyter Command mode to move between cells, have the user use shift j and shift k to select multiple cells. Essentially copy the exercise 2"
   ]
  },
  {
   "cell_type": "markdown",
   "id": "8a7c3584-e50b-41e7-9689-5731e5e3fc78",
   "metadata": {},
   "source": [
    "## 11) Selecting the first and last cells in Jupyter Command\n",
    "\n",
    "It is also possible to select the first and last cells in Jupyter Command. The shortcuts are simpler as well. To demonstrate how to do this, we have the following shortcuts:\n",
    "\n",
    "Keystrokes | Effects\n",
    ":---:|---\n",
    "<kbd>G</kbd> + <kbd>G</kbd> | Select the first cell in the Jupyter Notebook\n",
    "<kbd>Shift</kbd> + <kbd>G</kbd> | Select the last cell in the Jupyter Notebook\n",
    "<kbd>Z</kbd> + <kbd>Z</kbd> | Center the selected cell on the screen\n",
    "\n",
    "Using these keystrokes, move to the top of this notebook and move to the bottom of this notebook. When at the last cell of the notebook, center it on the screen. When you are done, move onto exercise 12."
   ]
  },
  {
   "cell_type": "raw",
   "id": "dca14169-5020-4552-b3a5-bbef95e1a29c",
   "metadata": {},
   "source": [
    "Copy exercise 3"
   ]
  },
  {
   "cell_type": "markdown",
   "id": "60a92be4-31f2-4aa6-9b12-f93d22f1dacb",
   "metadata": {
    "tags": []
   },
   "source": [
    "## 12) Moving cells around in Jupyter Command\n",
    "\n",
    "Moving cells around can also be done in Jupyter Command. This is one of very few things with keyboard shortcuts that is identical in Jupyter Command and in normal mode. This can be done with:\n",
    "\n",
    "Keystrokes | Effects\n",
    ":---:|---\n",
    "<kbd>Ctrl</kbd> + <kbd>Y</kbd> | Move the current cell up\n",
    "<kbd>Ctrl</kbd> + <kbd>E</kbd> | Move the current cell down\n",
    "\n",
    "Using these keystrokes as well as those for selecting adjacent cells, move the cells below into the order listed by the cells in order to complete the exercise. For the fun of it, there will be blocks of cells that have to be moved all together. Select and run these blocks using the shortucts you learned in exercise 10. "
   ]
  },
  {
   "cell_type": "raw",
   "id": "87c68cf9-df97-4f36-a663-53a47fcb8ee6",
   "metadata": {},
   "source": [
    "Copy exercise 4\n",
    "\n",
    "Also make sure that the exercise includes the movement of multiple cells at once"
   ]
  },
  {
   "cell_type": "code",
   "execution_count": 1,
   "id": "7b4280dc-f8bb-4162-9f39-64532aea96ff",
   "metadata": {
    "tags": []
   },
   "outputs": [],
   "source": [
    "# Do not alter or move this cell\n",
    "\n",
    "second = False\n",
    "third = False"
   ]
  },
  {
   "cell_type": "code",
   "execution_count": 2,
   "id": "25088326-167a-437a-a19c-cd3338cd08ad",
   "metadata": {
    "tags": []
   },
   "outputs": [],
   "source": [
    "# Put this cell second\n",
    "\n",
    "second = True"
   ]
  },
  {
   "cell_type": "code",
   "execution_count": 3,
   "id": "e2ca3760-27a9-4598-a9aa-914737750fba",
   "metadata": {
    "tags": []
   },
   "outputs": [],
   "source": [
    "# Put this cell third\n",
    "\n",
    "if second == True:\n",
    "    third = True"
   ]
  },
  {
   "cell_type": "code",
   "execution_count": 4,
   "id": "5e6062b0-0a8a-4efd-934b-1d18d1ed89b1",
   "metadata": {
    "tags": []
   },
   "outputs": [
    {
     "name": "stdout",
     "output_type": "stream",
     "text": [
      "Hooray!\n"
     ]
    }
   ],
   "source": [
    "if third == True:\n",
    "    print(\"Hooray!\")\n",
    "else:\n",
    "    print(\"Sorry, not quite!\")"
   ]
  },
  {
   "cell_type": "markdown",
   "id": "e21b6ebb-3e3a-4006-9c36-c8e957d18502",
   "metadata": {
    "tags": []
   },
   "source": [
    "## 13) Inserting cells above and below a particular cell in Jupyter Command\n",
    "\n",
    "In addition to moving cells around, you can also insert cells above or below the currently selected cell. You can use the following keyboard shortcuts:\n",
    "\n",
    "Keystrokes | Effects\n",
    ":---:|---\n",
    "<kbd>Shift</kbd> + <kbd>O</kbd> | Insert a cell above\n",
    "<kbd>O</kbd> | Insert a cell below\n",
    "\n",
    "Using these shortcuts, add three empty cells above and below the cell marked for this exercise. Once you're done, run the code block labeled as the verifier to check that you have the right number of cells."
   ]
  },
  {
   "cell_type": "raw",
   "id": "a6118049-95f8-4d43-a539-c2afb8aa7549",
   "metadata": {},
   "source": [
    "Copy exercise 5"
   ]
  },
  {
   "cell_type": "markdown",
   "id": "6d5dab3b-e272-4e18-ad88-56632370b0f5",
   "metadata": {},
   "source": [
    "## 14) Yanking, pasting, and deleting cells in Jupyter Command\n",
    "\n",
    "Jupyter Command has an easier way of managing cells in the clipboard. To do this, use the following:\n",
    "\n",
    "Keystrokes | Effects\n",
    ":---:|---\n",
    "<kbd>Y</kbd> + <kbd>Y</kbd> | Copy or 'yank' the currently selected cell onto your system clipboard\n",
    "<kbd>D</kbd> + <kbd>D</kbd> | Cut or 'delete' the currently selected cell onto your system clipboard\n",
    "<kbd>P</kbd> | Paste a cell from your system clipboard below the currently selected cell\n",
    "\n",
    "There are several simple tasks for this exercise. While navigating around with Vim shortcuts, remove cells that tell you to remove them and place them where they're needed, copy the cells that you're instructed to copy and paste them as many times as you're told to paste them. Afterwards, select all the cells for the exercise and run them to complete the exercise"
   ]
  },
  {
   "cell_type": "raw",
   "id": "b751e60c-c687-419c-98bb-5203045b06d1",
   "metadata": {},
   "source": [
    "Copy exercise 6"
   ]
  },
  {
   "cell_type": "markdown",
   "id": "84b6d3ca-f0e2-4c9b-a81c-a08ba896d30c",
   "metadata": {
    "tags": []
   },
   "source": [
    "## 15) Hiding and showing code cells in Jupyter Command\n",
    "\n",
    "Sometimes, it can be annoying navigating a notebook because of the large number of cells that do not need to be visible taking up extra space on the screen. There are multiple ways to hide code cells, but these shortcuts work for Jupyter Command:\n",
    "\n",
    "Keystrokes | Effects\n",
    ":---:|---\n",
    "<kbd>Z</kbd> + <kbd>C</kbd> | Hide selected cells\n",
    "<kbd>Z</kbd> + <kbd>O</kbd> | Show selected cells\n",
    "<kbd>Z</kbd> + <kbd>M</kbd> | Hide all cells\n",
    "<kbd>Z</kbd> + <kbd>R</kbd> | Show all cells\n",
    "\n",
    "This exercise has some code cells that are hidden and some that are shown. Hide and unhide the cells as the content in the cell asks and then run the cell labeled as the verifier to check that you've done everything correctly."
   ]
  },
  {
   "cell_type": "markdown",
   "id": "8c738c9a-c98f-4a12-9832-8cc0f217649c",
   "metadata": {
    "tags": []
   },
   "source": [
    "## Hiding code cells (2 exercises) for individual code cells and all code cells"
   ]
  },
  {
   "cell_type": "raw",
   "id": "e323b9c0-27c1-4a3f-80d4-c400769cd3b8",
   "metadata": {},
   "source": [
    "This is less of an exercise and more of just a note"
   ]
  },
  {
   "cell_type": "markdown",
   "id": "0341c4ec-7939-4b32-b6a7-e7f4ec89cf5d",
   "metadata": {},
   "source": [
    "# Congratulations! You've completed all the exercise\n",
    "\n",
    "Now that you've finished the exercises, here are a few useful notes that you should keep in mind and, if you're interested, look into later. These topics are useful for navigating the extension, but they aren't strictly necessary for full functionality.\n",
    "\n",
    "## Table of Key Bindings\n",
    "\n",
    "First, it is nice to have an organized list of keybindings. You may screenshot these, copy their text, or whatever you want in order to remember them. If you don't want, they are still here. These tables are not exhaustive. You can always learn more online.\n",
    "\n",
    "In normal mode, you can do the following things with content in the cell:\n",
    "\n",
    "Keystrokes | Effects\n",
    "---|---\n",
    "<kbd>D</kbd> + <kbd>D</kbd> | This deletes a line and copies it to the clipboard\n",
    "<kbd>Y</kbd> + <kbd>Y</kbd> | This copies a line to the clipboard\n",
    "<kbd>P</kbd> | This pastes from the keyboard\n",
    "<kbd>U</kbd> | This will undo an action in normal mode\n",
    "<kbd>O</kbd> | This will add a line after the current line\n",
    "<kbd>K</kbd> | Move up one line\n",
    "<kbd>J</kbd> | Move down one line\n",
    "<kbd>G</kbd> + <kbd>G</kbd> | Select the first line\n",
    "<kbd>Shift</kbd> + <kbd>G</kbd> | Select the last line\n",
    "\n",
    "In normal mode, you can do the following things with cells:\n",
    "\n",
    "Keystrokes | Effects\n",
    "---|---\n",
    "<kbd>Ctrl</kbd> + <kbd>K</kbd> | Select the cell above\n",
    "<kbd>Ctrl</kbd> + <kbd>J</kbd> | Select the cell below\n",
    "<kbd>Ctrl</kbd> + <kbd>Shift</kbd> + <kbd>K</kbd> | Extend selection to the cell above\n",
    "<kbd>Ctrl</kbd> + <kbd>Shift</kbd> + <kbd>J</kbd> | Extend selection to the cell below\n",
    "<kbd>Ctrl</kbd> + <kbd>O</kbd> + <kbd>G</kbd> | Select the first cell in the Jupyter Notebook\n",
    "<kbd>Ctrl</kbd> + <kbd>O</kbd> + <kbd>Ctrl</kbd> + <kbd>G</kbd> | Select the last cell in the Jupyter Notebook\n",
    "<kbd>Ctrl</kbd> + <kbd>O</kbd> + <kbd>Z</kbd> + <kbd>Z</kbd> | Center the selected cell on the screen\n",
    "<kbd>Ctrl</kbd> + <kbd>Y</kbd> | Move the current cell up\n",
    "<kbd>Ctrl</kbd> + <kbd>E</kbd> | Move the current cell down\n",
    "<kbd>Ctrl</kbd> + <kbd>O</kbd> + <kbd>Ctrl</kbd> + <kbd>O</kbd> | Insert a cell above\n",
    "<kbd>Ctrl</kbd> + <kbd>O</kbd> + <kbd>O</kbd> | Insert a cell below\n",
    "<kbd>Ctrl</kbd> + <kbd>O</kbd> + <kbd>Y</kbd> | Copy or 'yank' the currently selected cell onto your system clipboard\n",
    "<kbd>Ctrl</kbd> + <kbd>O</kbd> + <kbd>D</kbd> | Cut or 'delete' the currently selected cell onto your system clipboard\n",
    "<kbd>Ctrl</kbd> + <kbd>O</kbd> + <kbd>P</kbd> | Paste a cell from your system clipboard below the currently selected cell\n",
    "<kbd>Ctrl</kbd> + <kbd>1</kbd> | Turn the cell into Code mode\n",
    "<kbd>Ctrl</kbd> + <kbd>2</kbd> | Turn the cell into Markdown mode\n",
    "<kbd>Ctrl</kbd> + <kbd>3</kbd> | Turn the cell into Raw mode\n",
    "<kbd>-</kbd> | Split the cell at the cursor\n",
    "<kbd>Shift</kbd> + <kbd>M</kbd> | Merge all selected cells into one cell\n",
    "\n",
    "In Jupyter command, you can do the following things with cells:\n",
    "\n",
    "Keystrokes | Effects\n",
    "---|---\n",
    "<kbd>K</kbd> | Select the cell above\n",
    "<kbd>J</kbd> | Select the cell below\n",
    "<kbd>Shift</kbd> + <kbd>K</kbd> | Extend selection to the cell above\n",
    "<kbd>Shift</kbd> + <kbd>J</kbd> | Extend selection to the cell below\n",
    "<kbd>G</kbd> + <kbd>G</kbd> | Select the first cell in the Jupyter Notebook\n",
    "<kbd>Shift</kbd> + <kbd>G</kbd> | Select the last cell in the Jupyter Notebook\n",
    "<kbd>Z</kbd> + <kbd>Z</kbd> | Center the selected cell on the screen\n",
    "<kbd>Ctrl</kbd> + <kbd>Y</kbd> | Move the current cell up\n",
    "<kbd>Ctrl</kbd> + <kbd>E</kbd> | Move the current cell down\n",
    "<kbd>Shift</kbd> + <kbd>O</kbd> | Insert a cell above\n",
    "<kbd>O</kbd> | Insert a cell below\n",
    "<kbd>Y</kbd> + <kbd>Y</kbd> | Copy or 'yank' the currently selected cell onto your system clipboard\n",
    "<kbd>D</kbd> + <kbd>D</kbd> | Cut or 'delete' the currently selected cell onto your system clipboard\n",
    "<kbd>P</kbd> | Paste a cell from your system clipboard below the currently selected cell\n",
    "<kbd>Z</kbd> + <kbd>C</kbd> | Hide selected cells\n",
    "<kbd>Z</kbd> + <kbd>O</kbd> | Show selected cells\n",
    "<kbd>Z</kbd> + <kbd>M</kbd> | Hide all cells\n",
    "<kbd>Z</kbd> + <kbd>R</kbd> | Show all cells\n",
    "\n",
    "## Vim Ex\n",
    "\n",
    "Similar to Vim editor, it is possible to enter Ex mode from normal mode when editing a cell. To enter Ex mode, just input <kbd>:</kbd> and a prompt will appear. Right now though, the only features that are implemented in this JupyterLab extension are ```:w``` to save the notebook and ```:q``` to enter Jupyter command mode.\n",
    "\n",
    "## Clipboards for normal and Jupyter command\n",
    "\n",
    "There are a lot of different possible clipboards once you start using the Vim extension for JupyterLab. Because it doesn't make a lot of sense for users to try and paste text when they're in Jupyter command or for users to paste cells when they're editing a cell, Jupyter command and normal modes each have separate clipboards. Especially worth noting though is that the clipboard for normal mode is not the same as your system clipboard. For example, if you use Windows, using <kbd>Ctrl</kbd> + <kbd>V</kbd> will paste anything loaded into it using <kbd>Ctrl</kbd> + <kbd>C</kbd>. It will not paste anything yanked by the user in Vim's normal mode. Additionally, anything yanked or deleted from one notebook in Vim normal mode can be pasted into a separate notebook. Just keep this in mind.\n",
    "\n",
    "## Navigating in normal mode with <kbd>H</kbd>, <kbd>J</kbd>, <kbd>K</kbd>, and <kbd>L</kbd>\n",
    "\n",
    "In Vim normal mode, we already saw that <kbd>J</kbd> could be used to navigate down one line and <kbd>K</kbd> used to navigate up one line. That rule is true in normal mode and for much other navigation. Those keybindings were most useful for ```jupyterlab-vim```, but that's not all there is to Vim. While it is outside the scope of this tutorial to practice, users can press <kbd>H</kbd> and <kbd>L</kbd> to navigate left and right respectively in a document using normal mode. This allows users to keep their right hand from the arrowkeys and, theoretically, speeds up document editing and navigation. This and other quality of life features can be found in any number of Vim tutorials. If the Vim extension would be useful to you and you haven't had much practice with Vim, it may be worth looking into more documentation about Vim later."
   ]
  },
  {
   "cell_type": "code",
   "execution_count": null,
   "id": "62471aeb-8b85-4af3-9b84-3f434cd6e1f6",
   "metadata": {},
   "outputs": [],
   "source": []
  },
  {
   "cell_type": "code",
   "execution_count": null,
   "id": "a99472d9-cc9d-4ada-aa04-fbb72c1adbea",
   "metadata": {},
   "outputs": [],
   "source": []
  }
 ],
 "metadata": {
  "kernelspec": {
   "display_name": "Python 3 (ipykernel)",
   "language": "python",
   "name": "python3"
  },
  "language_info": {
   "codemirror_mode": {
    "name": "ipython",
    "version": 3
   },
   "file_extension": ".py",
   "mimetype": "text/x-python",
   "name": "python",
   "nbconvert_exporter": "python",
   "pygments_lexer": "ipython3",
   "version": "3.11.4"
  }
 },
 "nbformat": 4,
 "nbformat_minor": 5
}
