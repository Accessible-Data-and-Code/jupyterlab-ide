{
 "cells": [
  {
   "cell_type": "markdown",
   "id": "51d6dc8a-98e4-4c40-8344-aec679e24e03",
   "metadata": {
    "tags": []
   },
   "source": [
    "# Switching into Jupyter Command mode (copying relevant normal exercises) (6 exercises to go)"
   ]
  },
  {
   "cell_type": "raw",
   "id": "22a7f76d-c2c7-4ba6-815a-e09e1135ed6f",
   "metadata": {
    "tags": []
   },
   "source": [
    "It's worth mentioning that Jupyter Command mode, from insert, can be entered with shift esc from Jupyter Insert mode and Jupyter Insert mode can be entered with enter. This does not have to be made into an exercise, but it would not be a bad way to approach the problem either. For now, just assume that there's a reason to do that sort of thing and just explain the transition.\n",
    "\n",
    "Explain also that it is possible to, for the most part, take the normal keybindings and apply them to Jupyter Command mode now. It's not fully true, but dropping the ctrl from a lot of the cell navigation keybinding of normal vim is mostly what happens with Jupyter Command mode."
   ]
  },
  {
   "cell_type": "raw",
   "id": "3b3289d7-37c2-4f22-b248-ca0f587de01e",
   "metadata": {},
   "source": [
    "Somewhere in all this mess, you need to explain that there are two different clipboards for the two different modes, JupyterLab Command and JupyterLab edit."
   ]
  },
  {
   "cell_type": "markdown",
   "id": "1af38aae-5036-4856-8790-f2eba63f16ac",
   "metadata": {},
   "source": [
    "## 9) Selecting adjacent cells in Jupyter Command\n",
    "\n",
    "This exercise, much like exercise 1, shows you how to select nearby cells from the one you are currently selecting. This time, you will be in Jupyter Command mode for it. These are the shortcuts:\n",
    "\n",
    "Keystrokes | Effects\n",
    ":---:|---\n",
    "<kbd>K</kbd> | Select the cell above\n",
    "<kbd>J</kbd> | Select the cell below\n",
    "\n",
    "Using only these keystrokes and <kbd>Shift</kbd> + <kbd>Enter</kbd>, run the following cells in the correct order, as listed in the cells themselves, to finish the exercise."
   ]
  },
  {
   "cell_type": "markdown",
   "id": "c929f780-6d77-4405-bfbc-244e46fb335f",
   "metadata": {},
   "source": [
    "## 10) Selecting multiple cells in Jupyter Command\n",
    "\n",
    "Now we will go over how to select multiple cells in Jupyter Command. To do this use:\n",
    "\n",
    "Keystrokes | Effects\n",
    ":---:|---\n",
    "<kbd>Shift</kbd> + <kbd>K</kbd> | Extend selection to the cell above\n",
    "<kbd>Shift</kbd> + <kbd>J</kbd> | Extend selection to the cell below\n",
    "\n",
    "Like before, use only these keystrokes and <kbd>Shift</kbd> + <kbd>Enter</kbd> to run the following cells all at once and finish the exercise."
   ]
  },
  {
   "cell_type": "raw",
   "id": "3bbbdf8c-2104-4ccf-be82-624eaf655e01",
   "metadata": {},
   "source": [
    "Utilize the fact that you can use j and k in Jupyter Command mode to move between cells, have the user use shift j and shift k to select multiple cells. Essentially copy the exercise 2"
   ]
  },
  {
   "cell_type": "markdown",
   "id": "8a7c3584-e50b-41e7-9689-5731e5e3fc78",
   "metadata": {},
   "source": [
    "## 11) Selecting the first and last cells in Jupyter Command\n",
    "\n",
    "It is also possible to select the first and last cells in Jupyter Command. The shortcuts are simpler as well. To demonstrate how to do this, we have the following shortcuts:\n",
    "\n",
    "Keystrokes | Effects\n",
    ":---:|---\n",
    "<kbd>G</kbd> + <kbd>G</kbd> | Select the first cell in the Jupyter Notebook\n",
    "<kbd>Shift</kbd> + <kbd>G</kbd> | Select the last cell in the Jupyter Notebook\n",
    "<kbd>Z</kbd> + <kbd>Z</kbd> | Center the selected cell on the screen\n",
    "\n",
    "Using these keystrokes, move to the top of this notebook and move to the bottom of this notebook. When at the last cell of the notebook, center it on the screen. When you are done, move onto exercise 12."
   ]
  },
  {
   "cell_type": "raw",
   "id": "dca14169-5020-4552-b3a5-bbef95e1a29c",
   "metadata": {},
   "source": [
    "Copy exercise 3"
   ]
  },
  {
   "cell_type": "markdown",
   "id": "60a92be4-31f2-4aa6-9b12-f93d22f1dacb",
   "metadata": {},
   "source": [
    "## 12) Moving cells around in Jupyter Command\n",
    "\n",
    "Moving cells around can also be done in Jupyter Command. This is one of very few things with keyboard shortcuts that is identical in Jupyter Command and in normal mode. This can be done with:\n",
    "\n",
    "Keystrokes | Effects\n",
    ":---:|---\n",
    "<kbd>Ctrl</kbd> + <kbd>Y</kbd> | Move the current cell up\n",
    "<kbd>Ctrl</kbd> + <kbd>E</kbd> | Move the current cell down\n",
    "\n",
    "Using these keystrokes as well as those for selecting adjacent cells, move the cells below into the order listed by the cells in order to complete the exercise. For the fun of it, there will be blocks of cells that have to be moved all together. Select these blocks using the shortucts you learned in exercise 10. "
   ]
  },
  {
   "cell_type": "raw",
   "id": "87c68cf9-df97-4f36-a663-53a47fcb8ee6",
   "metadata": {},
   "source": [
    "Copy exercise 4\n",
    "\n",
    "Also make sure that the exercise includes the movement of multiple cells at once"
   ]
  },
  {
   "cell_type": "code",
   "execution_count": 9,
   "id": "7b4280dc-f8bb-4162-9f39-64532aea96ff",
   "metadata": {
    "tags": []
   },
   "outputs": [],
   "source": [
    "# Do not alter or move this cell\n",
    "\n",
    "second = False\n",
    "third = False"
   ]
  },
  {
   "cell_type": "code",
   "execution_count": 10,
   "id": "25088326-167a-437a-a19c-cd3338cd08ad",
   "metadata": {
    "tags": []
   },
   "outputs": [],
   "source": [
    "# Put this cell second\n",
    "\n",
    "second = True"
   ]
  },
  {
   "cell_type": "code",
   "execution_count": 11,
   "id": "e2ca3760-27a9-4598-a9aa-914737750fba",
   "metadata": {
    "tags": []
   },
   "outputs": [],
   "source": [
    "# Put this cell third\n",
    "\n",
    "if second == True:\n",
    "    third = True"
   ]
  },
  {
   "cell_type": "code",
   "execution_count": 12,
   "id": "5e6062b0-0a8a-4efd-934b-1d18d1ed89b1",
   "metadata": {
    "tags": []
   },
   "outputs": [
    {
     "name": "stdout",
     "output_type": "stream",
     "text": [
      "Hooray!\n"
     ]
    }
   ],
   "source": [
    "if third == True:\n",
    "    print(\"Hooray!\")\n",
    "else:\n",
    "    print(\"Sorry, not quite!\")"
   ]
  },
  {
   "cell_type": "markdown",
   "id": "e21b6ebb-3e3a-4006-9c36-c8e957d18502",
   "metadata": {},
   "source": [
    "## 13) Inserting cells above and below a particular cell"
   ]
  },
  {
   "cell_type": "raw",
   "id": "a6118049-95f8-4d43-a539-c2afb8aa7549",
   "metadata": {},
   "source": [
    "Copy exercise 5"
   ]
  },
  {
   "cell_type": "markdown",
   "id": "6d5dab3b-e272-4e18-ad88-56632370b0f5",
   "metadata": {},
   "source": [
    "## 14) Go through yanking, pasting, and deleting"
   ]
  },
  {
   "cell_type": "raw",
   "id": "b751e60c-c687-419c-98bb-5203045b06d1",
   "metadata": {},
   "source": [
    "Copy exercise 6"
   ]
  },
  {
   "cell_type": "markdown",
   "id": "84b6d3ca-f0e2-4c9b-a81c-a08ba896d30c",
   "metadata": {},
   "source": [
    "## Repeat that exercise, but with the Jupyter command bindings\n"
   ]
  },
  {
   "cell_type": "markdown",
   "id": "8c738c9a-c98f-4a12-9832-8cc0f217649c",
   "metadata": {},
   "source": [
    "## Hiding code cells (2 exercises) for individual code cells and all code cells"
   ]
  },
  {
   "cell_type": "raw",
   "id": "e323b9c0-27c1-4a3f-80d4-c400769cd3b8",
   "metadata": {},
   "source": [
    "This is less of an exercise and more of just a note"
   ]
  },
  {
   "cell_type": "markdown",
   "id": "7871ddc5-94b2-4915-aa2d-f7badc7c9c1d",
   "metadata": {},
   "source": [
    "## Navigating in normal mode with <kbd>H</kbd>, <kbd>J</kbd>, <kbd>K</kbd>, and <kbd>L</kbd>\n",
    "\n",
    "In Vim normal mode, we already saw that <kbd>J</kbd> could be used to navigate down one line and <kbd>K</kbd> used to navigate up one line. That rule is true in normal mode and for much other navigation. While it is outside the scope of this tutorial to practice, users can press <kbd>H</kbd> and <kbd>L</kbd> to navigate left and right respectively in a document using normal mode. This allows users to keep their right hand from the arrowkeys and, theoretically, speeds up document editing and navigation. This and other quality of life features can be found in any number of Vim tutorials. If the Vim extension would be useful to you and you haven't had much practice with Vim, it may be worth looking into more documentation about Vim later."
   ]
  },
  {
   "cell_type": "code",
   "execution_count": null,
   "id": "62471aeb-8b85-4af3-9b84-3f434cd6e1f6",
   "metadata": {},
   "outputs": [],
   "source": []
  }
 ],
 "metadata": {
  "kernelspec": {
   "display_name": "Python 3 (ipykernel)",
   "language": "python",
   "name": "python3"
  },
  "language_info": {
   "codemirror_mode": {
    "name": "ipython",
    "version": 3
   },
   "file_extension": ".py",
   "mimetype": "text/x-python",
   "name": "python",
   "nbconvert_exporter": "python",
   "pygments_lexer": "ipython3",
   "version": "3.11.4"
  }
 },
 "nbformat": 4,
 "nbformat_minor": 5
}
