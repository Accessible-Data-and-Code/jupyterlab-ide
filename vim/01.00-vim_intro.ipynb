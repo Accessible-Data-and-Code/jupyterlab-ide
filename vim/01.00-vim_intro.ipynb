{
 "cells": [
  {
   "cell_type": "markdown",
   "id": "f756081f-d9c3-499b-b3bf-702199798304",
   "metadata": {
    "tags": []
   },
   "source": [
    "# JupyterLab Command and JupyterLab Edit\n",
    "JupyterLab has two different modes when interacting with code in a notebook environment: command mode and edit mode.\n",
    "\n",
    "In command mode, the user is not directly editing any particular cells. Rather, the user is navigating the whole notebook and interacting with cells on a larger scale. If you right click on a cell, you should see options to cut, copy, and paste selected cells. Those commands are part of JupyterLab command mode.\n",
    "\n",
    "In edit mode, the user is directly editing the contents of a cell. Without ```jupyterlab-vim```, this uses, with exceptions for JupyterLab specific shortcuts, the same keyboard shortcuts that you would use for a processor like Microsoft Word or something simple like Notepad (or whatever equivalent comes to mind for your particular operating system). With the addition of ```jupyterlab-vim```, JupyterLab edit mode is extended into several additional modes, each tied to Vim editor.\n",
    "\n",
    "# Brief notes on Vim\n",
    "\n",
    "Vim is a text editor first released in 1991. It has several convenient keyboard shortcuts that can help with quickly editing a document. These features can be accessed through two of Vim's different modes: insert and normal. While insert and normal are not the only vim modes available (visual, command, and replace modes are also implemented), these modes are the relevant modes for understanding the additional features in JupyterLab Command. These features have been brought to JupyterLab through the ```jupyterlab-vim``` extension. If you have used Vim before, most of this next section will be stuff you are already acquainted with. If you haven't used Vim before but you are interested in learning more and applying it to the JupyterLab environment, there are several excellent tutorials for how to use Vim. For now, we will stick to some basics in Vim's normal mode. These things serve as a precursor for how ```jupyterlab-vim``` operates uniquely with the cell-based notebook environment.\n",
    "\n",
    "## Things you can do in Vim normal mode\n",
    "When you first edit text in a cell with the Vim extension enabled, you will start with a blinking cursor that indicates you are in normal mode. If you are editing a cell in insert mode, you can press <kbd>Escape</kbd> to enter normal mode.\n",
    "\n",
    "In normal mode, you can do the following things:\n",
    "Keystrokes | Effects\n",
    ":---:|---\n",
    "<kbd>D</kbd> + <kbd>D</kbd> | This deletes a line and copies it to the clipboard\n",
    "<kbd>Y</kbd> + <kbd>Y</kbd> | This copies a line to the clipboard\n",
    "<kbd>P</kbd> | This pastes from the keyboard\n",
    "<kbd>U</kbd> | This will undo an action in normal mode\n",
    "<kbd>O</kbd> | This will add a line after the current line\n",
    "<kbd>K</kbd> | Move up one line\n",
    "<kbd>J</kbd> | Move down one line\n",
    "<kbd>G</kbd> + <kbd>G</kbd> | Select the first line\n",
    "<kbd>Shift</kbd> + <kbd>G</kbd> | Select the last line\n",
    "\n",
    "Versions of these, but applied to cells in JupyterLab Command mode, also exist. We will learn more about them later! For now, play around a little bit. Below is the classic lorem ipsum text in a markdown cell. Try out some of these keystrokes."
   ]
  },
  {
   "cell_type": "markdown",
   "id": "79b04cd2-4eca-44ad-b8c6-350fbb14dd56",
   "metadata": {
    "tags": []
   },
   "source": [
    "Lorem ipsum dolor sit amet, consectetur adipiscing elit, sed do eiusmod tempor incididunt ut labore et dolore magna aliqua. Amet consectetur adipiscing elit ut aliquam purus sit amet. Facilisi nullam vehicula ipsum a arcu. Faucibus scelerisque eleifend donec pretium. Risus pretium quam vulputate dignissim suspendisse. Nulla posuere sollicitudin aliquam ultrices sagittis orci a scelerisque purus. Viverra mauris in aliquam sem fringilla ut. Elementum nibh tellus molestie nunc non blandit massa enim nec. Amet est placerat in egestas. Pharetra diam sit amet nisl suscipit adipiscing bibendum. Quis hendrerit dolor magna eget. Nec feugiat in fermentum posuere.\n",
    "\n",
    "Neque gravida in fermentum et sollicitudin ac. Pellentesque pulvinar pellentesque habitant morbi tristique senectus et. Nullam vehicula ipsum a arcu cursus. Sed lectus vestibulum mattis ullamcorper. Massa massa ultricies mi quis hendrerit dolor magna eget. Nulla aliquet porttitor lacus luctus accumsan tortor. Habitasse platea dictumst quisque sagittis purus sit. Semper eget duis at tellus at urna. Id donec ultrices tincidunt arcu non sodales neque. Nisl rhoncus mattis rhoncus urna neque viverra. Semper viverra nam libero justo laoreet. Maecenas sed enim ut sem viverra.\n",
    "\n",
    "Eu consequat ac felis donec. Egestas tellus rutrum tellus pellentesque. Fermentum posuere urna nec tincidunt praesent semper feugiat. Arcu ac tortor dignissim convallis aenean et tortor at. A diam sollicitudin tempor id eu nisl nunc. Ut sem nulla pharetra diam sit amet nisl suscipit adipiscing. Natoque penatibus et magnis dis parturient. Id eu nisl nunc mi ipsum. Fusce ut placerat orci nulla pellentesque dignissim enim sit amet. Id aliquet risus feugiat in ante metus dictum at tempor. Donec ultrices tincidunt arcu non. Sociis natoque penatibus et magnis. Eu nisl nunc mi ipsum. Aliquam faucibus purus in massa tempor nec feugiat. Nunc aliquet bibendum enim facilisis.\n",
    "\n",
    "Massa placerat duis ultricies lacus sed turpis. Quis risus sed vulputate odio ut enim blandit volutpat. Ut faucibus pulvinar elementum integer enim neque volutpat ac tincidunt. Cursus mattis molestie a iaculis at erat pellentesque adipiscing. Ac turpis egestas sed tempus. Tellus pellentesque eu tincidunt tortor aliquam nulla facilisi cras fermentum. Amet porttitor eget dolor morbi non arcu risus. Enim praesent elementum facilisis leo vel fringilla est. Lectus mauris ultrices eros in cursus. Vulputate mi sit amet mauris. Fermentum posuere urna nec tincidunt praesent semper feugiat nibh. Fames ac turpis egestas maecenas pharetra convallis. Egestas quis ipsum suspendisse ultrices. Sed nisi lacus sed viverra. Fermentum et sollicitudin ac orci phasellus egestas tellus rutrum. Nulla facilisi morbi tempus iaculis urna id volutpat. Aenean euismod elementum nisi quis eleifend quam adipiscing vitae. Nec sagittis aliquam malesuada bibendum. Varius duis at consectetur lorem donec massa. Faucibus in ornare quam viverra orci sagittis eu volutpat odio.\n",
    "\n",
    "Leo integer malesuada nunc vel risus commodo viverra. Convallis tellus id interdum velit laoreet id donec ultrices. Libero nunc consequat interdum varius sit amet mattis vulputate. Faucibus ornare suspendisse sed nisi lacus sed viverra tellus in. Risus ultricies tristique nulla aliquet enim tortor at auctor. Egestas tellus rutrum tellus pellentesque eu tincidunt tortor aliquam. Ultrices eros in cursus turpis massa tincidunt dui ut ornare. Purus faucibus ornare suspendisse sed nisi lacus sed viverra tellus. Ac auctor augue mauris augue. Sit amet consectetur adipiscing elit. Egestas tellus rutrum tellus pellentesque eu tincidunt tortor. Porttitor rhoncus dolor purus non. Non quam lacus suspendisse faucibus interdum posuere."
   ]
  },
  {
   "cell_type": "markdown",
   "id": "8cdb39c6-dbb3-474b-b4a7-df438358dedf",
   "metadata": {},
   "source": [
    "## Insert Mode\n",
    "\n",
    "For users who haven't seen Vim before, it's worth knowing one useful fact. If you want to edit the contents of a cell and not just move some lines around, you can enter into insert mode using <kbd>I</kbd> from normal mode. This will let you edit the text of a cell as usual.\n",
    "\n",
    "## What Next\n",
    "\n",
    "We have two more tutorials to get through, so look through those other notebooks and start from exercise 1. Let's dive in!\n",
    "\n",
    "<img\n",
    "     style=\"display: block;\n",
    "            margin-left: auto;\n",
    "            margin-right: auto;\n",
    "            width: 30%;\"\n",
    "     src=\"https://cdn.pixabay.com/animation/2022/09/28/13/22/13-22-18-1_512.gif\"\n",
    "/>"
   ]
  }
 ],
 "metadata": {
  "kernelspec": {
   "display_name": "Python 3 (ipykernel)",
   "language": "python",
   "name": "python3"
  },
  "language_info": {
   "codemirror_mode": {
    "name": "ipython",
    "version": 3
   },
   "file_extension": ".py",
   "mimetype": "text/x-python",
   "name": "python",
   "nbconvert_exporter": "python",
   "pygments_lexer": "ipython3",
   "version": "3.8.17"
  }
 },
 "nbformat": 4,
 "nbformat_minor": 5
}
