{
 "cells": [
  {
   "cell_type": "markdown",
   "id": "51d6dc8a-98e4-4c40-8344-aec679e24e03",
   "metadata": {
    "tags": []
   },
   "source": [
    "# Switching into Jupyter Command mode"
   ]
  },
  {
   "cell_type": "markdown",
   "id": "4afaf1fa-c6e4-4360-ae22-cbf82a9c87e2",
   "metadata": {
    "tags": []
   },
   "source": [
    "Now that you have learned how to use Vim's normal mode for cell manipulation, we can work on manipulating cells with Vim keybindings in Jupyter command mode. To enter Jupyter command mode, you can use <kbd>Shift</kbd> + <kbd>Esc</kbd> from Jupyter insert mode. To return to Jupyter insert mode from Jupyter command mode, just press <kbd>Enter</kbd> while selecting a cell.\n",
    "\n",
    "In Jupyter command, it is possible to, for the most part, take the normal keybindings from Vim and apply them to Jupyter command mode when interacting with cells. Thinking of cells as lines to interact with will help you make full use of Jupyter command mode."
   ]
  },
  {
   "cell_type": "markdown",
   "id": "1af38aae-5036-4856-8790-f2eba63f16ac",
   "metadata": {},
   "source": [
    "## 9) Selecting adjacent cells in Jupyter Command\n",
    "\n",
    "This exercise, much like exercise 1, shows you how to select nearby cells from the one you are currently selecting. This time, you will be in Jupyter command mode for it. These are the shortcuts:\n",
    "\n",
    "Keystrokes | Effects\n",
    ":---:|---\n",
    "<kbd>K</kbd> | Select the cell above\n",
    "<kbd>J</kbd> | Select the cell below\n",
    "\n",
    "Using only these keystrokes and <kbd>Shift</kbd> + <kbd>Enter</kbd>, run the following cells in the correct order, as listed in the cells themselves, to finish the exercise."
   ]
  },
  {
   "cell_type": "code",
   "execution_count": null,
   "id": "23e7106e-5951-4fd3-99f6-89e189a077ea",
   "metadata": {
    "tags": []
   },
   "outputs": [],
   "source": [
    "# This cell needs to be run second\n",
    "\n",
    "if first == True:\n",
    "    second = True"
   ]
  },
  {
   "cell_type": "code",
   "execution_count": null,
   "id": "af23b29e-7a11-4f30-be4e-e883b50e4fe5",
   "metadata": {
    "tags": []
   },
   "outputs": [],
   "source": [
    "# This cell needs to be run fourth\n",
    "\n",
    "if third == True:\n",
    "    fourth = True"
   ]
  },
  {
   "cell_type": "code",
   "execution_count": null,
   "id": "bfdefabf-92f0-4f29-a02c-d6dd5107d379",
   "metadata": {
    "tags": []
   },
   "outputs": [],
   "source": [
    "# This cell needs to be run third\n",
    "\n",
    "if second == True:\n",
    "    third = True"
   ]
  },
  {
   "cell_type": "code",
   "execution_count": null,
   "id": "000468d9-8199-49ec-bb75-bf9de69e1f9a",
   "metadata": {
    "tags": []
   },
   "outputs": [],
   "source": [
    "# This cell needs to be run fifth\n",
    "\n",
    "if fourth == True:\n",
    "    fifth = True"
   ]
  },
  {
   "cell_type": "code",
   "execution_count": null,
   "id": "a92dd894-8eb4-4a64-a311-8975887dc10d",
   "metadata": {
    "tags": []
   },
   "outputs": [],
   "source": [
    "# This cell needs to be run first\n",
    "\n",
    "first = True\n",
    "second = False\n",
    "third = False\n",
    "fourth = False\n",
    "fifth = False"
   ]
  },
  {
   "cell_type": "code",
   "execution_count": null,
   "id": "a765ca61-aa7a-4e5b-9c2e-d056190aa481",
   "metadata": {
    "tags": []
   },
   "outputs": [],
   "source": [
    "# This cell needs to be run last\n",
    "\n",
    "from IPython.display import Image, display\n",
    "import vim_verifier as vv\n",
    "\n",
    "if vv.oneCon(fifth):\n",
    "    display(Image(filename=\"gifs/birds.gif\"))"
   ]
  },
  {
   "cell_type": "markdown",
   "id": "c929f780-6d77-4405-bfbc-244e46fb335f",
   "metadata": {},
   "source": [
    "## 10) Selecting multiple cells in Jupyter Command\n",
    "\n",
    "Now we will go over how to select multiple cells in Jupyter Command. To do this use:\n",
    "\n",
    "Keystrokes | Effects\n",
    ":---:|---\n",
    "<kbd>Shift</kbd> + <kbd>K</kbd> | Extend selection to the cell above\n",
    "<kbd>Shift</kbd> + <kbd>J</kbd> | Extend selection to the cell below\n",
    "\n",
    "Like before, use only these keystrokes and <kbd>Shift</kbd> + <kbd>Enter</kbd> to run the following cells all at once and finish the exercise."
   ]
  },
  {
   "cell_type": "code",
   "execution_count": null,
   "id": "50fbb18d-67d4-4ec5-abb3-e24b44496961",
   "metadata": {
    "tags": []
   },
   "outputs": [],
   "source": [
    "# Select this cell ...\n",
    "\n",
    "foo = True"
   ]
  },
  {
   "cell_type": "code",
   "execution_count": null,
   "id": "677de64a-a0ed-427c-9c59-29a7934b9d92",
   "metadata": {},
   "outputs": [],
   "source": [
    "# ... and this cell ...\n",
    "\n",
    "bar = True"
   ]
  },
  {
   "cell_type": "code",
   "execution_count": null,
   "id": "1c0b4800-9eae-4ec9-9775-11a7e6b9319f",
   "metadata": {
    "tags": []
   },
   "outputs": [],
   "source": [
    "# ... and even this cell!\n",
    "\n",
    "from IPython.display import Image, display\n",
    "import vim_verifier as vv\n",
    "\n",
    "if vv.twoCon(foo,bar):\n",
    "    display(Image(filename=\"gifs/brain.gif\"))"
   ]
  },
  {
   "cell_type": "markdown",
   "id": "8a7c3584-e50b-41e7-9689-5731e5e3fc78",
   "metadata": {},
   "source": [
    "## 11) Selecting the first and last cells in Jupyter Command\n",
    "\n",
    "It is also possible to select the first and last cells in Jupyter Command. The shortcuts are simpler as well. To demonstrate how to do this, we have the following shortcuts:\n",
    "\n",
    "Keystrokes | Effects\n",
    ":---:|---\n",
    "<kbd>G</kbd> + <kbd>G</kbd> | Select the first cell in the Jupyter Notebook\n",
    "<kbd>Shift</kbd> + <kbd>G</kbd> | Select the last cell in the Jupyter Notebook\n",
    "<kbd>Z</kbd> + <kbd>Z</kbd> | Center the selected cell on the screen\n",
    "\n",
    "Using these keystrokes, move to the top of this notebook and move to the bottom of this notebook. When at the last cell of the notebook, center it on the screen. When you are done, move onto exercise 12."
   ]
  },
  {
   "cell_type": "markdown",
   "id": "60a92be4-31f2-4aa6-9b12-f93d22f1dacb",
   "metadata": {
    "tags": []
   },
   "source": [
    "## 12) Moving cells around in Jupyter Command\n",
    "\n",
    "Moving cells around can also be done in Jupyter Command. This is one of very few things with keyboard shortcuts that is identical in Jupyter Command and in normal mode. This can be done with:\n",
    "\n",
    "Keystrokes | Effects\n",
    ":---:|---\n",
    "<kbd>Ctrl</kbd> + <kbd>Y</kbd> | Move the current cell up\n",
    "<kbd>Ctrl</kbd> + <kbd>E</kbd> | Move the current cell down\n",
    "<kbd>U</kbd> | Undo a cell action\n",
    "\n",
    "Using these keystrokes as well as those for selecting adjacent cells, move the cells below into the order listed by the cells in order to complete the exercise. Select and run these blocks using the shortucts you learned in exercise 10. "
   ]
  },
  {
   "cell_type": "code",
   "execution_count": null,
   "id": "e7277200-b8e4-4d17-9b00-c6437fcb5a98",
   "metadata": {
    "tags": []
   },
   "outputs": [],
   "source": [
    "# This cell needs to be run second\n",
    "\n",
    "if first == True:\n",
    "    second = True"
   ]
  },
  {
   "cell_type": "code",
   "execution_count": null,
   "id": "8e4e3389-d98f-4d5f-aa88-7cfc1fff6457",
   "metadata": {
    "tags": []
   },
   "outputs": [],
   "source": [
    "# This cell needs to be run fourth\n",
    "\n",
    "if third == True:\n",
    "    fourth = True"
   ]
  },
  {
   "cell_type": "code",
   "execution_count": null,
   "id": "912331e5-e3ae-49f6-ac21-66f07ee8a1b6",
   "metadata": {
    "tags": []
   },
   "outputs": [],
   "source": [
    "# This cell needs to be run third\n",
    "\n",
    "if second == True:\n",
    "    third = True"
   ]
  },
  {
   "cell_type": "code",
   "execution_count": null,
   "id": "28d08ad3-df0f-4255-8eb6-52b8b1092f5c",
   "metadata": {
    "tags": []
   },
   "outputs": [],
   "source": [
    "# This cell needs to be run sixth\n",
    "\n",
    "if fifth == True:\n",
    "    sixth = True"
   ]
  },
  {
   "cell_type": "code",
   "execution_count": null,
   "id": "70b40221-95f7-40cc-b4b1-0dfa00a93127",
   "metadata": {
    "tags": []
   },
   "outputs": [],
   "source": [
    "# This cell needs to be run fifth\n",
    "\n",
    "if fourth == True:\n",
    "    fifth = True"
   ]
  },
  {
   "cell_type": "code",
   "execution_count": null,
   "id": "0e5a8bab-a277-48c5-ba46-b57b362de65f",
   "metadata": {
    "tags": []
   },
   "outputs": [],
   "source": [
    "# This cell needs to be run first\n",
    "\n",
    "first = True\n",
    "second = False\n",
    "third = False\n",
    "fourth = False\n",
    "fifth = False\n",
    "sixth = False"
   ]
  },
  {
   "cell_type": "code",
   "execution_count": null,
   "id": "cde2a8ed-6234-41b1-84e5-1f788a789666",
   "metadata": {
    "tags": []
   },
   "outputs": [],
   "source": [
    "# This cell needs to be run last\n",
    "\n",
    "from IPython.display import Image, display\n",
    "import vim_verifier as vv\n",
    "\n",
    "if vv.oneCon(sixth):\n",
    "    display(Image(filename=\"gifs/emoji.gif\"))"
   ]
  },
  {
   "cell_type": "markdown",
   "id": "e21b6ebb-3e3a-4006-9c36-c8e957d18502",
   "metadata": {
    "tags": []
   },
   "source": [
    "## 13) Inserting cells above and below a particular cell in Jupyter Command\n",
    "\n",
    "In addition to moving cells around, you can also insert cells above or below the currently selected cell. You can use the following keyboard shortcuts:\n",
    "\n",
    "Keystrokes | Effects\n",
    ":---:|---\n",
    "<kbd>Shift</kbd> + <kbd>O</kbd> | Insert a cell above\n",
    "<kbd>O</kbd> | Insert a cell below\n",
    "\n",
    "Using these shortcuts, add three empty cells above and below the cell marked for this exercise. Once you're done, run the code block labeled as the verifier to check that you have the right number of cells."
   ]
  },
  {
   "cell_type": "code",
   "execution_count": null,
   "id": "c77cdb3a-c822-46a0-be78-71b4d13eac82",
   "metadata": {},
   "outputs": [],
   "source": [
    "# Please insert some cells above me and below me!"
   ]
  },
  {
   "cell_type": "code",
   "execution_count": null,
   "id": "e33b3938-f2a5-47e9-97d2-1ef340974c8f",
   "metadata": {
    "tags": []
   },
   "outputs": [],
   "source": [
    "# This cell is the verifier\n",
    "\n",
    "from IPython.display import Image, display\n",
    "import vim_verifier as vv\n",
    "\n",
    "if vv.exThirteen():\n",
    "    display(Image(filename=\"gifs/labeouf.gif\"))"
   ]
  },
  {
   "cell_type": "markdown",
   "id": "6d5dab3b-e272-4e18-ad88-56632370b0f5",
   "metadata": {},
   "source": [
    "## 14) Yanking, pasting, and deleting cells in Jupyter Command\n",
    "\n",
    "Jupyter Command has an easier way of managing cells in the clipboard. To do this, use the following:\n",
    "\n",
    "Keystrokes | Effects\n",
    ":---:|---\n",
    "<kbd>Y</kbd> + <kbd>Y</kbd> | Copy or 'yank' the currently selected cell onto your system clipboard\n",
    "<kbd>D</kbd> + <kbd>D</kbd> | Cut or 'delete' the currently selected cell onto your system clipboard\n",
    "<kbd>P</kbd> | Paste a cell from your system clipboard below the currently selected cell\n",
    "\n",
    "There are several simple tasks for this exercise. While navigating around with Vim shortcuts, remove cells that tell you to remove them and place them where they're needed, copy the cells that you're instructed to copy and paste them as many times as you're told to paste them. Afterwards, select all the cells for the exercise and run them to complete the exercise"
   ]
  },
  {
   "cell_type": "code",
   "execution_count": null,
   "id": "958d8dac-fedf-4c15-bda6-09a77ee4d8bd",
   "metadata": {
    "tags": []
   },
   "outputs": [],
   "source": [
    "# This cell should run first and only once\n",
    "\n",
    "x = 0\n",
    "first = True\n",
    "second = False\n",
    "third = False\n",
    "fourth = False"
   ]
  },
  {
   "cell_type": "code",
   "execution_count": null,
   "id": "1ec81e11-e26f-47ac-b3ab-de065d1f7fed",
   "metadata": {
    "tags": []
   },
   "outputs": [],
   "source": [
    "# Make sure there are four copies of this cell\n",
    "\n",
    "x = x + 1"
   ]
  },
  {
   "cell_type": "code",
   "execution_count": null,
   "id": "df9ad056-d405-480d-804d-89c557f2dc91",
   "metadata": {
    "tags": []
   },
   "outputs": [],
   "source": [
    "# This cell needs to be run second\n",
    "\n",
    "if first == True:\n",
    "    second = True"
   ]
  },
  {
   "cell_type": "code",
   "execution_count": null,
   "id": "7c9efb8c-e70f-4919-82fc-74f6ebc77db3",
   "metadata": {
    "tags": []
   },
   "outputs": [],
   "source": [
    "# This cell needs to be run fourth\n",
    "\n",
    "if third == True:\n",
    "    fourth = True"
   ]
  },
  {
   "cell_type": "code",
   "execution_count": null,
   "id": "09985289-11c9-4db3-9e17-a578d31ba855",
   "metadata": {
    "tags": []
   },
   "outputs": [],
   "source": [
    "# This cell needs to be run third\n",
    "\n",
    "if second == True:\n",
    "    third = True"
   ]
  },
  {
   "cell_type": "code",
   "execution_count": null,
   "id": "512c50a5-3676-48df-833f-8b7bf8601f0f",
   "metadata": {
    "tags": []
   },
   "outputs": [],
   "source": [
    "# This cell needs to be run fifth\n",
    "\n",
    "if fourth == True:\n",
    "    order = True"
   ]
  },
  {
   "cell_type": "code",
   "execution_count": null,
   "id": "c825e994-5cc6-4cda-a944-37383a5b76f6",
   "metadata": {
    "tags": []
   },
   "outputs": [],
   "source": [
    "# This is the verification cell\n",
    "\n",
    "from IPython.display import Image, display\n",
    "import vim_verifier as vv\n",
    "\n",
    "if vv.twoCon(x==4,order==True):\n",
    "    display(Image(filename=\"gifs/minion.gif\"))"
   ]
  },
  {
   "cell_type": "markdown",
   "id": "84b6d3ca-f0e2-4c9b-a81c-a08ba896d30c",
   "metadata": {
    "tags": []
   },
   "source": [
    "## 15) Hiding and showing code cells in Jupyter Command\n",
    "\n",
    "Sometimes, it can be annoying navigating a notebook because of the large number of cells that do not need to be visible taking up extra space on the screen. There are multiple ways to hide code cells, but these shortcuts work for Jupyter Command:\n",
    "\n",
    "Keystrokes | Effects\n",
    ":---:|---\n",
    "<kbd>Z</kbd> + <kbd>C</kbd> | Hide selected cells\n",
    "<kbd>Z</kbd> + <kbd>O</kbd> | Show selected cells\n",
    "<kbd>Z</kbd> + <kbd>M</kbd> | Hide all cells\n",
    "<kbd>Z</kbd> + <kbd>R</kbd> | Show all cells\n",
    "\n",
    "This exercise has some code cells that are to be hidden and some that are shown. They all start hidden. Hide and unhide the cells as the content in the cell asks and then run the cell labeled as the verifier to check that you've done everything correctly."
   ]
  },
  {
   "cell_type": "code",
   "execution_count": null,
   "id": "6bdecdc1-e694-4ec2-92c1-27f22e3ef534",
   "metadata": {
    "tags": []
   },
   "outputs": [],
   "source": [
    "# I want to be hidden, please!"
   ]
  },
  {
   "cell_type": "code",
   "execution_count": null,
   "id": "3b0d76f6-dcdc-493a-a05d-a7fe6a95b285",
   "metadata": {
    "jupyter": {
     "source_hidden": true
    },
    "tags": []
   },
   "outputs": [],
   "source": [
    "# I want to be hidden, please!"
   ]
  },
  {
   "cell_type": "code",
   "execution_count": null,
   "id": "5650d783-c5dd-4618-b30d-7c8126b9ae6c",
   "metadata": {
    "tags": []
   },
   "outputs": [],
   "source": [
    "# I want to be hidden, please!"
   ]
  },
  {
   "cell_type": "code",
   "execution_count": null,
   "id": "ad0cb829-631f-4786-837c-db37c5f88b23",
   "metadata": {
    "jupyter": {
     "source_hidden": true
    },
    "tags": []
   },
   "outputs": [],
   "source": [
    "# I want to be hidden, please!"
   ]
  },
  {
   "cell_type": "code",
   "execution_count": null,
   "id": "60b919f3-7d73-4165-9032-7819074a3c55",
   "metadata": {
    "tags": []
   },
   "outputs": [],
   "source": [
    "# I want to be hidden, please!"
   ]
  },
  {
   "cell_type": "code",
   "execution_count": null,
   "id": "0b25ebfe-0df5-4b0d-bb7b-8630de799457",
   "metadata": {
    "jupyter": {
     "source_hidden": true
    },
    "tags": []
   },
   "outputs": [],
   "source": [
    "# I want to be hidden, please!"
   ]
  },
  {
   "cell_type": "code",
   "execution_count": null,
   "id": "92ee26d9-7306-41fb-b4a7-4cd00b86657f",
   "metadata": {
    "tags": []
   },
   "outputs": [],
   "source": [
    "# I want to be shown to the whole world!!!"
   ]
  },
  {
   "cell_type": "code",
   "execution_count": null,
   "id": "0f2ad5a3-3f95-4a87-bdea-7a71111707ba",
   "metadata": {
    "jupyter": {
     "source_hidden": true
    },
    "tags": []
   },
   "outputs": [],
   "source": [
    "# I want to be shown to the whole world!!!"
   ]
  },
  {
   "cell_type": "code",
   "execution_count": null,
   "id": "c911ac6c-18b1-4953-9704-25ecb16a395e",
   "metadata": {
    "jupyter": {
     "source_hidden": true
    },
    "tags": []
   },
   "outputs": [],
   "source": [
    "# I want to be shown to the whole world!!!"
   ]
  },
  {
   "cell_type": "code",
   "execution_count": null,
   "id": "7cda0f5c-c3f4-4063-9853-a72121ae6600",
   "metadata": {
    "jupyter": {
     "source_hidden": true
    },
    "tags": []
   },
   "outputs": [],
   "source": [
    "# I want to be shown to the whole world!!!"
   ]
  },
  {
   "cell_type": "code",
   "execution_count": null,
   "id": "64d233dd-eab4-474a-bc12-83bce51f9680",
   "metadata": {
    "tags": []
   },
   "outputs": [],
   "source": [
    "# I want to be shown to the whole world!!!"
   ]
  },
  {
   "cell_type": "code",
   "execution_count": null,
   "id": "5f0c4807-076a-4949-a7e1-7025428da7d3",
   "metadata": {
    "jupyter": {
     "source_hidden": true
    },
    "tags": []
   },
   "outputs": [],
   "source": [
    "# I want to be shown to the whole world!!!"
   ]
  },
  {
   "cell_type": "code",
   "execution_count": null,
   "id": "181a7a91-78db-401e-91f7-ca3702b5ff2d",
   "metadata": {},
   "outputs": [],
   "source": []
  },
  {
   "cell_type": "code",
   "execution_count": null,
   "id": "3c71c6c7-4a7e-44e4-a26b-7db02f0bcba3",
   "metadata": {
    "tags": []
   },
   "outputs": [],
   "source": [
    "# This is the verifier cell\n",
    "\n",
    "from IPython.display import Image, display\n",
    "import vim_verifier as vv\n",
    "\n",
    "if vv.exFifteen():\n",
    "    display(Image(filename=\"gifs/norris.gif\"))"
   ]
  },
  {
   "cell_type": "markdown",
   "id": "0341c4ec-7939-4b32-b6a7-e7f4ec89cf5d",
   "metadata": {},
   "source": [
    "## 16) Congratulations! You've completed all the exercises\n",
    "\n",
    "Now that you've finished the exercises, here are a few useful notes that you should keep in mind and, if you're interested, look into later. These topics are useful for navigating the extension, but they aren't strictly necessary for full functionality.\n",
    "\n",
    "<img\n",
    "     style=\"display: block;\n",
    "            margin-left: auto;\n",
    "            margin-right: auto;\n",
    "            width: 30%;\"\n",
    "     src=\"https://cdn.dribbble.com/users/613331/screenshots/3007469/typewriter_v4.gif\"\n",
    "/>\n",
    "\n",
    "### Table of Key Bindings\n",
    "\n",
    "First, it is nice to have an organized list of keybindings. You may screenshot these, copy their text, or whatever you want in order to remember them. If you don't want, they are still here. These tables are not exhaustive. You can always learn more online.\n",
    "\n",
    "In normal mode, you can do the following things with content in the cell:\n",
    "\n",
    "Keystrokes | Effects\n",
    "---|---\n",
    "<kbd>D</kbd> + <kbd>D</kbd> | This deletes a line and copies it to the clipboard\n",
    "<kbd>Y</kbd> + <kbd>Y</kbd> | This copies a line to the clipboard\n",
    "<kbd>P</kbd> | This pastes from the keyboard\n",
    "<kbd>U</kbd> | This will undo an action in normal mode\n",
    "<kbd>O</kbd> | This will add a line after the current line\n",
    "<kbd>K</kbd> | Move up one line\n",
    "<kbd>J</kbd> | Move down one line\n",
    "<kbd>G</kbd> + <kbd>G</kbd> | Select the first line\n",
    "<kbd>Shift</kbd> + <kbd>G</kbd> | Select the last line\n",
    "\n",
    "In normal mode, you can do the following things with cells:\n",
    "\n",
    "Keystrokes | Effects\n",
    "---|---\n",
    "<kbd>Ctrl</kbd> + <kbd>K</kbd> | Select the cell above\n",
    "<kbd>Ctrl</kbd> + <kbd>J</kbd> | Select the cell below\n",
    "<kbd>Ctrl</kbd> + <kbd>Shift</kbd> + <kbd>K</kbd> | Extend selection to the cell above\n",
    "<kbd>Ctrl</kbd> + <kbd>Shift</kbd> + <kbd>J</kbd> | Extend selection to the cell below\n",
    "<kbd>Ctrl</kbd> + <kbd>O</kbd> , <kbd>G</kbd> | Select the first cell in the Jupyter Notebook\n",
    "<kbd>Ctrl</kbd> + <kbd>O</kbd> , <kbd>Ctrl</kbd> + <kbd>G</kbd> | Select the last cell in the Jupyter Notebook\n",
    "<kbd>Ctrl</kbd> + <kbd>O</kbd> , <kbd>Z</kbd> + <kbd>Z</kbd> | Center the selected cell on the screen\n",
    "<kbd>Ctrl</kbd> + <kbd>Y</kbd> | Move the current cell up\n",
    "<kbd>Ctrl</kbd> + <kbd>E</kbd> | Move the current cell down\n",
    "<kbd>Ctrl</kbd> + <kbd>O</kbd> , <kbd>U</kbd> | Undo a cell action\n",
    "<kbd>Ctrl</kbd> + <kbd>O</kbd> , <kbd>Ctrl</kbd> + <kbd>O</kbd> | Insert a cell above\n",
    "<kbd>Ctrl</kbd> + <kbd>O</kbd> , <kbd>O</kbd> | Insert a cell below\n",
    "<kbd>Ctrl</kbd> + <kbd>O</kbd> , <kbd>Y</kbd> | Copy or 'yank' the currently selected cell onto your system clipboard\n",
    "<kbd>Ctrl</kbd> + <kbd>O</kbd> , <kbd>D</kbd> | Cut or 'delete' the currently selected cell onto your system clipboard\n",
    "<kbd>Ctrl</kbd> + <kbd>O</kbd> , <kbd>P</kbd> | Paste a cell from your system clipboard below the currently selected cell\n",
    "<kbd>Ctrl</kbd> + <kbd>1</kbd> | Turn the cell into Code mode\n",
    "<kbd>Ctrl</kbd> + <kbd>2</kbd> | Turn the cell into Markdown mode\n",
    "<kbd>Ctrl</kbd> + <kbd>3</kbd> | Turn the cell into Raw mode\n",
    "<kbd>-</kbd> | Split the cell at the cursor\n",
    "<kbd>Shift</kbd> + <kbd>M</kbd> | Merge all selected cells into one cell\n",
    "\n",
    "In Jupyter command, you can do the following things with cells:\n",
    "\n",
    "Keystrokes | Effects\n",
    "---|---\n",
    "<kbd>K</kbd> | Select the cell above\n",
    "<kbd>J</kbd> | Select the cell below\n",
    "<kbd>Shift</kbd> + <kbd>K</kbd> | Extend selection to the cell above\n",
    "<kbd>Shift</kbd> + <kbd>J</kbd> | Extend selection to the cell below\n",
    "<kbd>G</kbd> + <kbd>G</kbd> | Select the first cell in the Jupyter Notebook\n",
    "<kbd>Shift</kbd> + <kbd>G</kbd> | Select the last cell in the Jupyter Notebook\n",
    "<kbd>Z</kbd> + <kbd>Z</kbd> | Center the selected cell on the screen\n",
    "<kbd>Ctrl</kbd> + <kbd>Y</kbd> | Move the current cell up\n",
    "<kbd>Ctrl</kbd> + <kbd>E</kbd> | Move the current cell down\n",
    "<kbd>U</kbd> | Undo a cell action\n",
    "<kbd>Shift</kbd> + <kbd>O</kbd> | Insert a cell above\n",
    "<kbd>O</kbd> | Insert a cell below\n",
    "<kbd>Y</kbd> + <kbd>Y</kbd> | Copy or 'yank' the currently selected cell onto your system clipboard\n",
    "<kbd>D</kbd> + <kbd>D</kbd> | Cut or 'delete' the currently selected cell onto your system clipboard\n",
    "<kbd>P</kbd> | Paste a cell from your system clipboard below the currently selected cell\n",
    "<kbd>Z</kbd> + <kbd>C</kbd> | Hide selected cells\n",
    "<kbd>Z</kbd> + <kbd>O</kbd> | Show selected cells\n",
    "<kbd>Z</kbd> + <kbd>M</kbd> | Hide all cells\n",
    "<kbd>Z</kbd> + <kbd>R</kbd> | Show all cells\n",
    "\n",
    "### Vim Ex\n",
    "\n",
    "Similar to Vim editor, it is possible to enter Ex mode from normal mode when editing a cell. To enter Ex mode, just input <kbd>:</kbd> and a prompt will appear. Right now though, the only features that are documented for this JupyterLab extension are ```:w``` to save the notebook and ```:q``` to enter Jupyter command mode.\n",
    "\n",
    "### Clipboards for normal and Jupyter command\n",
    "\n",
    "There are a lot of different possible clipboards once you start using the Vim extension for JupyterLab. Because it doesn't make a lot of sense for users to try and paste text when they're in Jupyter command or for users to paste cells when they're editing a cell, Jupyter command and normal modes each have separate clipboards. Especially worth noting though is that the clipboard for normal mode is not the same as your system clipboard. For example, if you use Windows, using <kbd>Ctrl</kbd> + <kbd>V</kbd> will paste anything loaded into it using <kbd>Ctrl</kbd> + <kbd>C</kbd>. It will not paste anything yanked by the user in Vim's normal mode. Additionally, anything yanked or deleted from one notebook in Vim normal mode can be pasted into a separate notebook. Just keep this in mind.\n",
    "\n",
    "### Navigating in normal mode with <kbd>H</kbd>, <kbd>J</kbd>, <kbd>K</kbd>, and <kbd>L</kbd>\n",
    "\n",
    "In Vim normal mode, we already saw that <kbd>J</kbd> could be used to navigate down one line and <kbd>K</kbd> used to navigate up one line. That rule is true in normal mode and for much other navigation. Those keybindings were most useful for ```jupyterlab-vim```, but that's not all there is to Vim. While it is outside the scope of this tutorial to practice, users can press <kbd>H</kbd> and <kbd>L</kbd> to navigate left and right respectively in a document using normal mode. This allows users to keep their right hand from the arrowkeys and, theoretically, speeds up document editing and navigation. This and other quality of life features can be found in any number of Vim tutorials. If the Vim extension would be useful to you and you haven't had much practice with Vim, it may be worth looking into more documentation about Vim later."
   ]
  }
 ],
 "metadata": {
  "kernelspec": {
   "display_name": "Python 3 (ipykernel)",
   "language": "python",
   "name": "python3"
  },
  "language_info": {
   "codemirror_mode": {
    "name": "ipython",
    "version": 3
   },
   "file_extension": ".py",
   "mimetype": "text/x-python",
   "name": "python",
   "nbconvert_exporter": "python",
   "pygments_lexer": "ipython3",
   "version": "3.8.17"
  }
 },
 "nbformat": 4,
 "nbformat_minor": 5
}
