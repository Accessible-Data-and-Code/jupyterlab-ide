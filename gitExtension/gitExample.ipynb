{
 "cells": [
  {
   "cell_type": "markdown",
   "id": "de3b8bad",
   "metadata": {
    "id": "323c4e15",
    "papermill": {
     "duration": 0.025977,
     "end_time": "2023-05-12T05:42:22.358619",
     "exception": false,
     "start_time": "2023-05-12T05:42:22.332642",
     "status": "completed"
    },
    "tags": []
   },
   "source": [
    "# 1. Loading Data and Importing Libraries"
   ]
  },
  {
   "cell_type": "code",
   "execution_count": null,
   "id": "5ed6a726",
   "metadata": {
    "id": "fWKLTszT9Gey",
    "papermill": {
     "duration": 16.754715,
     "end_time": "2023-05-12T05:42:39.139175",
     "exception": false,
     "start_time": "2023-05-12T05:42:22.384460",
     "status": "completed"
    },
    "tags": []
   },
   "outputs": [],
   "source": [
    "!pip install country_converter"
   ]
  },
  {
   "cell_type": "code",
   "execution_count": null,
   "id": "9e257cde",
   "metadata": {
    "_cell_guid": "b1076dfc-b9ad-4769-8c92-a6c4dae69d19",
    "_kg_hide-output": true,
    "_uuid": "8f2839f25d086af736a60e9eeb907d3b93b6e0e5",
    "id": "c2f47d3f",
    "papermill": {
     "duration": 6.850717,
     "end_time": "2023-05-12T05:42:46.015446",
     "exception": false,
     "start_time": "2023-05-12T05:42:39.164729",
     "status": "completed"
    },
    "tags": []
   },
   "outputs": [],
   "source": [
    "import pandas as pd\n",
    "import numpy as np\n",
    "import country_converter as coco\n",
    "import matplotlib.pyplot as plt\n",
    "import seaborn as sns\n",
    "import plotly.express as px\n",
    "import plotly.figure_factory as ff\n",
    "import plotly.graph_objects as go\n",
    "from wordcloud import WordCloud\n",
    "import warnings\n",
    "warnings.filterwarnings('ignore')\n",
    "import nltk\n",
    "\n",
    "%matplotlib inline"
   ]
  },
  {
   "cell_type": "code",
   "execution_count": null,
   "id": "23e08241",
   "metadata": {
    "id": "9otR8uv8YdB2",
    "papermill": {
     "duration": 0.084423,
     "end_time": "2023-05-12T05:42:46.125322",
     "exception": false,
     "start_time": "2023-05-12T05:42:46.040899",
     "status": "completed"
    },
    "tags": []
   },
   "outputs": [],
   "source": [
    "df = pd.read_csv('/kaggle/input/data-science-salaries-2023/ds_salaries.csv')\n",
    "df.drop(df[['salary','salary_currency']], axis = 1, inplace = True)"
   ]
  },
  {
   "cell_type": "code",
   "execution_count": null,
   "id": "0581b67e",
   "metadata": {
    "id": "a109b1ad",
    "outputId": "3a84030b-939d-453f-aa55-50dcf7c3ebe1",
    "papermill": {
     "duration": 0.065747,
     "end_time": "2023-05-12T05:42:46.217059",
     "exception": false,
     "start_time": "2023-05-12T05:42:46.151312",
     "status": "completed"
    },
    "tags": []
   },
   "outputs": [],
   "source": [
    "print(df.shape)\n",
    "df.head()"
   ]
  },
  {
   "cell_type": "markdown",
   "id": "43b6f9d8",
   "metadata": {
    "id": "a46e7169",
    "papermill": {
     "duration": 0.024236,
     "end_time": "2023-05-12T05:42:46.266844",
     "exception": false,
     "start_time": "2023-05-12T05:42:46.242608",
     "status": "completed"
    },
    "tags": []
   },
   "source": [
    "So, we have 9 columns with 3755 rows:\n",
    "\n",
    "3 numeric columns : work_year, salary_in_usd,remote_ratio.\n",
    "\n",
    "6 categorical columns : experience_level,employment_type, job_title, employee_residense, company_location, company_size."
   ]
  },
  {
   "cell_type": "code",
   "execution_count": null,
   "id": "979c56f1",
   "metadata": {
    "id": "6wyZGnwn9y80",
    "outputId": "49130a6f-06a1-4568-acd6-2350d30ac168",
    "papermill": {
     "duration": 0.046668,
     "end_time": "2023-05-12T05:42:46.338507",
     "exception": false,
     "start_time": "2023-05-12T05:42:46.291839",
     "status": "completed"
    },
    "tags": []
   },
   "outputs": [],
   "source": [
    "df.isnull().sum()"
   ]
  },
  {
   "cell_type": "markdown",
   "id": "5765d48e",
   "metadata": {
    "id": "0bf508ab",
    "papermill": {
     "duration": 0.024743,
     "end_time": "2023-05-12T05:42:46.388280",
     "exception": false,
     "start_time": "2023-05-12T05:42:46.363537",
     "status": "completed"
    },
    "tags": []
   },
   "source": [
    "No missing values to deal with!"
   ]
  },
  {
   "cell_type": "markdown",
   "id": "169eddef",
   "metadata": {
    "id": "09f988f6",
    "papermill": {
     "duration": 0.026381,
     "end_time": "2023-05-12T05:42:46.439586",
     "exception": false,
     "start_time": "2023-05-12T05:42:46.413205",
     "status": "completed"
    },
    "tags": []
   },
   "source": [
    "# 2. Univariate Analysis"
   ]
  },
  {
   "cell_type": "markdown",
   "id": "b8780bd0",
   "metadata": {
    "id": "87b175d6",
    "papermill": {
     "duration": 0.025065,
     "end_time": "2023-05-12T05:42:46.489673",
     "exception": false,
     "start_time": "2023-05-12T05:42:46.464608",
     "status": "completed"
    },
    "tags": []
   },
   "source": [
    "## Dealing with Categorical features"
   ]
  },
  {
   "cell_type": "markdown",
   "id": "bfc74778",
   "metadata": {
    "id": "8da0c69d",
    "papermill": {
     "duration": 0.025396,
     "end_time": "2023-05-12T05:42:46.539905",
     "exception": false,
     "start_time": "2023-05-12T05:42:46.514509",
     "status": "completed"
    },
    "tags": []
   },
   "source": [
    "###Experience Level"
   ]
  },
  {
   "cell_type": "markdown",
   "id": "04dd3944",
   "metadata": {
    "id": "d5d3d207",
    "papermill": {
     "duration": 0.0252,
     "end_time": "2023-05-12T05:42:46.591915",
     "exception": false,
     "start_time": "2023-05-12T05:42:46.566715",
     "status": "completed"
    },
    "tags": []
   },
   "source": [
    "There's 4 categorical values  in column 'Experience Level', each are:\n",
    "\n",
    "\n",
    "*  EN, which refers to Entry-level / Junior.\n",
    "\n",
    "*   MI, which refers to Mid-level / Intermediate.\n",
    "\n",
    "*   SE, which refers to Senior-level / Expert.\n",
    "\n",
    "*   EX, which refers to Executive-level / Director.\n"
   ]
  },
  {
   "cell_type": "code",
   "execution_count": null,
   "id": "eff77738",
   "metadata": {
    "id": "f9a2d88c",
    "outputId": "94539a40-66e9-490b-ca1f-06254ddb3d64",
    "papermill": {
     "duration": 1.841276,
     "end_time": "2023-05-12T05:42:48.458772",
     "exception": false,
     "start_time": "2023-05-12T05:42:46.617496",
     "status": "completed"
    },
    "tags": []
   },
   "outputs": [],
   "source": [
    "df['experience_level'] = df['experience_level'].replace('EN','Entry-level/Junior')\n",
    "df['experience_level'] = df['experience_level'].replace('MI','Mid-level/Intermediate')\n",
    "df['experience_level'] = df['experience_level'].replace('SE','Senior-level/Expert')\n",
    "df['experience_level'] = df['experience_level'].replace('EX','Executive-level/Director')\n",
    "\n",
    "ex_level = df['experience_level'].value_counts()\n",
    "fig = px.treemap(ex_level, path = [ex_level.index], values = ex_level.values, \n",
    "                title = 'Experience Level')\n",
    "fig.show()"
   ]
  },
  {
   "cell_type": "markdown",
   "id": "7ef4c728",
   "metadata": {
    "id": "0c6ab323",
    "papermill": {
     "duration": 0.025979,
     "end_time": "2023-05-12T05:42:48.511671",
     "exception": false,
     "start_time": "2023-05-12T05:42:48.485692",
     "status": "completed"
    },
    "tags": []
   },
   "source": [
    "From treemap above, we observe that Senior-level/Expert accounts for the highest, and Mid-level/Intermediate ranked the next. \n",
    "\n",
    "Followed by Entry Level and surprisingly Executive at the end."
   ]
  },
  {
   "cell_type": "markdown",
   "id": "ae1260dd",
   "metadata": {
    "id": "f238faa8",
    "papermill": {
     "duration": 0.025868,
     "end_time": "2023-05-12T05:42:48.563810",
     "exception": false,
     "start_time": "2023-05-12T05:42:48.537942",
     "status": "completed"
    },
    "tags": []
   },
   "source": [
    "###Job Designation"
   ]
  },
  {
   "cell_type": "code",
   "execution_count": null,
   "id": "ea62ab35",
   "metadata": {
    "id": "0d2fcc53",
    "outputId": "e525f88e-c7b5-4bfb-9c93-c7c4584ee2ae",
    "papermill": {
     "duration": 0.039927,
     "end_time": "2023-05-12T05:42:48.629724",
     "exception": false,
     "start_time": "2023-05-12T05:42:48.589797",
     "status": "completed"
    },
    "tags": []
   },
   "outputs": [],
   "source": [
    "print('Different job designations altogether :', len(set(df['job_title'])))"
   ]
  },
  {
   "cell_type": "markdown",
   "id": "136e2d59",
   "metadata": {
    "id": "ad1933b1",
    "papermill": {
     "duration": 0.026298,
     "end_time": "2023-05-12T05:42:48.683246",
     "exception": false,
     "start_time": "2023-05-12T05:42:48.656948",
     "status": "completed"
    },
    "tags": []
   },
   "source": [
    "Next we will account for the most frequent job designations."
   ]
  },
  {
   "cell_type": "code",
   "execution_count": null,
   "id": "fcf5295e",
   "metadata": {
    "id": "cbec0cb9",
    "papermill": {
     "duration": 0.159004,
     "end_time": "2023-05-12T05:42:48.869056",
     "exception": false,
     "start_time": "2023-05-12T05:42:48.710052",
     "status": "completed"
    },
    "tags": []
   },
   "outputs": [],
   "source": [
    "top15_job_titles = df['job_title'].value_counts()[:15]\n",
    "fig = px.bar(y = top15_job_titles.values, x = top15_job_titles.index, \n",
    "            text = top15_job_titles.values, title = 'Top 15 Job Designations')\n",
    "fig.update_layout(xaxis_title = \"Job Designations\", yaxis_title = \"Count\")\n",
    "fig.show()"
   ]
  },
  {
   "cell_type": "markdown",
   "id": "73074dd0",
   "metadata": {
    "id": "77a7a7b8",
    "papermill": {
     "duration": 0.028106,
     "end_time": "2023-05-12T05:42:48.924142",
     "exception": false,
     "start_time": "2023-05-12T05:42:48.896036",
     "status": "completed"
    },
    "tags": []
   },
   "source": [
    "Data Engineer, Data Scientist are the top 2 as usual, followed by Data Analyst and Machine Learning Engineer."
   ]
  },
  {
   "cell_type": "markdown",
   "id": "370622a6",
   "metadata": {
    "id": "4517bb37",
    "papermill": {
     "duration": 0.028114,
     "end_time": "2023-05-12T05:42:48.979536",
     "exception": false,
     "start_time": "2023-05-12T05:42:48.951422",
     "status": "completed"
    },
    "tags": []
   },
   "source": [
    "Wordcloud of the Job Designations : "
   ]
  },
  {
   "cell_type": "code",
   "execution_count": null,
   "id": "a6ad98b7",
   "metadata": {
    "_kg_hide-input": false,
    "id": "dcc1aeba",
    "papermill": {
     "duration": 0.03991,
     "end_time": "2023-05-12T05:42:49.045401",
     "exception": false,
     "start_time": "2023-05-12T05:42:49.005491",
     "status": "completed"
    },
    "tags": []
   },
   "outputs": [],
   "source": [
    "def Freq_df(word_list):\n",
    "    Freq_dist_nltk = nltk.FreqDist(word_list)\n",
    "    df_freq = pd.DataFrame.from_dict(Freq_dist_nltk, orient = 'index')\n",
    "    df_freq.columns = ['Frequency']\n",
    "    df_freq.index.name = 'Term'\n",
    "    df_freq = df_freq.sort_values(by = ['Frequency'], ascending = False)\n",
    "    df_freq = df_freq.reset_index()\n",
    "    return df_freq"
   ]
  },
  {
   "cell_type": "code",
   "execution_count": null,
   "id": "222726e0",
   "metadata": {
    "id": "Q1udW5RMee3J",
    "papermill": {
     "duration": 0.039272,
     "end_time": "2023-05-12T05:42:49.110691",
     "exception": false,
     "start_time": "2023-05-12T05:42:49.071419",
     "status": "completed"
    },
    "tags": []
   },
   "outputs": [],
   "source": [
    "def Word_Cloud(data, title):\n",
    "    plt.figure(figsize = (20,15))\n",
    "    wc = WordCloud(width = 1200, height = 600, max_words = 50,\n",
    "               background_color = 'white',\n",
    "               max_font_size = 100, random_state = 42)\n",
    "    wc.generate_from_frequencies(data)\n",
    "    \n",
    "    plt.imshow(wc)\n",
    "    plt.title(title)\n",
    "    plt.axis('off')\n",
    "    plt.show()"
   ]
  },
  {
   "cell_type": "code",
   "execution_count": null,
   "id": "848a34b7",
   "metadata": {
    "id": "e8a399cb",
    "papermill": {
     "duration": 1.075561,
     "end_time": "2023-05-12T05:42:50.212008",
     "exception": false,
     "start_time": "2023-05-12T05:42:49.136447",
     "status": "completed"
    },
    "tags": []
   },
   "outputs": [],
   "source": [
    "freq_df = Freq_df(df['job_title'].values.tolist())\n",
    "data = dict(zip(freq_df['Term'].tolist(), freq_df['Frequency'].tolist()))\n",
    "data = freq_df.set_index('Term').to_dict()['Frequency']\n",
    "\n",
    "Word_Cloud(data , 'WordCloud of job designations')"
   ]
  },
  {
   "cell_type": "markdown",
   "id": "bdea57bc",
   "metadata": {
    "id": "0df7954b",
    "papermill": {
     "duration": 0.034738,
     "end_time": "2023-05-12T05:42:50.282914",
     "exception": false,
     "start_time": "2023-05-12T05:42:50.248176",
     "status": "completed"
    },
    "tags": []
   },
   "source": [
    "### Employment Type"
   ]
  },
  {
   "cell_type": "markdown",
   "id": "b69ae2e6",
   "metadata": {
    "id": "5938ccbc",
    "papermill": {
     "duration": 0.037437,
     "end_time": "2023-05-12T05:42:50.356528",
     "exception": false,
     "start_time": "2023-05-12T05:42:50.319091",
     "status": "completed"
    },
    "tags": []
   },
   "source": [
    "There are 4 employment types here : \n",
    "\n",
    "\n",
    "*   PT : Part-time\n",
    "\n",
    "*   FT : Full-time\n",
    "\n",
    "*   CT : Contract\n",
    "\n",
    "*   FL : Freelance\n"
   ]
  },
  {
   "cell_type": "code",
   "execution_count": null,
   "id": "e595adb6",
   "metadata": {
    "id": "6bd33e47",
    "papermill": {
     "duration": 0.168366,
     "end_time": "2023-05-12T05:42:50.561351",
     "exception": false,
     "start_time": "2023-05-12T05:42:50.392985",
     "status": "completed"
    },
    "tags": []
   },
   "outputs": [],
   "source": [
    "group = df['employment_type'].value_counts()\n",
    "emp_type = ['Full-Time', 'Part-Time', 'Contract', 'Freelance']\n",
    "\n",
    "fig = px.bar(x = emp_type, y = group.values, \n",
    "       color = group.index, text = group.values, \n",
    "       title = 'Employment Type Distribution')\n",
    "\n",
    "fig.update_layout( xaxis_title = \"Employment Type\", yaxis_title = \"count\")\n",
    "fig.show()"
   ]
  },
  {
   "cell_type": "markdown",
   "id": "b8acf483",
   "metadata": {
    "id": "9a81f193",
    "papermill": {
     "duration": 0.036331,
     "end_time": "2023-05-12T05:42:50.635512",
     "exception": false,
     "start_time": "2023-05-12T05:42:50.599181",
     "status": "completed"
    },
    "tags": []
   },
   "source": [
    "Almost the entirety of employee type is full-time."
   ]
  },
  {
   "cell_type": "markdown",
   "id": "069bab49",
   "metadata": {
    "id": "dd3151a1",
    "papermill": {
     "duration": 0.037686,
     "end_time": "2023-05-12T05:42:50.709828",
     "exception": false,
     "start_time": "2023-05-12T05:42:50.672142",
     "status": "completed"
    },
    "tags": []
   },
   "source": [
    "### Relation between Employee Residence and Company Location"
   ]
  },
  {
   "cell_type": "code",
   "execution_count": null,
   "id": "a0381132",
   "metadata": {
    "id": "4b3aeac0",
    "papermill": {
     "duration": 3.537225,
     "end_time": "2023-05-12T05:42:54.286372",
     "exception": false,
     "start_time": "2023-05-12T05:42:50.749147",
     "status": "completed"
    },
    "tags": []
   },
   "outputs": [],
   "source": [
    "country = coco.convert(names = df['employee_residence'], to = \"ISO3\")\n",
    "df['employee_residence'] = country"
   ]
  },
  {
   "cell_type": "code",
   "execution_count": null,
   "id": "c792d0c3",
   "metadata": {
    "id": "6b4de367",
    "papermill": {
     "duration": 0.209296,
     "end_time": "2023-05-12T05:42:54.532940",
     "exception": false,
     "start_time": "2023-05-12T05:42:54.323644",
     "status": "completed"
    },
    "tags": []
   },
   "outputs": [],
   "source": [
    "residence = df['employee_residence'].value_counts()\n",
    "fig = px.choropleth(locations = residence.index,\n",
    "                    color = residence.values,\n",
    "                    color_continuous_scale=px.colors.sequential.YlGn,\n",
    "                    title = 'Employee Loaction On Map')\n",
    "fig.show()"
   ]
  },
  {
   "cell_type": "markdown",
   "id": "98e65d1e",
   "metadata": {
    "id": "6ca10bb0",
    "papermill": {
     "duration": 0.035597,
     "end_time": "2023-05-12T05:42:54.605322",
     "exception": false,
     "start_time": "2023-05-12T05:42:54.569725",
     "status": "completed"
    },
    "tags": []
   },
   "source": [
    "Most of the employees are from USA as can be seen from the chloropleth above."
   ]
  },
  {
   "cell_type": "code",
   "execution_count": null,
   "id": "8c838942",
   "metadata": {
    "id": "fef8e7f8",
    "papermill": {
     "duration": 0.207921,
     "end_time": "2023-05-12T05:42:54.850413",
     "exception": false,
     "start_time": "2023-05-12T05:42:54.642492",
     "status": "completed"
    },
    "tags": []
   },
   "outputs": [],
   "source": [
    "top_15_emp_locations = residence[:15]\n",
    "fig = px.bar(y = top_15_emp_locations.values, x = top_15_emp_locations.index, \n",
    "            color = top_15_emp_locations.index, text = top_15_emp_locations.values,\n",
    "            title = 'Top 15 Locations of Employees')\n",
    "\n",
    "fig.update_layout( xaxis_title = \"Location of Employees\", yaxis_title = \"count\")\n",
    "fig.show()"
   ]
  },
  {
   "cell_type": "markdown",
   "id": "234cd72e",
   "metadata": {
    "id": "2112f066",
    "papermill": {
     "duration": 0.036937,
     "end_time": "2023-05-12T05:42:54.924715",
     "exception": false,
     "start_time": "2023-05-12T05:42:54.887778",
     "status": "completed"
    },
    "tags": []
   },
   "source": [
    "In terms of number of employees, USA leads followed by GBR, ESP and then IND."
   ]
  },
  {
   "cell_type": "code",
   "execution_count": null,
   "id": "7168c039",
   "metadata": {
    "id": "c2f68684",
    "papermill": {
     "duration": 3.63435,
     "end_time": "2023-05-12T05:42:58.597006",
     "exception": false,
     "start_time": "2023-05-12T05:42:54.962656",
     "status": "completed"
    },
    "tags": []
   },
   "outputs": [],
   "source": [
    "country = coco.convert(names=df['company_location'], to=\"ISO3\")\n",
    "df['company_location'] = country\n",
    "company_location = df['company_location'].value_counts()\n",
    "top_15_company_location = company_location[:15]\n",
    "\n",
    "fig = go.Figure(data = [\n",
    "    go.Bar(name = 'Employee Residence', \n",
    "           x = top_15_emp_locations.index, y = top_15_emp_locations.values,\n",
    "           text = top_15_emp_locations.values),\n",
    "    go.Bar(name = 'Company Location', x = top_15_company_location.index, \n",
    "           y = top_15_company_location.values, text = top_15_company_location.values)])\n",
    "\n",
    "fig.update_layout(barmode = 'group', xaxis_tickangle = -45,\n",
    "                  title='Comparison of Employee Residence and Company Location')\n",
    "\n",
    "fig.show()"
   ]
  },
  {
   "cell_type": "markdown",
   "id": "31c8dc8a",
   "metadata": {
    "id": "28a95eb1",
    "papermill": {
     "duration": 0.036733,
     "end_time": "2023-05-12T05:42:58.671659",
     "exception": false,
     "start_time": "2023-05-12T05:42:58.634926",
     "status": "completed"
    },
    "tags": []
   },
   "source": [
    "As of 2023, most countries have similar number of employee residences and company locations."
   ]
  },
  {
   "cell_type": "markdown",
   "id": "f8356a1a",
   "metadata": {
    "id": "dde46163",
    "papermill": {
     "duration": 0.036393,
     "end_time": "2023-05-12T05:42:58.745133",
     "exception": false,
     "start_time": "2023-05-12T05:42:58.708740",
     "status": "completed"
    },
    "tags": []
   },
   "source": [
    "### Company Size</div>"
   ]
  },
  {
   "cell_type": "code",
   "execution_count": null,
   "id": "31f224b7",
   "metadata": {
    "id": "f642da8c",
    "papermill": {
     "duration": 0.141439,
     "end_time": "2023-05-12T05:42:58.923145",
     "exception": false,
     "start_time": "2023-05-12T05:42:58.781706",
     "status": "completed"
    },
    "tags": []
   },
   "outputs": [],
   "source": [
    "group = df['company_size'].value_counts()\n",
    "\n",
    "fig = px.bar(y = group.values, x = group.index, \n",
    "             color = group.index, text = group.values,\n",
    "             title = 'Distribution of Company Size')\n",
    "\n",
    "fig.update_layout(xaxis_title = \"Company Size\", yaxis_title = \"count\")\n",
    "fig.show()"
   ]
  },
  {
   "cell_type": "markdown",
   "id": "0ec0386c",
   "metadata": {
    "id": "e920a3ab",
    "papermill": {
     "duration": 0.038043,
     "end_time": "2023-05-12T05:42:59.001759",
     "exception": false,
     "start_time": "2023-05-12T05:42:58.963716",
     "status": "completed"
    },
    "tags": []
   },
   "source": [
    "Company size mostly consists of medium sized comapnies and then the large sized ones followed by the small sized startups."
   ]
  },
  {
   "cell_type": "markdown",
   "id": "c961dc82",
   "metadata": {
    "id": "430305c0",
    "papermill": {
     "duration": 0.037923,
     "end_time": "2023-05-12T05:42:59.078630",
     "exception": false,
     "start_time": "2023-05-12T05:42:59.040707",
     "status": "completed"
    },
    "tags": []
   },
   "source": [
    "## Dealing with Numerical Features"
   ]
  },
  {
   "cell_type": "markdown",
   "id": "e3aa7c15",
   "metadata": {
    "id": "fc7ab28e",
    "papermill": {
     "duration": 0.038732,
     "end_time": "2023-05-12T05:42:59.156005",
     "exception": false,
     "start_time": "2023-05-12T05:42:59.117273",
     "status": "completed"
    },
    "tags": []
   },
   "source": [
    "### Work Year"
   ]
  },
  {
   "cell_type": "code",
   "execution_count": null,
   "id": "ec314c87",
   "metadata": {
    "id": "0ad0da4a",
    "papermill": {
     "duration": 0.127551,
     "end_time": "2023-05-12T05:42:59.324090",
     "exception": false,
     "start_time": "2023-05-12T05:42:59.196539",
     "status": "completed"
    },
    "tags": []
   },
   "outputs": [],
   "source": [
    "work_year = df['work_year'].value_counts()\n",
    "fig = px.pie(values = work_year.values, names = work_year.index, \n",
    "            title = 'Work year distribution')\n",
    "fig.show()"
   ]
  },
  {
   "cell_type": "markdown",
   "id": "e17c3403",
   "metadata": {
    "id": "3061d081",
    "papermill": {
     "duration": 0.040325,
     "end_time": "2023-05-12T05:42:59.406133",
     "exception": false,
     "start_time": "2023-05-12T05:42:59.365808",
     "status": "completed"
    },
    "tags": []
   },
   "source": [
    "2023 year data accounts for about 47% in the dataset, followed by 2022 and so. Goes on to show the tremendous growth in this field through the years!"
   ]
  },
  {
   "cell_type": "markdown",
   "id": "eda4a267",
   "metadata": {
    "id": "433ed684",
    "papermill": {
     "duration": 0.03991,
     "end_time": "2023-05-12T05:42:59.485495",
     "exception": false,
     "start_time": "2023-05-12T05:42:59.445585",
     "status": "completed"
    },
    "tags": []
   },
   "source": [
    "### Salary in USD"
   ]
  },
  {
   "cell_type": "code",
   "execution_count": null,
   "id": "e1ebbeea",
   "metadata": {
    "id": "wexO1GuVnGHi",
    "papermill": {
     "duration": 0.150748,
     "end_time": "2023-05-12T05:42:59.677509",
     "exception": false,
     "start_time": "2023-05-12T05:42:59.526761",
     "status": "completed"
    },
    "tags": []
   },
   "outputs": [],
   "source": [
    "fig = px.box(y = df['salary_in_usd'], title = 'Salary in USD')\n",
    "fig.show()"
   ]
  },
  {
   "cell_type": "code",
   "execution_count": null,
   "id": "d7dd65e2",
   "metadata": {
    "id": "dff2a349",
    "papermill": {
     "duration": 0.165424,
     "end_time": "2023-05-12T05:42:59.883782",
     "exception": false,
     "start_time": "2023-05-12T05:42:59.718358",
     "status": "completed"
    },
    "tags": []
   },
   "outputs": [],
   "source": [
    "hist_data = [df['salary_in_usd']]\n",
    "group_labels = ['salary_in_usd']\n",
    "\n",
    "fig = ff.create_distplot(hist_data, group_labels, show_hist = False)\n",
    "fig.update_layout(title = 'Distribution Plot of Salary in USD') \n",
    "fig.show()"
   ]
  },
  {
   "cell_type": "markdown",
   "id": "b862e434",
   "metadata": {
    "id": "7be1a221",
    "papermill": {
     "duration": 0.041035,
     "end_time": "2023-05-12T05:42:59.964887",
     "exception": false,
     "start_time": "2023-05-12T05:42:59.923852",
     "status": "completed"
    },
    "tags": []
   },
   "source": [
    "We observe that salary in USD is mostly distributed between 95/100k - 175/180k."
   ]
  },
  {
   "cell_type": "markdown",
   "id": "f5a86184",
   "metadata": {
    "id": "76f173d2",
    "papermill": {
     "duration": 0.039551,
     "end_time": "2023-05-12T05:43:00.044654",
     "exception": false,
     "start_time": "2023-05-12T05:43:00.005103",
     "status": "completed"
    },
    "tags": []
   },
   "source": [
    "### Remote Ratio"
   ]
  },
  {
   "cell_type": "markdown",
   "id": "9b5195a4",
   "metadata": {
    "id": "83989318",
    "papermill": {
     "duration": 0.042715,
     "end_time": "2023-05-12T05:43:00.128320",
     "exception": false,
     "start_time": "2023-05-12T05:43:00.085605",
     "status": "completed"
    },
    "tags": []
   },
   "source": [
    "Remote Ratio consists of 3 values : \n",
    "\n",
    "\n",
    "*   0 : No remote work (less than 20%) \n",
    "\n",
    "*   50 : Partially remote\n",
    "\n",
    "*   100 : Fully remote (more than 80%)"
   ]
  },
  {
   "cell_type": "code",
   "execution_count": null,
   "id": "c0cb3188",
   "metadata": {
    "id": "73d0acd8",
    "papermill": {
     "duration": 0.150125,
     "end_time": "2023-05-12T05:43:00.319567",
     "exception": false,
     "start_time": "2023-05-12T05:43:00.169442",
     "status": "completed"
    },
    "tags": []
   },
   "outputs": [],
   "source": [
    "remote_type = ['Fully Remote', 'Partially Remote', 'No Remote Work']\n",
    "\n",
    "fig = px.bar(x = remote_type, y = df['remote_ratio'].value_counts().values,\n",
    "       color = remote_type, text = df['remote_ratio'].value_counts().values,\n",
    "       title = 'Remote Ratio Distribution')\n",
    "\n",
    "fig.update_layout( xaxis_title = \"Remote Type\", yaxis_title = \"count\")\n",
    "fig.show()"
   ]
  },
  {
   "cell_type": "markdown",
   "id": "2dc64c0b",
   "metadata": {
    "id": "9267f68b",
    "papermill": {
     "duration": 0.039964,
     "end_time": "2023-05-12T05:43:00.401210",
     "exception": false,
     "start_time": "2023-05-12T05:43:00.361246",
     "status": "completed"
    },
    "tags": []
   },
   "source": [
    "As of 2023, Most companies still go the Fully Remote route, followed closely by the Hybrid/ Partially remote and then the No Remote policy."
   ]
  },
  {
   "cell_type": "markdown",
   "id": "3d452e75",
   "metadata": {
    "execution": {
     "iopub.execute_input": "2022-07-25T07:06:35.591510Z",
     "iopub.status.busy": "2022-07-25T07:06:35.591168Z",
     "iopub.status.idle": "2022-07-25T07:06:35.595781Z",
     "shell.execute_reply": "2022-07-25T07:06:35.594545Z",
     "shell.execute_reply.started": "2022-07-25T07:06:35.591480Z"
    },
    "id": "f816e646",
    "papermill": {
     "duration": 0.04171,
     "end_time": "2023-05-12T05:43:00.483688",
     "exception": false,
     "start_time": "2023-05-12T05:43:00.441978",
     "status": "completed"
    },
    "tags": []
   },
   "source": [
    "# 3. Work Year Analysis"
   ]
  },
  {
   "cell_type": "markdown",
   "id": "e22c5bae",
   "metadata": {
    "id": "de2a9476",
    "papermill": {
     "duration": 0.040378,
     "end_time": "2023-05-12T05:43:00.565700",
     "exception": false,
     "start_time": "2023-05-12T05:43:00.525322",
     "status": "completed"
    },
    "tags": []
   },
   "source": [
    "We do this to check whether remote ratio gets affected over time."
   ]
  },
  {
   "cell_type": "markdown",
   "id": "2f32f1e9",
   "metadata": {
    "id": "ef4b2737",
    "papermill": {
     "duration": 0.040178,
     "end_time": "2023-05-12T05:43:00.646522",
     "exception": false,
     "start_time": "2023-05-12T05:43:00.606344",
     "status": "completed"
    },
    "tags": []
   },
   "source": [
    "## Remote Ratio by Work Year"
   ]
  },
  {
   "cell_type": "code",
   "execution_count": null,
   "id": "f6fa00c0",
   "metadata": {
    "id": "849be9bb",
    "papermill": {
     "duration": 0.087512,
     "end_time": "2023-05-12T05:43:00.774477",
     "exception": false,
     "start_time": "2023-05-12T05:43:00.686965",
     "status": "completed"
    },
    "tags": []
   },
   "outputs": [],
   "source": [
    "remote_year = df.groupby(['work_year','remote_ratio']).size()\n",
    "ratio_2020 = np.round(remote_year[2020].values/remote_year[2020].values.sum(),2)\n",
    "ratio_2021 = np.round(remote_year[2021].values/remote_year[2021].values.sum(),2)\n",
    "ratio_2022 = np.round(remote_year[2022].values/remote_year[2022].values.sum(),2)\n",
    "ratio_2023 = np.round(remote_year[2023].values/remote_year[2023].values.sum(),2)\n",
    "\n",
    "fig = go.Figure()\n",
    "categories = ['No Remote Work', 'Partially Remote', 'Fully Remote']\n",
    "fig.add_trace(go.Scatterpolar(\n",
    "            r = ratio_2020, theta = categories, \n",
    "            fill = 'toself', name = '2020 remote ratio'))\n",
    "\n",
    "fig.add_trace(go.Scatterpolar(\n",
    "            r = ratio_2021, theta = categories,\n",
    "            fill = 'toself', name = '2021 remote ratio'))\n",
    "\n",
    "fig.add_trace(go.Scatterpolar(\n",
    "            r = ratio_2022, theta = categories,\n",
    "            fill = 'toself', name = '2022 remote ratio'))\n",
    "\n",
    "fig.add_trace(go.Scatterpolar(\n",
    "            r = ratio_2023, theta = categories,\n",
    "            fill = 'toself', name = '2023 remote ratio'))\n",
    "\n",
    "fig.show()"
   ]
  },
  {
   "cell_type": "markdown",
   "id": "58b89acb",
   "metadata": {
    "id": "bf3f05ee",
    "papermill": {
     "duration": 0.040713,
     "end_time": "2023-05-12T05:43:00.857428",
     "exception": false,
     "start_time": "2023-05-12T05:43:00.816715",
     "status": "completed"
    },
    "tags": []
   },
   "source": [
    "As from the rader plot, we observe that : \n",
    "\n",
    "Remote work peaked during 2021 and that could be attributed to the pandemic. With time, no remote work policy has been applied again as it is the case for 2023.\n"
   ]
  },
  {
   "cell_type": "markdown",
   "id": "06bd0931",
   "metadata": {
    "execution": {
     "iopub.execute_input": "2022-07-25T11:50:24.871720Z",
     "iopub.status.busy": "2022-07-25T11:50:24.870554Z",
     "iopub.status.idle": "2022-07-25T11:50:24.892372Z",
     "shell.execute_reply": "2022-07-25T11:50:24.891305Z",
     "shell.execute_reply.started": "2022-07-25T11:50:24.871683Z"
    },
    "id": "9f7bc9fd",
    "papermill": {
     "duration": 0.042467,
     "end_time": "2023-05-12T05:43:00.941981",
     "exception": false,
     "start_time": "2023-05-12T05:43:00.899514",
     "status": "completed"
    },
    "tags": []
   },
   "source": [
    "#4. Experience Level Analysis"
   ]
  },
  {
   "cell_type": "markdown",
   "id": "24918397",
   "metadata": {
    "id": "6813eb68",
    "papermill": {
     "duration": 0.042386,
     "end_time": "2023-05-12T05:43:01.027094",
     "exception": false,
     "start_time": "2023-05-12T05:43:00.984708",
     "status": "completed"
    },
    "tags": []
   },
   "source": [
    "## Employment Type wrt Experience Level"
   ]
  },
  {
   "cell_type": "code",
   "execution_count": null,
   "id": "d2e29737",
   "metadata": {
    "id": "cef62171",
    "papermill": {
     "duration": 0.079717,
     "end_time": "2023-05-12T05:43:01.148469",
     "exception": false,
     "start_time": "2023-05-12T05:43:01.068752",
     "status": "completed"
    },
    "tags": []
   },
   "outputs": [],
   "source": [
    "exp_type = df.groupby(['experience_level','employment_type']).size()\n",
    "\n",
    "fig = go.Figure(data = [\n",
    "    go.Bar(name = 'Entry-level/Junior', x = exp_type['Entry-level/Junior'].index, \n",
    "           y = exp_type['Entry-level/Junior'].values, text = exp_type['Entry-level/Junior'].values),\n",
    "    go.Bar(name = 'Executive-level/Director', x = exp_type['Executive-level/Director'].index, \n",
    "           y = exp_type['Executive-level/Director'].values, text = exp_type['Executive-level/Director'].values),\n",
    "    go.Bar(name = 'Mid-level/Intermediate', x = exp_type['Mid-level/Intermediate'].index,\n",
    "           y = exp_type['Mid-level/Intermediate'].values, text = exp_type['Mid-level/Intermediate'].values),\n",
    "    go.Bar(name = 'Senior-level/Expert', x = exp_type['Senior-level/Expert'].index,\n",
    "           y = exp_type['Senior-level/Expert'].values, text = exp_type['Senior-level/Expert'].values)])\n",
    "\n",
    "fig.update_layout(xaxis_tickangle = -45, title = 'Experiece Level along with Employment Type')\n",
    "\n",
    "fig.show()"
   ]
  },
  {
   "cell_type": "markdown",
   "id": "e8e99862",
   "metadata": {
    "id": "1f5f2519",
    "papermill": {
     "duration": 0.041006,
     "end_time": "2023-05-12T05:43:01.231244",
     "exception": false,
     "start_time": "2023-05-12T05:43:01.190238",
     "status": "completed"
    },
    "tags": []
   },
   "source": [
    "In Full Time, Seniors are present in full force followed by executiuve and then the freshers."
   ]
  },
  {
   "cell_type": "markdown",
   "id": "5602790c",
   "metadata": {
    "id": "5b88c188",
    "papermill": {
     "duration": 0.041216,
     "end_time": "2023-05-12T05:43:01.313809",
     "exception": false,
     "start_time": "2023-05-12T05:43:01.272593",
     "status": "completed"
    },
    "tags": []
   },
   "source": [
    "## Top 5 Designations based on Experience"
   ]
  },
  {
   "cell_type": "code",
   "execution_count": null,
   "id": "43bacebc",
   "metadata": {
    "id": "ac83d6b3",
    "outputId": "c85e7e8e-0ab3-41f9-89c5-065c9a5c7520",
    "papermill": {
     "duration": 0.083987,
     "end_time": "2023-05-12T05:43:01.440080",
     "exception": false,
     "start_time": "2023-05-12T05:43:01.356093",
     "status": "completed"
    },
    "tags": []
   },
   "outputs": [],
   "source": [
    "exp_job = df.groupby(['experience_level','job_title']).size()\n",
    "\n",
    "entry_top5 = exp_job['Entry-level/Junior'].sort_values(ascending = False)[:5]\n",
    "executive_top5 = exp_job['Executive-level/Director'].sort_values(ascending = False)[:5]\n",
    "mid_top5 = exp_job['Mid-level/Intermediate'].sort_values(ascending = False)[:5]\n",
    "senior_top5 = exp_job['Senior-level/Expert'].sort_values(ascending = False)[:5]\n",
    "\n",
    "exp_type = df.groupby(['experience_level','employment_type']).size()\n",
    "\n",
    "fig = go.Figure(data=[\n",
    "    go.Bar(name = 'Entry-level/Junior', x = entry_top5.index, \n",
    "           y=entry_top5.values, text = entry_top5.values),\n",
    "    go.Bar(name = 'Executive-level/Director', x = executive_top5.index,\n",
    "           y = executive_top5.values, text = executive_top5.values),\n",
    "    go.Bar(name = 'Mid-level/Intermediate', x = mid_top5.index,\n",
    "           y = mid_top5.values, text = mid_top5.values ),\n",
    "    go.Bar(name = 'Senior-level/Expert', x = senior_top5.index,\n",
    "           y = senior_top5.values, text = senior_top5.values)])\n",
    "\n",
    "fig.update_layout(xaxis_tickangle = -45, title = 'Experiece Level with top 5 job designations')\n",
    "fig.show()"
   ]
  },
  {
   "cell_type": "markdown",
   "id": "ef08c86e",
   "metadata": {
    "id": "0996352b",
    "papermill": {
     "duration": 0.041925,
     "end_time": "2023-05-12T05:43:01.524471",
     "exception": false,
     "start_time": "2023-05-12T05:43:01.482546",
     "status": "completed"
    },
    "tags": []
   },
   "source": [
    "**Observations**\n",
    "\n",
    "*   Data Architect only has senior experienced people in them.\n",
    "\n",
    "* Entry-level/Junior tends to have data analyst position more in comparison to the data scientist and data engineer and ML Engineer.\n",
    "\n",
    "* Mid-level/Intermediate tends to have data sceintist and data engineer position rather than analyst.\n",
    "\n",
    "* Obviously, there's no data scientist and analyst job with Executive-level/Director but tends to have data engineer and director position.\n",
    "\n",
    "\n",
    "\n",
    "*   Research Scientist is only comprised of the mid level/intermediate position\n"
   ]
  },
  {
   "cell_type": "markdown",
   "id": "ca79e2ae",
   "metadata": {
    "id": "4f235f69",
    "papermill": {
     "duration": 0.041146,
     "end_time": "2023-05-12T05:43:01.607583",
     "exception": false,
     "start_time": "2023-05-12T05:43:01.566437",
     "status": "completed"
    },
    "tags": []
   },
   "source": [
    "## Company Size based on Experience "
   ]
  },
  {
   "cell_type": "code",
   "execution_count": null,
   "id": "89433184",
   "metadata": {
    "id": "5b256b7b",
    "outputId": "9c5a6bd3-21ce-4a33-cf2c-9e43d55f78ec",
    "papermill": {
     "duration": 0.088006,
     "end_time": "2023-05-12T05:43:01.737479",
     "exception": false,
     "start_time": "2023-05-12T05:43:01.649473",
     "status": "completed"
    },
    "tags": []
   },
   "outputs": [],
   "source": [
    "exp_size = df.groupby(['experience_level','company_size']).size()\n",
    "fig = go.Figure(data = [\n",
    "    go.Bar(name = 'Entry-level/Junior', x = exp_size['Entry-level/Junior'].index,\n",
    "           y = exp_size['Entry-level/Junior'].values, text = exp_size['Entry-level/Junior'].values),\n",
    "    go.Bar(name = 'Executive-level/Director', x = exp_size['Executive-level/Director'].index,\n",
    "           y = exp_size['Executive-level/Director'].values, text = exp_size['Executive-level/Director'].values),\n",
    "    go.Bar(name = 'Mid-level/Intermediate', x = exp_size['Mid-level/Intermediate'].index,\n",
    "           y = exp_size['Mid-level/Intermediate'].values, text = exp_size['Mid-level/Intermediate'].values),\n",
    "    go.Bar(name = 'Senior-level/Expert', x = exp_size['Senior-level/Expert'].index,\n",
    "           y = exp_size['Senior-level/Expert'].values, text = exp_size['Senior-level/Expert'].values),\n",
    "])\n",
    "fig.update_layout(xaxis_tickangle = -45, title = 'Experience Level with Company Size')\n",
    "\n",
    "fig.show()"
   ]
  },
  {
   "cell_type": "markdown",
   "id": "81bd1ff3",
   "metadata": {
    "id": "bd3176de",
    "papermill": {
     "duration": 0.044472,
     "end_time": "2023-05-12T05:43:01.824996",
     "exception": false,
     "start_time": "2023-05-12T05:43:01.780524",
     "status": "completed"
    },
    "tags": []
   },
   "source": [
    "** Observations  **:\n",
    "\n",
    "\n",
    "\n",
    "*   For large sized companies, there's mostly seniors followed by the intermediate and then the freshers. Very few executives can be seen.\n",
    "\n",
    "*   For medium sized companies, it primarily comprises of senior level then followed by the intermediate and then the entry levelers. Executive a bit prominent compared to that of the large sized companies.\n",
    "\n",
    "*   For small sized companies / startups, we see it consists all three levels apart from executives proportionally.\n",
    "\n",
    "\n"
   ]
  },
  {
   "cell_type": "markdown",
   "id": "57af955a",
   "metadata": {
    "execution": {
     "iopub.execute_input": "2022-07-25T13:46:43.699016Z",
     "iopub.status.busy": "2022-07-25T13:46:43.698652Z",
     "iopub.status.idle": "2022-07-25T13:46:43.717013Z",
     "shell.execute_reply": "2022-07-25T13:46:43.715911Z",
     "shell.execute_reply.started": "2022-07-25T13:46:43.698983Z"
    },
    "id": "0bd1d82c",
    "papermill": {
     "duration": 0.045818,
     "end_time": "2023-05-12T05:43:01.922396",
     "exception": false,
     "start_time": "2023-05-12T05:43:01.876578",
     "status": "completed"
    },
    "tags": []
   },
   "source": [
    "# 5. Company Location Analysis"
   ]
  },
  {
   "cell_type": "markdown",
   "id": "7f81c6c8",
   "metadata": {
    "id": "a6aa3615",
    "papermill": {
     "duration": 0.046746,
     "end_time": "2023-05-12T05:43:02.014312",
     "exception": false,
     "start_time": "2023-05-12T05:43:01.967566",
     "status": "completed"
    },
    "tags": []
   },
   "source": [
    "## Company Location based on Experience"
   ]
  },
  {
   "cell_type": "code",
   "execution_count": null,
   "id": "52aad782",
   "metadata": {
    "id": "b14e90b9",
    "papermill": {
     "duration": 0.368181,
     "end_time": "2023-05-12T05:43:02.440272",
     "exception": false,
     "start_time": "2023-05-12T05:43:02.072091",
     "status": "completed"
    },
    "tags": []
   },
   "outputs": [],
   "source": [
    "exp_location = df.groupby(['experience_level','company_location']).size()\n",
    "\n",
    "entry_location = exp_location['Entry-level/Junior']\n",
    "executive_location = exp_location['Executive-level/Director']\n",
    "mid_location = exp_location['Mid-level/Intermediate']\n",
    "senior_location = exp_location['Senior-level/Expert']\n",
    "\n",
    "fig1 = px.choropleth(locations = entry_location.index, color = entry_location.values,\n",
    "                    title = 'Entry-level/Junior Company Location')\n",
    "\n",
    "fig2 = px.choropleth(locations = mid_location.index, color = mid_location.values,\n",
    "                    title = 'Mid-level/Intermediate Company Location')\n",
    "\n",
    "fig3 = px.choropleth(locations = senior_location.index, color = senior_location.values,\n",
    "                    title = 'Senior-level/Expert Company Location')\n",
    "\n",
    "fig4 = px.choropleth(locations = executive_location.index, color = executive_location.values,\n",
    "                    title = 'Executive-level/Director Company Location')\n",
    "\n",
    "fig1.add_scattergeo(locations = entry_location.index, text = entry_location.values,  mode = 'text')\n",
    "fig2.add_scattergeo(locations = mid_location.index, text = mid_location.values,  mode = 'text')\n",
    "fig3.add_scattergeo(locations = senior_location.index, text = senior_location.values, mode = 'text')\n",
    "fig4.add_scattergeo(locations = executive_location.index, text = executive_location.values,  mode = 'text')\n",
    "\n",
    "fig1.show()\n",
    "fig2.show()\n",
    "fig3.show()\n",
    "fig4.show()"
   ]
  },
  {
   "cell_type": "markdown",
   "id": "0722d339",
   "metadata": {
    "id": "8b326947",
    "papermill": {
     "duration": 0.046912,
     "end_time": "2023-05-12T05:43:02.535856",
     "exception": false,
     "start_time": "2023-05-12T05:43:02.488944",
     "status": "completed"
    },
    "tags": []
   },
   "source": [
    "A higher level means tends to go to the United States\n",
    "while lower levels often mean staying in one's own country. Even though this could be biased  since the number of workers in the data field is substantially high in USA compared to the other countries."
   ]
  },
  {
   "cell_type": "markdown",
   "id": "78aa5084",
   "metadata": {
    "execution": {
     "iopub.execute_input": "2022-07-25T14:05:31.755776Z",
     "iopub.status.busy": "2022-07-25T14:05:31.755422Z",
     "iopub.status.idle": "2022-07-25T14:05:31.765781Z",
     "shell.execute_reply": "2022-07-25T14:05:31.764689Z",
     "shell.execute_reply.started": "2022-07-25T14:05:31.755747Z"
    },
    "id": "12747b26",
    "papermill": {
     "duration": 0.044128,
     "end_time": "2023-05-12T05:43:02.628204",
     "exception": false,
     "start_time": "2023-05-12T05:43:02.584076",
     "status": "completed"
    },
    "tags": []
   },
   "source": [
    "# 6. Salary Analysis"
   ]
  },
  {
   "cell_type": "markdown",
   "id": "be02945c",
   "metadata": {
    "id": "d45ebcb0",
    "papermill": {
     "duration": 0.043666,
     "end_time": "2023-05-12T05:43:02.716507",
     "exception": false,
     "start_time": "2023-05-12T05:43:02.672841",
     "status": "completed"
    },
    "tags": []
   },
   "source": [
    "## Salary based on work year"
   ]
  },
  {
   "cell_type": "code",
   "execution_count": null,
   "id": "06b8fd7e",
   "metadata": {
    "id": "5a4faaf5",
    "papermill": {
     "duration": 0.307484,
     "end_time": "2023-05-12T05:43:03.068640",
     "exception": false,
     "start_time": "2023-05-12T05:43:02.761156",
     "status": "completed"
    },
    "tags": []
   },
   "outputs": [],
   "source": [
    "work_2020 = df.loc[(df['work_year'] == 2020)]\n",
    "work_2021 = df.loc[(df['work_year'] == 2021)]\n",
    "work_2022 = df.loc[(df['work_year'] == 2022)]\n",
    "work_2023 = df.loc[(df['work_year'] == 2023)]\n",
    " \n",
    "hist_data = [work_2020['salary_in_usd'], work_2021['salary_in_usd'], \n",
    "            work_2022['salary_in_usd'], work_2023['salary_in_usd']]\n",
    "group_labels = ['2020 salary', '2021 salary', '2022 salary', '2023 salary']\n",
    "\n",
    "year_salary = pd.DataFrame(columns = ['2020', '2021', '2022', '2023'])\n",
    "year_salary['2020'] = work_2020.groupby('work_year').mean('salary_in_usd')['salary_in_usd'].values\n",
    "year_salary['2021'] = work_2021.groupby('work_year').mean('salary_in_usd')['salary_in_usd'].values\n",
    "year_salary['2022'] = work_2022.groupby('work_year').mean('salary_in_usd')['salary_in_usd'].values\n",
    "year_salary['2023'] = work_2023.groupby('work_year').mean('salary_in_usd')['salary_in_usd'].values\n",
    "\n",
    "fig1 = ff.create_distplot(hist_data, group_labels, show_hist = False)\n",
    "fig2 = go.Figure(data=px.bar(x = year_salary.columns, \n",
    "                            y = year_salary.values.tolist()[0],\n",
    "                            color = year_salary.columns,\n",
    "                            title = 'Mean Salary by Work Year'))\n",
    "\n",
    "fig1.update_layout(title = 'Salary Distribution based on Work Year')\n",
    "fig2.update_layout(xaxis_title = \"Work Year\", yaxis_title = \"Mean Salary (k)\")\n",
    "fig1.show()\n",
    "fig2.show()"
   ]
  },
  {
   "cell_type": "markdown",
   "id": "7acb087b",
   "metadata": {
    "id": "1a914165",
    "papermill": {
     "duration": 0.049998,
     "end_time": "2023-05-12T05:43:03.168903",
     "exception": false,
     "start_time": "2023-05-12T05:43:03.118905",
     "status": "completed"
    },
    "tags": []
   },
   "source": [
    "There are higher salary amounts in 2023 and 2022 than the levels in 2021 and 2020.\n",
    "\n",
    "The salary levels in 2021 and 2020 are about the same."
   ]
  },
  {
   "cell_type": "markdown",
   "id": "84cb10a9",
   "metadata": {
    "id": "564342a7",
    "papermill": {
     "duration": 0.050095,
     "end_time": "2023-05-12T05:43:03.270518",
     "exception": false,
     "start_time": "2023-05-12T05:43:03.220423",
     "status": "completed"
    },
    "tags": []
   },
   "source": [
    "## Salary based on Experience"
   ]
  },
  {
   "cell_type": "code",
   "execution_count": null,
   "id": "723145a6",
   "metadata": {
    "id": "5fde8b4a",
    "papermill": {
     "duration": 0.565265,
     "end_time": "2023-05-12T05:43:03.884794",
     "exception": false,
     "start_time": "2023-05-12T05:43:03.319529",
     "status": "completed"
    },
    "tags": []
   },
   "outputs": [],
   "source": [
    "exp_salary = df[['experience_level','salary_in_usd']]\n",
    "\n",
    "entry_salary = exp_salary.loc[exp_salary['experience_level'] == 'Entry-level/Junior']\n",
    "executive_salary = exp_salary.loc[exp_salary['experience_level'] == 'Executive-level/Director']\n",
    "mid_salary = exp_salary.loc[exp_salary['experience_level'] == 'Mid-level/Intermediate']\n",
    "senior_salary = exp_salary.loc[exp_salary['experience_level'] == 'Senior-level/Expert']\n",
    "\n",
    "hist_data = [entry_salary['salary_in_usd'], mid_salary['salary_in_usd'], senior_salary['salary_in_usd'], executive_salary['salary_in_usd']]\n",
    "group_labels = ['Entry-level/Junior', 'Mid-level/Intermediate', 'Senior-level/Expert', 'Executive-level/Director']\n",
    "\n",
    "means = [entry_salary['salary_in_usd'].mean(), mid_salary['salary_in_usd'].mean(),\n",
    "    senior_salary['salary_in_usd'].mean(), executive_salary['salary_in_usd'].mean(),]\n",
    "\n",
    "fig1 = ff.create_distplot(hist_data, group_labels, show_hist = False)\n",
    "fig2 = go.Figure(data=px.bar(x = group_labels, y = means, color = group_labels,\n",
    "                            title = 'Mean Salary by Experience Level'))\n",
    "                            \n",
    "fig1.update_layout(title = 'Salary Distribution based on Experience')\n",
    "fig2.update_layout(xaxis_title = \"Experience Level\", yaxis_title = \"Mean Salary (k) \")\n",
    "fig1.show()\n",
    "fig2.show()"
   ]
  },
  {
   "cell_type": "markdown",
   "id": "a6b3d37a",
   "metadata": {
    "id": "8ed70303",
    "papermill": {
     "duration": 0.055795,
     "end_time": "2023-05-12T05:43:03.998058",
     "exception": false,
     "start_time": "2023-05-12T05:43:03.942263",
     "status": "completed"
    },
    "tags": []
   },
   "source": [
    "We observe that the entry-level is distributed along with lower salaries while the executive-level is plotted along higher salaries."
   ]
  },
  {
   "cell_type": "markdown",
   "id": "be4ae26d",
   "metadata": {
    "id": "a14a01f3",
    "papermill": {
     "duration": 0.054326,
     "end_time": "2023-05-12T05:43:04.106243",
     "exception": false,
     "start_time": "2023-05-12T05:43:04.051917",
     "status": "completed"
    },
    "tags": []
   },
   "source": [
    "## Salary based on Company Size"
   ]
  },
  {
   "cell_type": "code",
   "execution_count": null,
   "id": "43e57ec1",
   "metadata": {
    "id": "c216a6be",
    "papermill": {
     "duration": 0.296492,
     "end_time": "2023-05-12T05:43:04.456815",
     "exception": false,
     "start_time": "2023-05-12T05:43:04.160323",
     "status": "completed"
    },
    "tags": []
   },
   "outputs": [],
   "source": [
    "company_size = df[['company_size','salary_in_usd']]\n",
    "small = exp_salary.loc[company_size['company_size'] == 'S']\n",
    "mid = exp_salary.loc[company_size['company_size'] == 'M']\n",
    "large = exp_salary.loc[company_size['company_size'] == 'L']\n",
    "hist_data = [small['salary_in_usd'], mid['salary_in_usd'], large['salary_in_usd']]\n",
    "group_labels = ['Company Size: Small', 'Company Size: Mid', 'Company Size: Large']\n",
    "\n",
    "means = [small['salary_in_usd'].mean(), mid['salary_in_usd'].mean(), large['salary_in_usd'].mean()]\n",
    "\n",
    "fig1 = ff.create_distplot(hist_data, group_labels, show_hist = False)\n",
    "fig2 = go.Figure(data = px.bar(x = group_labels, y = means, color = group_labels,\n",
    "                title = 'Mean Salary by Company Size'))\n",
    "\n",
    "fig1.update_layout(title = 'Salary Distribution based onk Company Size')\n",
    "fig2.update_layout( xaxis_title = \"Company Size\", yaxis_title = \"Mean Salary (k)\")\n",
    "fig1.show()\n",
    "fig2.show()"
   ]
  },
  {
   "cell_type": "markdown",
   "id": "4425580b",
   "metadata": {
    "id": "33acf992",
    "papermill": {
     "duration": 0.064816,
     "end_time": "2023-05-12T05:43:04.586265",
     "exception": false,
     "start_time": "2023-05-12T05:43:04.521449",
     "status": "completed"
    },
    "tags": []
   },
   "source": [
    "It is apparent that Medium sized of company is distributed along with higher salaries, and Large sized company has higher salaries than small size company.\n",
    "\n",
    "Thus, we can get a conclusion as large size company not necessarily has higher salaries than medium sized company."
   ]
  },
  {
   "cell_type": "markdown",
   "id": "d59501df",
   "metadata": {
    "id": "304d09c8",
    "papermill": {
     "duration": 0.056449,
     "end_time": "2023-05-12T05:43:04.698954",
     "exception": false,
     "start_time": "2023-05-12T05:43:04.642505",
     "status": "completed"
    },
    "tags": []
   },
   "source": [
    "## Highest salaries based on Designation"
   ]
  },
  {
   "cell_type": "code",
   "execution_count": null,
   "id": "d2612be9",
   "metadata": {
    "id": "a009708a",
    "papermill": {
     "duration": 0.165804,
     "end_time": "2023-05-12T05:43:04.921244",
     "exception": false,
     "start_time": "2023-05-12T05:43:04.755440",
     "status": "completed"
    },
    "tags": []
   },
   "outputs": [],
   "source": [
    "salary_designation = df.groupby(['salary_in_usd', 'job_title']).size().reset_index()\n",
    "salary_designation = salary_designation[-25:]\n",
    "fig = px.bar(x = salary_designation['job_title'], y = salary_designation['salary_in_usd'],\n",
    "            text = salary_designation['salary_in_usd'], color = salary_designation['salary_in_usd'])\n",
    "\n",
    "fig.update_layout( xaxis_title = \"Job Designation\", yaxis_title = \"Salaries \")\n",
    "fig.update_layout(xaxis_tickangle = -45, \n",
    "                  title = 'Top 25 Highest Salary by Designation')"
   ]
  },
  {
   "cell_type": "markdown",
   "id": "dc171edc",
   "metadata": {
    "id": "cb4a80c9",
    "papermill": {
     "duration": 0.059722,
     "end_time": "2023-05-12T05:43:05.036160",
     "exception": false,
     "start_time": "2023-05-12T05:43:04.976438",
     "status": "completed"
    },
    "tags": []
   },
   "source": [
    "Above are the 25 highest salaries listed through job designation."
   ]
  },
  {
   "cell_type": "markdown",
   "id": "89677990",
   "metadata": {
    "id": "af841de7",
    "papermill": {
     "duration": 0.057265,
     "end_time": "2023-05-12T05:43:05.150643",
     "exception": false,
     "start_time": "2023-05-12T05:43:05.093378",
     "status": "completed"
    },
    "tags": []
   },
   "source": [
    "## Average Salary based on Company Location"
   ]
  },
  {
   "cell_type": "code",
   "execution_count": null,
   "id": "f32100de",
   "metadata": {
    "id": "1740f734",
    "papermill": {
     "duration": 0.148231,
     "end_time": "2023-05-12T05:43:05.359876",
     "exception": false,
     "start_time": "2023-05-12T05:43:05.211645",
     "status": "completed"
    },
    "tags": []
   },
   "outputs": [],
   "source": [
    "salary_location = df.groupby(['salary_in_usd', 'company_location']).size().reset_index()\n",
    "means = salary_location.groupby('company_location').mean().reset_index()\n",
    "\n",
    "fig = px.choropleth(locations = means['company_location'], color = means['salary_in_usd'],\n",
    "                    title = 'Average Salary by Company Location')\n",
    "fig.show()"
   ]
  },
  {
   "cell_type": "markdown",
   "id": "77ddf488",
   "metadata": {
    "id": "6a1492cd",
    "papermill": {
     "duration": 0.05846,
     "end_time": "2023-05-12T05:43:05.478163",
     "exception": false,
     "start_time": "2023-05-12T05:43:05.419703",
     "status": "completed"
    },
    "tags": []
   },
   "source": [
    "We observe that higher average salaries have brighter colours while lower average salaries have darker colours. \n",
    "\n",
    "Here, we can see that USA and Russia have higher average salaries and brighter colours compared to the other countries."
   ]
  },
  {
   "cell_type": "code",
   "execution_count": null,
   "id": "510c0011",
   "metadata": {
    "id": "504d5847",
    "papermill": {
     "duration": 0.451496,
     "end_time": "2023-05-12T05:43:05.989115",
     "exception": false,
     "start_time": "2023-05-12T05:43:05.537619",
     "status": "completed"
    },
    "tags": []
   },
   "outputs": [],
   "source": [
    "fig, ax = plt.subplots() \n",
    "sns.heatmap(df.corr(), annot = True)\n",
    "plt.title('Confusion Matrix')"
   ]
  },
  {
   "cell_type": "markdown",
   "id": "3d0ff1f1",
   "metadata": {
    "id": "zl3f6KiERnoE",
    "papermill": {
     "duration": 0.060554,
     "end_time": "2023-05-12T05:43:06.109568",
     "exception": false,
     "start_time": "2023-05-12T05:43:06.049014",
     "status": "completed"
    },
    "tags": []
   },
   "source": [
    "Thanks for sparing your time! Do upvote if you liked it, This motivates hugely to come up with new explorations and keep exploring new domains.\n",
    "\n",
    "It would be really nice if you check my other works and if you like my work then don't forget to follow for more interesting notebooks 🤗"
   ]
  }
 ],
 "metadata": {
  "kernelspec": {
   "display_name": "Python 3 (ipykernel)",
   "language": "python",
   "name": "python3"
  },
  "language_info": {
   "codemirror_mode": {
    "name": "ipython",
    "version": 3
   },
   "file_extension": ".py",
   "mimetype": "text/x-python",
   "name": "python",
   "nbconvert_exporter": "python",
   "pygments_lexer": "ipython3",
   "version": "3.11.4"
  },
  "papermill": {
   "default_parameters": {},
   "duration": 61.815945,
   "end_time": "2023-05-12T05:43:07.799830",
   "environment_variables": {},
   "exception": null,
   "input_path": "__notebook__.ipynb",
   "output_path": "__notebook__.ipynb",
   "parameters": {},
   "start_time": "2023-05-12T05:42:05.983885",
   "version": "2.4.0"
  }
 },
 "nbformat": 4,
 "nbformat_minor": 5
}
