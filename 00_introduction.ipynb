{
 "cells": [
  {
   "cell_type": "markdown",
   "id": "9d0d6886-20fc-44df-8b40-ead95601aabf",
   "metadata": {
    "tags": []
   },
   "source": [
    "# Introduction"
   ]
  },
  {
   "cell_type": "markdown",
   "id": "1492ce17-f6c0-44d4-8153-17e12bd410f2",
   "metadata": {},
   "source": [
    "## What is JupyterLab?\n",
    "\n",
    "Let's start with the definition provided by JupyterLab.\n",
    "\n",
    "> JupyterLab is the latest web-based interactive development environment for notebooks, code, and data. Its flexible interface allows users to configure and arrange workflows in data science, scientific computing, computational journalism, and machine learning. A modular design invites extensions to expand and enrich functionality.\n",
    "\n",
    "Let's break that down. First and formost, JupyterLab is a developement environment. It is a place you can code, view and manipulate data, and create Jupyter Notebooks."
   ]
  },
  {
   "cell_type": "markdown",
   "id": "a7025cb4-6c3b-4413-99bf-1d318fab3119",
   "metadata": {},
   "source": [
    "## Why should you develop in notebooks? \n",
    "\n",
    "What makes JupyterLab - and notebooks in general - so special is that they are interative development environments; it is easy to try out small bits of code and learn by trial and error or iterating through small changes. This can make development much easier for scientists that don't have experience debugging or software engineering, but it is also simply a style of programming that works well for some people. Whether you take may be dependent what you're already used to, but may be well worth the switch if you give it a try.\n",
    "\n",
    "But even if you are going to develop in notebooks, you are going to want to develop in a well-supported development environment. Before we make the switch, we will want to make sure that JupyterLab has the same level of support as other IDE's."
   ]
  },
  {
   "cell_type": "markdown",
   "id": "d9f61670-98de-410f-ab32-b6e781ab4389",
   "metadata": {},
   "source": [
    "## What is an IDE?\n",
    "\n",
    "As stated, JupyterLab is a development environment. The point of this tutorial is to convince you that it also can serve as an IDE if you set it up with care. But let's back up. What is an IDE anyways?\n",
    "\n",
    "> An integrated development environment (IDE) is software for building applications that combines common developer tools into a single graphical user interface (GUI). An IDE typically consists of a source code editor, local build automation, and debugger. ~ [RedHat](https://www.redhat.com/en/topics/middleware/what-is-ide)\n",
    "\n",
    "IDE's have text editors that have helpful features such as syntax highlighting, language sepecific auto-completion, and linters. They have utilities that automate simple, repeatable tasks such as compiling. They have debuggers that help you dig through source code for the sources of errors in a visually helpful way. As we will see, JuptyerLab is totally capable of all these features."
   ]
  },
  {
   "cell_type": "markdown",
   "id": "ca341c22-12d5-4961-ac7b-626441efd0c5",
   "metadata": {},
   "source": [
    "## The JuptyerLab \"IDE\"\n",
    "\n",
    "This repository has two main goals: \n",
    "\n",
    "1. We aim to introduce you to features common to many integrated development environment from the comfort of JupyterLab. \n",
    "2. JupyterLab doesn't ship with all the extensions that are needed to achieve IDE status. Together, we wil build a recipe of sorts so you can create a development environment you can reuse for all your Jupyter projects. This is almost entirely achieved through the addition of JupyterLab extensions. "
   ]
  },
  {
   "cell_type": "markdown",
   "id": "f857ae0e-f005-4c57-93cf-0ed03582f75a",
   "metadata": {},
   "source": [
    "## Why should you use JupyterLab as your development environment?\n",
    "\n",
    "There are a lot of IDEs out there. Why are we encouraging you use JupyterLab? We believe that using a tool you are already familiar with, such as notebooks can reduce the mental barrier it takes to learn better software practices that IDEs enable. \n",
    "\n",
    "It's also sort of like deciding to use R vs. Python. It really depends more on which libraries are available for your domain than the features of the actual language itself. If you're a psychologist, you should probably use R. If you're bioinformatistician, you should go for Python.\n",
    "\n",
    "Likewise, data scientists, machine learning engineers, and computational scientists are well known for using for JupyterLab, which means many tools, extensions, and widgets are tailored to these audiences and usecases. Just so, you should probably use JuptyerLab if you are developing in a lot of notebooks, because it has the most open-source contributers solving problems specific to notebook users. "
   ]
  },
  {
   "cell_type": "code",
   "execution_count": null,
   "id": "973e2e97-3ad4-4235-a49b-07856b01965e",
   "metadata": {},
   "outputs": [],
   "source": []
  }
 ],
 "metadata": {
  "kernelspec": {
   "display_name": "Python 3 (ipykernel)",
   "language": "python",
   "name": "python3"
  },
  "language_info": {
   "codemirror_mode": {
    "name": "ipython",
    "version": 3
   },
   "file_extension": ".py",
   "mimetype": "text/x-python",
   "name": "python",
   "nbconvert_exporter": "python",
   "pygments_lexer": "ipython3",
   "version": "3.11.6"
  }
 },
 "nbformat": 4,
 "nbformat_minor": 5
}
