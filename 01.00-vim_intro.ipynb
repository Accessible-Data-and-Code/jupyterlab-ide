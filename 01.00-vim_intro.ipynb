{
 "cells": [
  {
   "cell_type": "markdown",
   "id": "f756081f-d9c3-499b-b3bf-702199798304",
   "metadata": {
    "tags": []
   },
   "source": [
    "# JupyterLab Command and JupyterLab Edit\n",
    "JupyterLab has two different modes when interacting with code in a notebook environment: command mode and edit mode.\n",
    "\n",
    "In command mode, the user is not directly editing any particular cells. Rather, the user is navigating the whole notebook and interacting with cells on a larger scale. If you right click on a cell, you should see options to cut, copy, and paste selected cells. Those commands are part of JupyterLab Command mode.\n",
    "\n",
    "In edit mode, the user is directly editing the contents of a cell. Without ```jupyterlab-vim```, this uses, with exceptions for JupyterLab specific shortcuts, the same keyboard shortcuts that you would use for a processor like Microsoft Word or something simple like Notepad (or whatever equivalent comes to mind for your particular operating system). With the addition of ```jupyterlab-vim```, JupyterLab Edit mode is extended into several additional modes, each tied to Vim editor.\n",
    "\n",
    "# Brief notes on Vim\n",
    "\n",
    "Vim is a text editor first released in 1991. It has several convenient keyboard shortcuts that can help with quickly editing a document. These features can be accessed through two of Vim's different modes: insert and normal. While insert and normal are not the only vim modes available (visual, command, and replace modes are also implemented), these modes are the relevant modes for understanding the additional features in JupyterLab Command. These features have been brought to JupyterLab through the ```jupyterlab-vim``` extension. If you have used Vim before, most of this next section will be stuff you are already acquainted with. If you haven't used Vim before but you are interested in learning more and applying it to the JupyterLab environment, there are several excellent tutorials for how to use Vim. For now, we will stick to some basics in Vim's normal mode. These things serve as a precursor for how ```jupyterlab-vim``` operates uniquely with the cell-based notebook environment.\n",
    "\n",
    "## Things you can do in Vim normal mode\n",
    "When you first edit text in a cell with the Vim extension enabled, you will start with a blinking cursor that indicates you are in normal mode. If you are editing a cell in insert mode, you can press <kbd>Escape</kbd> to enter normal mode.\n",
    "\n",
    "In normal mode, you can do the following things:\n",
    "Keystrokes | Effects\n",
    ":---:|---\n",
    "<kbd>D</kbd> + <kbd>D</kbd> | This deletes a line and copies it to the clipboard\n",
    "<kbd>Y</kbd> + <kbd>Y</kbd> | This copies a line to the clipboard\n",
    "<kbd>P</kbd> | This pastes from the keyboard\n",
    "<kbd>U</kbd> | This will undo an action in normal mode\n",
    "<kbd>O</kbd> | This will add a line after the current line\n",
    "<kbd>K</kbd> | Move up one line\n",
    "<kbd>J</kbd> | Move down one line\n",
    "<kbd>G</kbd> + <kbd>G</kbd> | Select the first line\n",
    "<kbd>Shift</kbd> + <kbd>G</kbd> | Select the last line\n",
    "\n",
    "Versions of these, but applied to cells in JupyterLab Command mode, also exist. We will learn more about them later! For now, play around a little bit. Below is the classic lorem ipsum text in a markdown cell. Try out some of these keystrokes."
   ]
  },
  {
   "cell_type": "markdown",
   "id": "79b04cd2-4eca-44ad-b8c6-350fbb14dd56",
   "metadata": {
    "tags": []
   },
   "source": [
    "Lorem ipsum dolor sit amet, consectetur adipiscing elit, sed do eiusmod tempor incididunt ut labore et dolore magna aliqua. Amet consectetur adipiscing elit ut aliquam purus sit amet. Facilisi nullam vehicula ipsum a arcu. Faucibus scelerisque eleifend donec pretium. Risus pretium quam vulputate dignissim suspendisse. Nulla posuere sollicitudin aliquam ultrices sagittis orci a scelerisque purus. Viverra mauris in aliquam sem fringilla ut. Elementum nibh tellus molestie nunc non blandit massa enim nec. Amet est placerat in egestas. Pharetra diam sit amet nisl suscipit adipiscing bibendum. Quis hendrerit dolor magna eget. Nec feugiat in fermentum posuere.\n",
    "\n",
    "Neque gravida in fermentum et sollicitudin ac. Pellentesque pulvinar pellentesque habitant morbi tristique senectus et. Nullam vehicula ipsum a arcu cursus. Sed lectus vestibulum mattis ullamcorper. Massa massa ultricies mi quis hendrerit dolor magna eget. Nulla aliquet porttitor lacus luctus accumsan tortor. Habitasse platea dictumst quisque sagittis purus sit. Semper eget duis at tellus at urna. Id donec ultrices tincidunt arcu non sodales neque. Nisl rhoncus mattis rhoncus urna neque viverra. Semper viverra nam libero justo laoreet. Maecenas sed enim ut sem viverra.\n",
    "\n",
    "Eu consequat ac felis donec. Egestas tellus rutrum tellus pellentesque. Fermentum posuere urna nec tincidunt praesent semper feugiat. Arcu ac tortor dignissim convallis aenean et tortor at. A diam sollicitudin tempor id eu nisl nunc. Ut sem nulla pharetra diam sit amet nisl suscipit adipiscing. Natoque penatibus et magnis dis parturient. Id eu nisl nunc mi ipsum. Fusce ut placerat orci nulla pellentesque dignissim enim sit amet. Id aliquet risus feugiat in ante metus dictum at tempor. Donec ultrices tincidunt arcu non. Sociis natoque penatibus et magnis. Eu nisl nunc mi ipsum. Aliquam faucibus purus in massa tempor nec feugiat. Nunc aliquet bibendum enim facilisis.\n",
    "\n",
    "Massa placerat duis ultricies lacus sed turpis. Quis risus sed vulputate odio ut enim blandit volutpat. Ut faucibus pulvinar elementum integer enim neque volutpat ac tincidunt. Cursus mattis molestie a iaculis at erat pellentesque adipiscing. Ac turpis egestas sed tempus. Tellus pellentesque eu tincidunt tortor aliquam nulla facilisi cras fermentum. Amet porttitor eget dolor morbi non arcu risus. Enim praesent elementum facilisis leo vel fringilla est. Lectus mauris ultrices eros in cursus. Vulputate mi sit amet mauris. Fermentum posuere urna nec tincidunt praesent semper feugiat nibh. Fames ac turpis egestas maecenas pharetra convallis. Egestas quis ipsum suspendisse ultrices. Sed nisi lacus sed viverra. Fermentum et sollicitudin ac orci phasellus egestas tellus rutrum. Nulla facilisi morbi tempus iaculis urna id volutpat. Aenean euismod elementum nisi quis eleifend quam adipiscing vitae. Nec sagittis aliquam malesuada bibendum. Varius duis at consectetur lorem donec massa. Faucibus in ornare quam viverra orci sagittis eu volutpat odio.\n",
    "\n",
    "Leo integer malesuada nunc vel risus commodo viverra. Convallis tellus id interdum velit laoreet id donec ultrices. Libero nunc consequat interdum varius sit amet mattis vulputate. Faucibus ornare suspendisse sed nisi lacus sed viverra tellus in. Risus ultricies tristique nulla aliquet enim tortor at auctor. Egestas tellus rutrum tellus pellentesque eu tincidunt tortor aliquam. Ultrices eros in cursus turpis massa tincidunt dui ut ornare. Purus faucibus ornare suspendisse sed nisi lacus sed viverra tellus. Ac auctor augue mauris augue. Sit amet consectetur adipiscing elit. Egestas tellus rutrum tellus pellentesque eu tincidunt tortor. Porttitor rhoncus dolor purus non. Non quam lacus suspendisse faucibus interdum posuere."
   ]
  },
  {
   "cell_type": "markdown",
   "id": "83b6be64-0dc6-4690-9e92-3a387a1e84ea",
   "metadata": {
    "tags": []
   },
   "source": [
    "## 1) Get used to moving into/selecting adjacent cells in normal mode\n",
    "\n",
    "\n",
    "Now that you are more familiar with how to use Vim keybindings in normal mode, you should learn how to move into adjacent cells from normal mode. To move into adjacent cells, use:\n",
    "\n",
    "Keystrokes | Effects\n",
    ":---:|---\n",
    "<kbd>Ctrl</kbd> + <kbd>K</kbd> | Select the cell above\n",
    "<kbd>Ctrl</kbd> + <kbd>J</kbd> | Select the cell below\n",
    "\n",
    "Using only these keystrokes and <kbd>Shift</kbd> + <kbd>Enter</kbd>, run the following cells in the correct order, as listed in the cells themselves, to finish the exercise."
   ]
  },
  {
   "cell_type": "raw",
   "id": "88700b2c-17f2-41a2-9f95-ba023b88de58",
   "metadata": {},
   "source": [
    "For this exercise, create a couple of different cells (does six seem right?) with boolean values that are contingent on other cells having been run beforehand. Put them in a non-standard order. Tell the user to switch between cells in order to have each boolean become true. Mention that switching in this way runs a cell automatically for markdown but not code cells. Also note that this keybinding ctrl j ctrl k works in insert mode as well."
   ]
  },
  {
   "cell_type": "markdown",
   "id": "8913db31-f4f7-42d9-ad16-2c38c7515083",
   "metadata": {
    "tags": []
   },
   "source": [
    "## 2) Get used to selecting multiple cells at the same time in normal mode\n",
    "\n",
    "Much like the previous exercise, this exercise is about moving to adjacent cells. This time though, you are selecting multiple cells at once. To do this use:\n",
    "\n",
    "Keystrokes | Effects\n",
    ":---:|---\n",
    "<kbd>Ctrl</kbd> + <kbd>Shift</kbd> + <kbd>K</kbd> | Extend selection to the cell above\n",
    "<kbd>Ctrl</kbd> + <kbd>Shift</kbd> + <kbd>J</kbd> | Extend selection to the cell below\n",
    "\n",
    "Like before, use only these keystrokes and <kbd>Shift</kbd> + <kbd>Enter</kbd> to run the following cells all at once and finish the exercise."
   ]
  },
  {
   "cell_type": "raw",
   "id": "37e4ae64-9b6d-419c-b348-7ecbd8c476df",
   "metadata": {
    "tags": []
   },
   "source": [
    "Note on this that you can run selected cells using shift enter. This will help with later parts of the tutorial.\n",
    "\n",
    "You can select multiple cells at one time with normal mode and Jupyter mode. In normal mode, you can select these cells using \"ctrl + shift + j\" to select below and \"ctrl + shift + k\" to select above."
   ]
  },
  {
   "cell_type": "code",
   "execution_count": 2,
   "id": "b7aae8a3-269b-4b32-bcb7-4c7e90e9aa58",
   "metadata": {},
   "outputs": [],
   "source": [
    "## Select this cell ..."
   ]
  },
  {
   "cell_type": "code",
   "execution_count": 3,
   "id": "a2e6d1ee-a79d-47b0-bfbe-219bedc0e831",
   "metadata": {},
   "outputs": [],
   "source": [
    "## ... and this cell ..."
   ]
  },
  {
   "cell_type": "code",
   "execution_count": 4,
   "id": "0d8ef1c8-5bcc-4525-8a43-ce486fadf5b3",
   "metadata": {},
   "outputs": [],
   "source": [
    "## ... and even this cell!"
   ]
  },
  {
   "cell_type": "markdown",
   "id": "5080356c-1716-4a0d-bd6d-06ea970996a9",
   "metadata": {},
   "source": [
    "## 3) Get used to moving into/selecting the first and last cells in normal mode\n",
    "\n",
    "Before we get much further, you might have noticed that moving around with <kbd>Ctrl</kbd> + <kbd>J/K</kbd> can move into cells without centering them on the screen. This can be annoying, but it is also fixable. To demonstrate how to do this, we have the following shortcuts:\n",
    "\n",
    "Keystrokes | Effects\n",
    ":---:|---\n",
    "<kbd>Ctrl</kbd> + <kbd>O</kbd> + <kbd>G</kbd> | Select the first cell in the Jupyter Notebook\n",
    "<kbd>Ctrl</kbd> + <kbd>O</kbd> + <kbd>Ctrl</kbd> + <kbd>G</kbd> | Select the last cell in the Jupyter Notebook\n",
    "<kbd>Ctrl</kbd> + <kbd>O</kbd> + <kbd>Z</kbd> + <kbd>Z</kbd> | Center the selected cell on the screen\n",
    "\n",
    "Using these keystrokes, move to the top of this notebook and move to the bottom of this notebook. When at the last cell of the notebook, center it on the screen. When you are done, move onto exercise 4."
   ]
  },
  {
   "cell_type": "raw",
   "id": "889fde45-02c1-4e3e-8832-f50bed608dc2",
   "metadata": {},
   "source": [
    "Include in this the keybindings. In the last cell of the document, also include how to center the cell. Centering the cell is probably best put here. Be open to changes for this."
   ]
  },
  {
   "cell_type": "markdown",
   "id": "efb35dc5-29c0-4d9f-893b-ed8a96822ba6",
   "metadata": {},
   "source": [
    "## 4) Getting used to moving cells around\n",
    "\n",
    "Moving and reordering cells can be a very useful ability. This exercise is about using normal mode to move cells into a particular order. This can be done with:\n",
    "\n",
    "Keystrokes | Effects\n",
    ":---:|---\n",
    "<kbd>Ctrl</kbd> + <kbd>Y</kbd> | Move the current cell up\n",
    "<kbd>Ctrl</kbd> + <kbd>E</kbd> | Move the current cell down\n",
    "\n",
    "Using these keystrokes as well as those for selecting adjacent cells, move the cells below into the order listed by the cells in order to complete the exercise."
   ]
  },
  {
   "cell_type": "raw",
   "id": "dc4559c3-2058-43f1-a729-023ba2f5652f",
   "metadata": {},
   "source": [
    "When implementing this exercise, it may be best to uninstall and reinstall the extension to see if it clears up some of the bugs. Document these results.\n",
    "\n",
    "There are several ways to move cells around using ```vim``` keybindings. In 'normal' mode, you can use \"ctrl + e\" to move the cell you are interacting with down one cell and \"ctrl + y\" to move the cell up. (Moving up seems to be bugged right now). In 'insert' mode, you cannot use this same approach."
   ]
  },
  {
   "cell_type": "code",
   "execution_count": 1,
   "id": "a0eebc0b-0410-4635-9628-4553ab74def9",
   "metadata": {
    "tags": []
   },
   "outputs": [],
   "source": [
    "# Do not alter or move this cell\n",
    "\n",
    "second = False\n",
    "third = False"
   ]
  },
  {
   "cell_type": "code",
   "execution_count": 2,
   "id": "2fba033e-d2af-49d9-860a-affd022c0fc6",
   "metadata": {
    "tags": []
   },
   "outputs": [],
   "source": [
    "# Put this cell second\n",
    "\n",
    "second = True"
   ]
  },
  {
   "cell_type": "code",
   "execution_count": 3,
   "id": "aa49f41e-5af2-47af-b15f-a7f11042789c",
   "metadata": {
    "tags": []
   },
   "outputs": [],
   "source": [
    "# Put this cell third\n",
    "\n",
    "if second == True:\n",
    "    third = True"
   ]
  },
  {
   "cell_type": "code",
   "execution_count": 4,
   "id": "590d899b-850c-4635-935f-eac69d196aeb",
   "metadata": {
    "tags": []
   },
   "outputs": [
    {
     "name": "stdout",
     "output_type": "stream",
     "text": [
      "Hooray!\n"
     ]
    }
   ],
   "source": [
    "if third == True:\n",
    "    print(\"Hooray!\")\n",
    "else:\n",
    "    print(\"Sorry, not quite!\")"
   ]
  },
  {
   "cell_type": "markdown",
   "id": "cc770583-9124-4f46-88ef-d100c032d0dd",
   "metadata": {},
   "source": [
    "## 5) Get used to inserting cells below and above using normal mode\n",
    "\n",
    "In addition to moving cells around, you can also insert cells above or below the currently selected cell. You can use the following keyboard shortcuts:\n",
    "\n",
    "Keystrokes | Effects\n",
    ":---:|---\n",
    "<kbd>Ctrl</kbd> + <kbd>O</kbd> + <kbd>Ctrl</kbd> + <kbd>O</kbd> | Insert a cell above\n",
    "<kbd>Ctrl</kbd> + <kbd>O</kbd> + <kbd>O</kbd> | Insert a cell below\n",
    "\n",
    "Using these shortcuts, add three cells above and below the cell marked for this exercise. Once you're done, run the code block labeled as the verifier to check that you have the right number of cells."
   ]
  },
  {
   "cell_type": "raw",
   "id": "2d770d3f-0096-4996-a9f1-b0f0b4b3f581",
   "metadata": {},
   "source": [
    "Have a cell around which the user inserts cells. Tell the user to insert a certain number of cells above and a certain number of cells below using the appropriate shortcuts (maybe 3 or 4). Attempt an implementation where, using [this tutorial](https://www.geeksforgeeks.org/read-json-file-using-python/https://www.geeksforgeeks.org/read-json-file-using-python), the notebook that the user has edited is read in and the markdown cell explaining the exercise is identified. If this is possible, the rest should just be array manipulation. Spend no more than 30 minutes attempting the implementation. This is a reach goal."
   ]
  },
  {
   "cell_type": "code",
   "execution_count": null,
   "id": "173d4e74-5ecd-45a6-8afd-6863433b1e13",
   "metadata": {},
   "outputs": [],
   "source": []
  },
  {
   "cell_type": "markdown",
   "id": "046226de-17a5-4e77-8846-954d6dabdc87",
   "metadata": {},
   "source": [
    "## 6) Go over how to yank, delete, and paste cells\n",
    "\n",
    "If you want to copy a cell, delete a cell, or paste a cell anywhere in the notebook, there are ways to do that as well. To do it, use the following:\n",
    "\n",
    "Keystrokes | Effects\n",
    ":---:|---\n",
    "<kbd>Ctrl</kbd> + <kbd>O</kbd> + <kbd>Y</kbd> | Copy or 'yank' the currently selected cell onto your system clipboard\n",
    "<kbd>Ctrl</kbd> + <kbd>O</kbd> + <kbd>D</kbd> | Cut or 'delete' the currently selected cell onto your system clipboard\n",
    "<kbd>Ctrl</kbd> + <kbd>O</kbd> + <kbd>P</kbd> | Paste a cell from your system clipboard below the currently selected cell\n",
    "\n",
    "There are several simple tasks for this exercise. While navigating around with Vim keybindings, remove cells that tell you to remove them and place them where they're needed, copy the cells that you're instructed to copy and paste them as many times as you're told to paste them. Afterwards, select all the cells for the exercise and run them to complete the exercise"
   ]
  },
  {
   "cell_type": "raw",
   "id": "a72e5a72-3dd0-4a46-98e4-4b50259e2d4c",
   "metadata": {},
   "source": [
    "This isn't horribly difficult. You could probably get away with doing this using just the select multiple cells task as a way to run all the cells. Include in this exercise simple booleans deleting, not much different from the cell movement exercise. For the yanking and pasting, add a variable with summands so that it's possible to yank it and paste it multiple times. Once it has been pasted enough, it should be possible to just run all the cells and get a multi-conditional if gate to print out success or failure based on variables."
   ]
  },
  {
   "cell_type": "markdown",
   "id": "a63b05ac-0723-4f72-b53c-abceca89b5a7",
   "metadata": {},
   "source": [
    "## 7) Go over the various ways that you can turn cells into markdown, code, or raw"
   ]
  },
  {
   "cell_type": "raw",
   "id": "46a3544f-1544-44c4-9e74-335354144bfd",
   "metadata": {},
   "source": [
    "Nothing complicated needs to be here. This is another area where the json evaluator would be a good way to make the exercise checkable. Recall that the file needs to be saved before using any json checking."
   ]
  },
  {
   "cell_type": "markdown",
   "id": "d8ccbc43-8984-44ba-9258-03521f98995d",
   "metadata": {},
   "source": [
    "##### I want to be turned into a code cell, please!!!"
   ]
  },
  {
   "cell_type": "code",
   "execution_count": 13,
   "id": "f4c6ff88-941c-4a88-988c-998b316143af",
   "metadata": {
    "tags": []
   },
   "outputs": [],
   "source": [
    "## I want to be turned into a markdown cell :)"
   ]
  },
  {
   "cell_type": "markdown",
   "id": "a7ef7470-93dc-4bca-81fa-69e2ae1ecb0e",
   "metadata": {},
   "source": [
    "## 8) Split a cell into two and remove the extra cell"
   ]
  },
  {
   "cell_type": "raw",
   "id": "891d112f-6f75-4fc3-9115-2438d1eb6a4e",
   "metadata": {},
   "source": [
    "This one is already essentially explained by the code below. The best way to handle it is probably just a couple of code splits and deletions. It is also possible to merge selected cells together using shift m. Maybe have an incomplete python function call that is completed after merging two cells? This is possible without even removing the extra space left in a merge."
   ]
  },
  {
   "cell_type": "code",
   "execution_count": 14,
   "id": "7be6fb30-1174-4282-b4d3-20f1e18f1244",
   "metadata": {
    "tags": []
   },
   "outputs": [],
   "source": [
    "split = True\n",
    "# Split this cell into two by exiting Vim Insert Mode by pressing \"esc\" and then move your cursor over the line you want to split at and press \"-\"\n",
    "\n",
    "# This text should be in the next cell\n",
    "split = False"
   ]
  },
  {
   "cell_type": "markdown",
   "id": "fad7d5f4-c521-45bd-9bff-1d07b0fc39ae",
   "metadata": {
    "tags": []
   },
   "source": [
    "# Switching into Jupyter Command mode (copying relevant normal exercises) (6 exercises to go)"
   ]
  },
  {
   "cell_type": "raw",
   "id": "45878758-a1bc-47b1-b307-73d3ec5dfe8b",
   "metadata": {
    "tags": []
   },
   "source": [
    "It's worth mentioning that Jupyter Command mode, from insert, can be entered with shift esc from Jupyter Insert mode and Jupyter Insert mode can be entered with enter. This does not have to be made into an exercise, but it would not be a bad way to approach the problem either. For now, just assume that there's a reason to do that sort of thing and just explain the transition.\n",
    "\n",
    "Explain also that it is possible to, for the most part, take the normal keybindings and apply them to Jupyter Command mode now. It's not fully true, but dropping the ctrl from a lot of the cell navigation keybinding of normal vim is mostly what happens with Jupyter Command mode."
   ]
  },
  {
   "cell_type": "raw",
   "id": "8a254096-542d-403c-9d92-7b5690117b84",
   "metadata": {},
   "source": [
    "Somewhere in all this mess, you need to explain that there are two different clipboards for the two different modes, JupyterLab Command and JupyterLab edit."
   ]
  },
  {
   "cell_type": "markdown",
   "id": "e2f817d8-048f-47df-b6ed-ec329f869317",
   "metadata": {},
   "source": [
    "## 9) Selecting adjacent cells"
   ]
  },
  {
   "cell_type": "raw",
   "id": "ee4b9421-e7f1-4998-91ab-3a93f36ae308",
   "metadata": {},
   "source": [
    "Copy exercise 1"
   ]
  },
  {
   "cell_type": "markdown",
   "id": "9cf77954-2ad0-4427-b577-c73c9d0d9882",
   "metadata": {},
   "source": [
    "## 10) Selecting multiple cells"
   ]
  },
  {
   "cell_type": "raw",
   "id": "efce7a73-ff2b-47c2-8685-975e491b4d2f",
   "metadata": {},
   "source": [
    "Utilize the fact that you can use j and k in Jupyter Command mode to move between cells, have the user use shift j and shift k to select multiple cells. Essentially copy the exercise 2"
   ]
  },
  {
   "cell_type": "markdown",
   "id": "b53b61af-3e14-41b1-ade5-3bccfc0a6c81",
   "metadata": {},
   "source": [
    "## 11) Selecting the first and last cells"
   ]
  },
  {
   "cell_type": "raw",
   "id": "9e3891ea-0e8e-40aa-baa6-9ddcb031d958",
   "metadata": {},
   "source": [
    "Copy exercise 3"
   ]
  },
  {
   "cell_type": "markdown",
   "id": "c3d4bbd7-5819-4c2e-a116-c8efa7a2d117",
   "metadata": {},
   "source": [
    "## 12) Moving cells around"
   ]
  },
  {
   "cell_type": "raw",
   "id": "7afad502-fa99-4360-ab0a-ae3fa827f7f4",
   "metadata": {},
   "source": [
    "Copy exercise 4"
   ]
  },
  {
   "cell_type": "code",
   "execution_count": 9,
   "id": "538a381e-8f75-4a3b-89ed-e7276bd9c475",
   "metadata": {
    "tags": []
   },
   "outputs": [],
   "source": [
    "# Do not alter or move this cell\n",
    "\n",
    "second = False\n",
    "third = False"
   ]
  },
  {
   "cell_type": "code",
   "execution_count": 10,
   "id": "447b214b-6372-4660-be49-566de1810b1e",
   "metadata": {
    "tags": []
   },
   "outputs": [],
   "source": [
    "# Put this cell second\n",
    "\n",
    "second = True"
   ]
  },
  {
   "cell_type": "code",
   "execution_count": 11,
   "id": "19a2ff6b-1885-48d0-8e2c-350065875584",
   "metadata": {
    "tags": []
   },
   "outputs": [],
   "source": [
    "# Put this cell third\n",
    "\n",
    "if second == True:\n",
    "    third = True"
   ]
  },
  {
   "cell_type": "code",
   "execution_count": 12,
   "id": "66d01bac-ce60-4f17-8b4d-d5f535c22cc8",
   "metadata": {
    "tags": []
   },
   "outputs": [
    {
     "name": "stdout",
     "output_type": "stream",
     "text": [
      "Hooray!\n"
     ]
    }
   ],
   "source": [
    "if third == True:\n",
    "    print(\"Hooray!\")\n",
    "else:\n",
    "    print(\"Sorry, not quite!\")"
   ]
  },
  {
   "cell_type": "markdown",
   "id": "776bea87-67e1-4c33-8578-b5aecc912c58",
   "metadata": {},
   "source": [
    "## 13) Inserting cells above and below a particular cell"
   ]
  },
  {
   "cell_type": "raw",
   "id": "e01fba32-02ab-4ccf-a8c5-13b71a75c1de",
   "metadata": {},
   "source": [
    "Copy exercise 5"
   ]
  },
  {
   "cell_type": "markdown",
   "id": "2b0972b7-dfaa-4502-94be-73d0c83f369a",
   "metadata": {},
   "source": [
    "## 14) Go through yanking, pasting, and deleting"
   ]
  },
  {
   "cell_type": "raw",
   "id": "4f1b438d-ab64-44ca-b12a-0504f5594f3c",
   "metadata": {},
   "source": [
    "Copy exercise 6"
   ]
  },
  {
   "cell_type": "markdown",
   "id": "b042daaa-b5c3-4eb6-b03e-55b722475c15",
   "metadata": {},
   "source": [
    "## Repeat that exercise, but with the Jupyter command bindings\n"
   ]
  },
  {
   "cell_type": "markdown",
   "id": "ba569b28-6d7d-4ae3-bb6a-ae32c9441c98",
   "metadata": {},
   "source": [
    "## Hiding code cells (2 exercises) for individual code cells and all code cells"
   ]
  },
  {
   "cell_type": "raw",
   "id": "3c79cff7-ad8f-48d0-aed1-5da5a487c620",
   "metadata": {},
   "source": [
    "This is less of an exercise and more of just a note"
   ]
  },
  {
   "cell_type": "markdown",
   "id": "b53900b2-dcd1-4bab-b2a1-21e7df0c6343",
   "metadata": {},
   "source": [
    "## Navigating in normal mode with <kbd>H</kbd>, <kbd>J</kbd>, <kbd>J</kbd>, and <kbd>L</kbd>\n",
    "\n",
    "In Vim normal mode, we already saw that <kbd>J</kbd> could be used to navigate down one line and <kbd>K</kbd> used to navigate up one line. That rule is true in normal mode and for much other navigation. While it is outside the scope of this tutorial to practice, users can press <kbd>H</kbd> and <kbd>L</kbd> to navigate left and right respectively in a document using normal mode. This allows users to keep their right hand from the arrowkeys and, theoretically, speeds up document editing and navigation. This and other quality of life features can be found in any number of Vim tutorials. If the Vim extension would be useful to you and you haven't had much practice with Vim, it may be worth looking into more documentation about Vim later."
   ]
  }
 ],
 "metadata": {
  "kernelspec": {
   "display_name": "Python 3 (ipykernel)",
   "language": "python",
   "name": "python3"
  },
  "language_info": {
   "codemirror_mode": {
    "name": "ipython",
    "version": 3
   },
   "file_extension": ".py",
   "mimetype": "text/x-python",
   "name": "python",
   "nbconvert_exporter": "python",
   "pygments_lexer": "ipython3",
   "version": "3.11.4"
  }
 },
 "nbformat": 4,
 "nbformat_minor": 5
}
